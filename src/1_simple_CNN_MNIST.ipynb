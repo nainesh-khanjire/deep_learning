{
 "cells": [
  {
   "cell_type": "markdown",
   "metadata": {
    "id": "wRi7tKb1B6EF"
   },
   "source": [
    "## MNIST Digit Recognition using CNN - Asimple solution"
   ]
  },
  {
   "cell_type": "markdown",
   "metadata": {
    "id": "NYiDV6TwB6EH"
   },
   "source": [
    "### a) Load the data set and understand the data\n",
    "Details of data @ http://yann.lecun.com/exdb/mnist/\n",
    "\n",
    "MNIST: Modified National Institute of Standards and Technology database"
   ]
  },
  {
   "cell_type": "code",
   "execution_count": 1,
   "metadata": {
    "colab": {
     "base_uri": "https://localhost:8080/"
    },
    "id": "HOF_22LGB6EH",
    "outputId": "ae0ac321-733a-4cf7-e8d3-fcd3d60189da"
   },
   "outputs": [
    {
     "name": "stdout",
     "output_type": "stream",
     "text": [
      "Downloading data from https://storage.googleapis.com/tensorflow/tf-keras-datasets/mnist.npz\n",
      "11490434/11490434 [==============================] - 1s 0us/step\n"
     ]
    }
   ],
   "source": [
    "# Import MNIST data set\n",
    "from keras.datasets import mnist\n",
    "\n",
    "# Download mnist data and split into train and test sets\n",
    "(X_train, y_train), (X_test, y_test) = mnist.load_data()"
   ]
  },
  {
   "cell_type": "code",
   "execution_count": null,
   "metadata": {
    "id": "BBK74A38B6EI"
   },
   "outputs": [],
   "source": [
    "#?mnist.load_data\n"
   ]
  },
  {
   "cell_type": "markdown",
   "metadata": {
    "id": "1WvB_r4EB6EI"
   },
   "source": [
    "MNIST is a digts data set. It contains the images of 70,000 digits from 0 to 9.\n",
    "- Total 70,000 images provided in the dataset, \n",
    "- 60,000 are given for training \n",
    "- 10,000 are given for testing.\n",
    "- X_train and X_test will contain the train and test images\n",
    "- y_train and y_test will contain the digits that those images represent."
   ]
  },
  {
   "cell_type": "code",
   "execution_count": 2,
   "metadata": {
    "colab": {
     "base_uri": "https://localhost:8080/",
     "height": 282
    },
    "id": "zj6J5mdKB6EI",
    "outputId": "c78b4929-4d54-41d4-9458-bf3fa6486093"
   },
   "outputs": [
    {
     "data": {
      "text/plain": [
       "<matplotlib.image.AxesImage at 0x7fe7ec8ca7f0>"
      ]
     },
     "execution_count": 2,
     "metadata": {},
     "output_type": "execute_result"
    },
    {
     "data": {
      "image/png": "[encoded data removed]",
      "text/plain": [
       "<Figure size 432x288 with 1 Axes>"
      ]
     },
     "metadata": {
      "needs_background": "light"
     },
     "output_type": "display_data"
    }
   ],
   "source": [
    "# Let us look at one image - We need matplotlib for visulaizing it\n",
    "import matplotlib.pyplot as plt\n",
    "\n",
    "# Plot first image from the data set\n",
    "\n",
    "plt.imshow(X_train[0], cmap=plt.cm.Greys)"
   ]
  },
  {
   "cell_type": "code",
   "execution_count": 3,
   "metadata": {
    "colab": {
     "base_uri": "https://localhost:8080/"
    },
    "id": "oNLZp_00B6EJ",
    "outputId": "5b188fd2-9670-434c-8406-101624222fb0"
   },
   "outputs": [
    {
     "data": {
      "text/plain": [
       "(28, 28)"
      ]
     },
     "execution_count": 3,
     "metadata": {},
     "output_type": "execute_result"
    }
   ],
   "source": [
    "# What is the shape of each image? \n",
    "# Print the shape of first image from the train data set\n",
    "# By default, the shape of every image in the mnist dataset is 28 x 28\n",
    "X_train[0].shape"
   ]
  },
  {
   "cell_type": "code",
   "execution_count": 4,
   "metadata": {
    "colab": {
     "base_uri": "https://localhost:8080/"
    },
    "id": "CX2UEWFyB6EJ",
    "outputId": "b280da46-aa54-4f15-d288-252c87b32b12"
   },
   "outputs": [
    {
     "name": "stdout",
     "output_type": "stream",
     "text": [
      "(60000, 28, 28)\n",
      "(10000, 28, 28)\n"
     ]
    }
   ],
   "source": [
    "# Get the dimensions of train and test data\n",
    "print(X_train.shape)\n",
    "print(X_test.shape)"
   ]
  },
  {
   "cell_type": "markdown",
   "metadata": {
    "id": "oQe_ytarB6EJ"
   },
   "source": [
    "### b) Prepare the data to fit into the shape required\n",
    "Next, we need to reshape our dataset inputs (X_train and X_test) to the shape that our model expects when we train the model. The first number is the number of images (60,000 for X_train and 10,000 for X_test). Then comes the shape of each image (28x28). The last number is 1, which signifies that the images are greyscale."
   ]
  },
  {
   "cell_type": "code",
   "execution_count": 5,
   "metadata": {
    "id": "UzQDLzqWB6EJ"
   },
   "outputs": [],
   "source": [
    "# We reshape the training and test data sets to be a 4D tensor.\n",
    "# Dimensions: num_images x 28 (h) x 28 (w) x 1 (d)\n",
    "# The 1 is because we have a single channel (greyscale). \n",
    "# If RGB color images, we'd have 3 channels.\n",
    "\n",
    "X_train = X_train.reshape(60000, 28, 28, 1).astype('float32')\n",
    "X_test = X_test.reshape(10000, 28, 28, 1).astype('float32')\n",
    "\n",
    "input_shape = (28, 28, 1) # For one image"
   ]
  },
  {
   "cell_type": "code",
   "execution_count": 6,
   "metadata": {
    "colab": {
     "base_uri": "https://localhost:8080/"
    },
    "id": "mcrFDjlUB6EK",
    "outputId": "ddfadf44-edbb-416d-da0d-5374d5b9b43a"
   },
   "outputs": [
    {
     "data": {
      "text/plain": [
       "((60000, 28, 28, 1), (10000, 28, 28, 1))"
      ]
     },
     "execution_count": 6,
     "metadata": {},
     "output_type": "execute_result"
    }
   ],
   "source": [
    "X_train.shape, X_test.shape"
   ]
  },
  {
   "cell_type": "markdown",
   "metadata": {
    "id": "RcphBrjCB6EK"
   },
   "source": [
    "We need to ‘one-hot-encode’ our target variable. This means that a column will be created for each output category and a binary variable is inputted for each category. For example, we saw that the first image in the dataset is a 5. This means that the sixth number in our array will have a 1 and the rest of the array will be filled with 0."
   ]
  },
  {
   "cell_type": "code",
   "execution_count": 7,
   "metadata": {
    "colab": {
     "base_uri": "https://localhost:8080/"
    },
    "id": "VjIZG3iZB6EK",
    "outputId": "de71badb-01d5-43ed-c56c-6ea18f6a5a85"
   },
   "outputs": [
    {
     "data": {
      "text/plain": [
       "array([5, 0, 4, ..., 5, 6, 8], dtype=uint8)"
      ]
     },
     "execution_count": 7,
     "metadata": {},
     "output_type": "execute_result"
    }
   ],
   "source": [
    "y_train"
   ]
  },
  {
   "cell_type": "code",
   "execution_count": 8,
   "metadata": {
    "id": "eza1S_qRB6EK"
   },
   "outputs": [],
   "source": [
    "# # We convert the class labels to binary class matrices\n",
    "from keras.utils.np_utils import to_categorical\n",
    "\n",
    "# # one-hot encode target column\n",
    "y_train = to_categorical(y_train)\n",
    "y_test = to_categorical(y_test)"
   ]
  },
  {
   "cell_type": "code",
   "execution_count": null,
   "metadata": {
    "id": "VkC5tIrJB6EL",
    "outputId": "91e2b9e2-6a84-43cc-8053-5274462cff48"
   },
   "outputs": [
    {
     "data": {
      "text/plain": [
       "array([0., 0., 0., 0., 0., 1., 0., 0., 0., 0.], dtype=float32)"
      ]
     },
     "execution_count": 11,
     "metadata": {},
     "output_type": "execute_result"
    }
   ],
   "source": [
    "y_train[0] # Digit 5 - 0 0 0 0 0 1 0 0 0 0"
   ]
  },
  {
   "cell_type": "markdown",
   "metadata": {
    "id": "2mxUWg_YB6EL"
   },
   "source": [
    "### c) Build the model using CNN - A simple CNN\n",
    "\n",
    "- Sequential is the easiest way to build a model in Keras. It allows you to build a model layer by layer.\n",
    "\n",
    "- We use the ‘add()’ function to add layers to our model."
   ]
  },
  {
   "cell_type": "code",
   "execution_count": 9,
   "metadata": {
    "id": "blqS2Q_CB6EL"
   },
   "outputs": [],
   "source": [
    "from keras.models import Sequential\n",
    "from keras.layers import Conv2D, MaxPooling2D, Flatten, Dense"
   ]
  },
  {
   "cell_type": "code",
   "execution_count": 10,
   "metadata": {
    "id": "j9rpL3l1B6EL"
   },
   "outputs": [],
   "source": [
    "# Create a empty model object\n",
    "model = Sequential()\n",
    "\n",
    "# Add model layers\n",
    "# \n",
    "# 1. Add Convolution Layer\n",
    "#      64 neurons in this layer\n",
    "#      Filter size is 3x3\n",
    "#      Activation function is 'relu'\n",
    "#      Each image size is 28x28x1 \n",
    "\n",
    "model.add(Conv2D(filters = 64, \n",
    "                 kernel_size=3, \n",
    "                 activation='relu', \n",
    "                 input_shape=(28,28,1) # one image shape\n",
    "                )\n",
    "         )\n",
    "\n",
    "# 2. Add Maxpooling Layer\n",
    "#      Pool size is 2x2\n",
    "model.add(MaxPooling2D(pool_size=(2, 2)))\n",
    "\n",
    "# 3. Add fully connected layer, before that flatten the output \n",
    "# of maxpool \n",
    "\n",
    "# 10 neurons in the output layer, because each neuron represents\n",
    "# one digit i.e. one class\n",
    "\n",
    "# Softmax makes the output sum up to 1 so the output can \n",
    "# be interpreted as probabilities.\n",
    "\n",
    "# Flattening transforms a two-dimensional matrix of features \n",
    "# into a vector that can be fed into a fully connected \n",
    "# neural network classifier.\n",
    "\n",
    "model.add(Flatten()) \n",
    "model.add(Dense(10, activation='softmax'))"
   ]
  },
  {
   "cell_type": "markdown",
   "metadata": {
    "id": "5dE66s9WB6EM"
   },
   "source": [
    "### c) Compiling the model\n",
    "Compiling the model takes three parameters: \n",
    "\n",
    "- optimizer - The optimizer controls the learning rate. We will be using ‘adam’ as our optmizer. The learning rate determines how fast the optimal weights for the model are calculated. A smaller learning rate may lead to more accurate weights (up to a certain point), but the time it takes to compute the weights will be longer.\n",
    "\n",
    "- loss - We will use ‘categorical_crossentropy’ for our loss function. This is the most common choice for classification. A lower score indicates that the model is performing better.\n",
    "\n",
    "- metrics - To make things even easier to interpret, we will use the ‘accuracy’ metric to see the accuracy score on the validation set when we train the model."
   ]
  },
  {
   "cell_type": "code",
   "execution_count": 11,
   "metadata": {
    "id": "MivJHoahB6EM"
   },
   "outputs": [],
   "source": [
    "# compile model using accuracy to measure model performance\n",
    "model.compile(optimizer='adam', \n",
    "              loss='categorical_crossentropy', \n",
    "              metrics=['accuracy'])"
   ]
  },
  {
   "cell_type": "markdown",
   "metadata": {
    "id": "3Qv7PkaOB6EM"
   },
   "source": [
    "### d) Training the model\n",
    "To train, we will use the ‘fit()’ function on our model with the following parameters: training data (train_X), target data (train_y), validation data, and the number of epochs.\n",
    "\n",
    "The number of epochs is the number of times the model will cycle through the data. The more epochs we run, the more the model will improve, up to a certain point. After that point, the model will stop improving during each epoch. For our model, we will set the number of epochs to 3."
   ]
  },
  {
   "cell_type": "code",
   "execution_count": 12,
   "metadata": {
    "colab": {
     "base_uri": "https://localhost:8080/"
    },
    "id": "wAApL_xYB6EM",
    "outputId": "8c44a15c-04ff-4500-f0ad-18cd07574110"
   },
   "outputs": [
    {
     "name": "stdout",
     "output_type": "stream",
     "text": [
      "Epoch 1/3\n",
      "1875/1875 [==============================] - 39s 20ms/step - loss: 0.6276 - accuracy: 0.9448 - val_loss: 0.0977 - val_accuracy: 0.9733\n",
      "Epoch 2/3\n",
      "1875/1875 [==============================] - 36s 19ms/step - loss: 0.0833 - accuracy: 0.9751 - val_loss: 0.0963 - val_accuracy: 0.9723\n",
      "Epoch 3/3\n",
      "1875/1875 [==============================] - 36s 19ms/step - loss: 0.0688 - accuracy: 0.9784 - val_loss: 0.0960 - val_accuracy: 0.9760\n"
     ]
    },
    {
     "data": {
      "text/plain": [
       "<keras.callbacks.History at 0x7fe7e7d70790>"
      ]
     },
     "execution_count": 12,
     "metadata": {},
     "output_type": "execute_result"
    }
   ],
   "source": [
    "#train the model\n",
    "model.fit(X_train, \n",
    "          y_train, \n",
    "          validation_data=(X_test, y_test), \n",
    "          epochs=3)"
   ]
  },
  {
   "cell_type": "markdown",
   "metadata": {
    "id": "Pg7AGQeJB6EM"
   },
   "source": [
    "### e) Using our model to make predictions\n"
   ]
  },
  {
   "cell_type": "code",
   "execution_count": 13,
   "metadata": {
    "colab": {
     "base_uri": "https://localhost:8080/",
     "height": 265
    },
    "id": "-k9G2Bm9B6EM",
    "outputId": "5481a1a3-cfe0-4419-b4e5-48d9fdbadf07"
   },
   "outputs": [
    {
     "data": {
      "image/png": "[encoded data removed]",
      "text/plain": [
       "<Figure size 432x288 with 1 Axes>"
      ]
     },
     "metadata": {
      "needs_background": "light"
     },
     "output_type": "display_data"
    }
   ],
   "source": [
    "first_test_image = X_test[0, :]\n",
    "plt.imshow(first_test_image.reshape(28, 28), cmap=plt.cm.Greys);"
   ]
  },
  {
   "cell_type": "code",
   "execution_count": 31,
   "metadata": {
    "colab": {
     "base_uri": "https://localhost:8080/"
    },
    "id": "4BSMJwJBB6EN",
    "outputId": "161cc67d-b239-40fe-8543-b005bb5c1f52"
   },
   "outputs": [
    {
     "name": "stdout",
     "output_type": "stream",
     "text": [
      "1/1 [==============================] - 0s 15ms/step\n"
     ]
    }
   ],
   "source": [
    "pred = model.predict(X_test[[0], :])"
   ]
  },
  {
   "cell_type": "markdown",
   "metadata": {
    "id": "6hYmf_Z1B6EN"
   },
   "source": [
    "It has predicted it as 7 - Perfect...\n",
    "CNN is very easy..."
   ]
  },
  {
   "cell_type": "code",
   "execution_count": 30,
   "metadata": {
    "colab": {
     "base_uri": "https://localhost:8080/"
    },
    "id": "C8R3BZl0B6EN",
    "outputId": "ccdac07a-df4d-4459-86f1-4d976e672b4f"
   },
   "outputs": [
    {
     "name": "stdout",
     "output_type": "stream",
     "text": [
      "1/1 [==============================] - 0s 17ms/step\n"
     ]
    },
    {
     "data": {
      "text/plain": [
       "array([7])"
      ]
     },
     "execution_count": 30,
     "metadata": {},
     "output_type": "execute_result"
    }
   ],
   "source": [
    "# Or you can get the max probability position, that will be the digit\n",
    "import numpy as np\n",
    "np.argmax(model.predict(X_test[[0], :]),axis=1)"
   ]
  },
  {
   "cell_type": "code",
   "execution_count": null,
   "metadata": {
    "id": "_IE3l6AIFb7u"
   },
   "outputs": [],
   "source": []
  }
 ],
 "metadata": {
  "colab": {
   "provenance": []
  },
  "kernelspec": {
   "display_name": "Python 3 (ipykernel)",
   "language": "python",
   "name": "python3"
  },
  "language_info": {
   "codemirror_mode": {
    "name": "ipython",
    "version": 3
   },
   "file_extension": ".py",
   "mimetype": "text/x-python",
   "name": "python",
   "nbconvert_exporter": "python",
   "pygments_lexer": "ipython3",
   "version": "3.9.12"
  }
 },
 "nbformat": 4,
 "nbformat_minor": 4
}
