{
 "cells": [
  {
   "cell_type": "markdown",
   "metadata": {},
   "source": [
    "## MNIST Digit Recognition using CNN"
   ]
  },
  {
   "cell_type": "code",
   "execution_count": 13,
   "metadata": {},
   "outputs": [],
   "source": [
    "# For data processing\n",
    "import numpy as np\n",
    "from keras.utils.np_utils import to_categorical\n",
    "\n",
    "# For building CNN\n",
    "import keras\n",
    "from keras.datasets import mnist\n",
    "\n",
    "# For building CNN\n",
    "from keras.models import Sequential\n",
    "from keras.layers import Conv2D, MaxPooling2D, Flatten, Dense # Main layers\n",
    "\n",
    "from keras.layers import Dropout\n",
    "\n",
    "# For visualization of CNN network\n",
    "from IPython.display import Image, SVG\n",
    "import matplotlib.pyplot as plt\n",
    "%matplotlib inline\n",
    "from keras.utils.vis_utils import model_to_dot"
   ]
  },
  {
   "cell_type": "markdown",
   "metadata": {},
   "source": [
    "# Data Loading and Preprocessing"
   ]
  },
  {
   "cell_type": "code",
   "execution_count": 14,
   "metadata": {},
   "outputs": [],
   "source": [
    "# Loads the training and test data sets\n",
    "(X_train, y_train), (X_test, y_test) = mnist.load_data()"
   ]
  },
  {
   "cell_type": "code",
   "execution_count": 15,
   "metadata": {},
   "outputs": [],
   "source": [
    "first_image = X_train[0, :, :]"
   ]
  },
  {
   "cell_type": "code",
   "execution_count": 16,
   "metadata": {},
   "outputs": [
    {
     "data": {
      "image/png": "[encoded data removed]",
      "text/plain": [
       "<Figure size 432x288 with 1 Axes>"
      ]
     },
     "metadata": {
      "needs_background": "light"
     },
     "output_type": "display_data"
    }
   ],
   "source": [
    "# To interpret the values as a 28x28 image, we need to reshape\n",
    "# the numpy array, which is one dimensional.\n",
    "plt.imshow(first_image, cmap=plt.cm.Greys);"
   ]
  },
  {
   "cell_type": "code",
   "execution_count": 17,
   "metadata": {},
   "outputs": [
    {
     "data": {
      "text/plain": [
       "10"
      ]
     },
     "execution_count": 17,
     "metadata": {},
     "output_type": "execute_result"
    }
   ],
   "source": [
    "num_classes = len(np.unique(y_train))\n",
    "num_classes"
   ]
  },
  {
   "cell_type": "code",
   "execution_count": 18,
   "metadata": {},
   "outputs": [
    {
     "data": {
      "text/plain": [
       "(60000, 28, 28)"
      ]
     },
     "execution_count": 18,
     "metadata": {},
     "output_type": "execute_result"
    }
   ],
   "source": [
    "# 60K training 28 x 28 (pixel) images\n",
    "X_train.shape"
   ]
  },
  {
   "cell_type": "code",
   "execution_count": 19,
   "metadata": {},
   "outputs": [
    {
     "data": {
      "text/plain": [
       "(10000, 28, 28)"
      ]
     },
     "execution_count": 19,
     "metadata": {},
     "output_type": "execute_result"
    }
   ],
   "source": [
    "# 10K test 28 x 28 (pixel) images\n",
    "X_test.shape"
   ]
  },
  {
   "cell_type": "markdown",
   "metadata": {},
   "source": [
    "Next, we need to reshape our dataset inputs (X_train and X_test) to the shape that our model expects when we train the model. The first number is the number of images (60,000 for X_train and 10,000 for X_test). Then comes the shape of each image (28x28). The last number is 1, which signifies that the images are greyscale."
   ]
  },
  {
   "cell_type": "code",
   "execution_count": 20,
   "metadata": {},
   "outputs": [],
   "source": [
    "# The training and test data sets are integers, ranging from 0 to 255.\n",
    "# We reshape the training and test data sets to be a 4D tensor.\n",
    "# Dimensions: num_images x 28 x 28 x 1\n",
    "# The 1 is because we have a single channel (greyscale). \n",
    "# If RGB color images, we'd have 3 channels.\n",
    "X_train = X_train.reshape(60000, 28, 28, 1).astype('float32')\n",
    "X_test = X_test.reshape(10000, 28, 28, 1).astype('float32')\n",
    "input_shape = (28, 28, 1)"
   ]
  },
  {
   "cell_type": "code",
   "execution_count": 21,
   "metadata": {},
   "outputs": [],
   "source": [
    "# Normalize - Scales the training and test data to range \n",
    "# between 0 and 1.\n",
    "\n",
    "max_value = X_train.max()\n",
    "X_train /= max_value\n",
    "X_test /= max_value"
   ]
  },
  {
   "cell_type": "code",
   "execution_count": 22,
   "metadata": {},
   "outputs": [
    {
     "data": {
      "text/plain": [
       "(array([5, 0, 4, ..., 5, 6, 8], dtype=uint8),\n",
       " array([7, 2, 1, ..., 4, 5, 6], dtype=uint8))"
      ]
     },
     "execution_count": 22,
     "metadata": {},
     "output_type": "execute_result"
    }
   ],
   "source": [
    "# The training and test labels are integers from 0 to 9 indicating the class label\n",
    "(y_train, y_test)"
   ]
  },
  {
   "cell_type": "markdown",
   "metadata": {},
   "source": [
    "We need to ‘one-hot-encode’ our target variable. This means that a column will be created for each output category and a binary variable is inputted for each category. For example, we saw that the first image in the dataset is a 5. This means that the sixth number in our array will have a 1 and the rest of the array will be filled with 0."
   ]
  },
  {
   "cell_type": "code",
   "execution_count": 24,
   "metadata": {},
   "outputs": [],
   "source": [
    "# We convert the class labels to binary class matrices\n",
    "y_train = to_categorical(y_train, num_classes)\n",
    "y_test = to_categorical(y_test, num_classes)"
   ]
  },
  {
   "cell_type": "code",
   "execution_count": 25,
   "metadata": {},
   "outputs": [
    {
     "data": {
      "text/plain": [
       "(array([[0., 0., 0., ..., 0., 0., 0.],\n",
       "        [1., 0., 0., ..., 0., 0., 0.],\n",
       "        [0., 0., 0., ..., 0., 0., 0.],\n",
       "        ...,\n",
       "        [0., 0., 0., ..., 0., 0., 0.],\n",
       "        [0., 0., 0., ..., 0., 0., 0.],\n",
       "        [0., 0., 0., ..., 0., 1., 0.]], dtype=float32),\n",
       " array([[0., 0., 0., ..., 1., 0., 0.],\n",
       "        [0., 0., 1., ..., 0., 0., 0.],\n",
       "        [0., 1., 0., ..., 0., 0., 0.],\n",
       "        ...,\n",
       "        [0., 0., 0., ..., 0., 0., 0.],\n",
       "        [0., 0., 0., ..., 0., 0., 0.],\n",
       "        [0., 0., 0., ..., 0., 0., 0.]], dtype=float32))"
      ]
     },
     "execution_count": 25,
     "metadata": {},
     "output_type": "execute_result"
    }
   ],
   "source": [
    "(y_train, y_test)"
   ]
  },
  {
   "cell_type": "markdown",
   "metadata": {},
   "source": [
    "# Convolutional Neural Net (ConvNet)"
   ]
  },
  {
   "cell_type": "markdown",
   "metadata": {},
   "source": [
    "The model type that we will be using is Sequential. Sequential is the easiest way to build a model in Keras. It allows you to build a model layer by layer.\n",
    "\n",
    "We use the ‘add()’ function to add layers to our model.\n",
    "\n",
    "- Our first is Conv2D layer. This is convolution layer that will deal with our input images, which are seen as 2-dimensional matrices.\n",
    "\n",
    "- 32 in the first Conv2D layer and 64 in the second Conv2D layer are the number of nodes/neurons in each layer. This number can be adjusted to be higher or lower, depending on the size of the dataset. In our case, 32 and 64 work well, so we will stick with this for now.\n",
    "\n",
    "- Kernel size is the size of the filter matrix for our convolution. So a kernel size of 3 means we will have a 3x3 filter matrix.\n",
    "\n",
    "- Our first layer also takes in an input shape. This is the shape of each input image, 28,28,1 as seen earlier on, with the 1 signifying that the images are greyscale.\n",
    "\n",
    "- In between the Conv2D layers and the dense layer, there is a ‘Flatten’ layer. Flatten serves as a connection between the convolution and dense layers.\n",
    "\n",
    "- ‘Dense’ is the layer type we will use in for our output layer. Dense is a standard layer type that is used in many cases for neural networks. We will have 10 nodes in our output layer, one for each possible outcome (0–9).\n",
    "\n",
    "- The activation is ‘softmax’. Softmax makes the output sum up to 1 so the output can be interpreted as probabilities. The model will then make its prediction based on which option has the highest probability."
   ]
  },
  {
   "cell_type": "code",
   "execution_count": 27,
   "metadata": {},
   "outputs": [],
   "source": [
    "input_shape = (28, 28, 1)\n",
    "\n",
    "model = Sequential()\n",
    "\n",
    "model.add(Conv2D(filters = 32, \n",
    "                 kernel_size=(3, 3), \n",
    "                 strides=(1, 1),\n",
    "                 activation='relu',\n",
    "                 input_shape=input_shape))\n",
    "\n",
    "model.add(MaxPooling2D(pool_size=(2, 2)))\n",
    "\n",
    "model.add(Conv2D(filters = 64, \n",
    "                 kernel_size = (3, 3), \n",
    "                 activation='relu'))\n",
    "\n",
    "model.add(Dropout(rate = 0.25, seed = 500)) # For regularization\n",
    "model.add(MaxPooling2D(pool_size=(2, 2)))\n",
    "\n",
    "model.add(Flatten())\n",
    "model.add(Dense(units = 128, activation='relu'))\n",
    "\n",
    "model.add(Dropout(rate = 0.5, seed=500)) # For regularization\n",
    "model.add(Dense(units = num_classes, activation='softmax'))\n",
    "\n",
    "# Dropout - rate\tfloat - 0 and 1. \n",
    "# Fraction of the input units to drop."
   ]
  },
  {
   "cell_type": "markdown",
   "metadata": {},
   "source": [
    "## Summarize Model"
   ]
  },
  {
   "cell_type": "markdown",
   "metadata": {},
   "source": [
    "**Number of paramters in Conv2D**\n",
    "\n",
    "((w * h * d)+1)* k)\n",
    "\n",
    "- w - Width of the filter\n",
    "- h - height of the filter\n",
    "- d - depth (for the firstconv2d) OR no.of filters in the previous layer\n",
    "- 1 - one bias for one filter\n",
    "- k - number of filters in the current layer\n",
    "\n",
    "**Number of paramters in dense layer**\n",
    "\n",
    "total params = weights+biases = (nc x np)+(nc*1)\n",
    "\n",
    "- nc = current layer neurons \n",
    "- np = previous layer neurons"
   ]
  },
  {
   "cell_type": "code",
   "execution_count": 28,
   "metadata": {},
   "outputs": [
    {
     "name": "stdout",
     "output_type": "stream",
     "text": [
      "Model: \"sequential\"\n",
      "_________________________________________________________________\n",
      "Layer (type)                 Output Shape              Param #   \n",
      "=================================================================\n",
      "conv2d (Conv2D)              (None, 26, 26, 32)        320       \n",
      "_________________________________________________________________\n",
      "max_pooling2d (MaxPooling2D) (None, 13, 13, 32)        0         \n",
      "_________________________________________________________________\n",
      "conv2d_1 (Conv2D)            (None, 11, 11, 64)        18496     \n",
      "_________________________________________________________________\n",
      "dropout (Dropout)            (None, 11, 11, 64)        0         \n",
      "_________________________________________________________________\n",
      "max_pooling2d_1 (MaxPooling2 (None, 5, 5, 64)          0         \n",
      "_________________________________________________________________\n",
      "flatten (Flatten)            (None, 1600)              0         \n",
      "_________________________________________________________________\n",
      "dense (Dense)                (None, 128)               204928    \n",
      "_________________________________________________________________\n",
      "dropout_1 (Dropout)          (None, 128)               0         \n",
      "_________________________________________________________________\n",
      "dense_1 (Dense)              (None, 10)                1290      \n",
      "=================================================================\n",
      "Total params: 225,034\n",
      "Trainable params: 225,034\n",
      "Non-trainable params: 0\n",
      "_________________________________________________________________\n"
     ]
    }
   ],
   "source": [
    "model.summary()"
   ]
  },
  {
   "cell_type": "markdown",
   "metadata": {},
   "source": [
    "**Number of paramters:**\n",
    "\n",
    "**1. conv2d** - ((w * h * d)+1)* k) = ((3x3x1)+1)*32 = 10*32 = 320\n",
    "\n",
    "here, 3 (w) x 3 (h) filter and depth of the image is 1 (d) since it is grey scale, k=32, number of filters\n",
    "\n",
    "**2. conv2d_1** - ((w * h * d)+1)* k) = ((3x3x32)+1)*64 \n",
    "\n",
    "filter size = 11 (w) x 11 (h)\n",
    "d - no.of filters in the previous layer (d) = 32\n",
    "k - no.of filters in this layer\n",
    "\n",
    "**3. dense** - (nc x np)+(nc*1) = (128*1600)+(128*1) = 204928\n",
    "\n",
    "nc = no.of current layer neurons = 128\n",
    "np = no. of previous layer neurons = 1600\n",
    "     OR the number of outputs from previous flatten layer"
   ]
  },
  {
   "cell_type": "code",
   "execution_count": 33,
   "metadata": {},
   "outputs": [
    {
     "data": {
      "image/svg+xml": [
       "<svg xmlns=\"http://www.w3.org/2000/svg\" xmlns:xlink=\"http://www.w3.org/1999/xlink\" width=\"355pt\" height=\"780pt\" viewBox=\"0.00 0.00 365.00 802.00\">\n",
       "<g id=\"graph0\" class=\"graph\" transform=\"scale(.9722 .9722) rotate(0) translate(4 798)\">\n",
       "<title>G</title>\n",
       "<polygon fill=\"#ffffff\" stroke=\"transparent\" points=\"-4,4 -4,-798 361,-798 361,4 -4,4\"/>\n",
       "<!-- 140252014362288 -->\n",
       "<g id=\"node1\" class=\"node\">\n",
       "<title>140252014362288</title>\n",
       "<polygon fill=\"none\" stroke=\"#000000\" points=\"23.5,-747.5 23.5,-793.5 333.5,-793.5 333.5,-747.5 23.5,-747.5\"/>\n",
       "<text text-anchor=\"middle\" x=\"102.5\" y=\"-766.8\" font-family=\"Times,serif\" font-size=\"14.00\" fill=\"#000000\">conv2d_input: InputLayer</text>\n",
       "<polyline fill=\"none\" stroke=\"#000000\" points=\"181.5,-747.5 181.5,-793.5 \"/>\n",
       "<text text-anchor=\"middle\" x=\"209\" y=\"-778.3\" font-family=\"Times,serif\" font-size=\"14.00\" fill=\"#000000\">input:</text>\n",
       "<polyline fill=\"none\" stroke=\"#000000\" points=\"181.5,-770.5 236.5,-770.5 \"/>\n",
       "<text text-anchor=\"middle\" x=\"209\" y=\"-755.3\" font-family=\"Times,serif\" font-size=\"14.00\" fill=\"#000000\">output:</text>\n",
       "<polyline fill=\"none\" stroke=\"#000000\" points=\"236.5,-747.5 236.5,-793.5 \"/>\n",
       "<text text-anchor=\"middle\" x=\"285\" y=\"-778.3\" font-family=\"Times,serif\" font-size=\"14.00\" fill=\"#000000\">[(?, 28, 28, 1)]</text>\n",
       "<polyline fill=\"none\" stroke=\"#000000\" points=\"236.5,-770.5 333.5,-770.5 \"/>\n",
       "<text text-anchor=\"middle\" x=\"285\" y=\"-755.3\" font-family=\"Times,serif\" font-size=\"14.00\" fill=\"#000000\">[(?, 28, 28, 1)]</text>\n",
       "</g>\n",
       "<!-- 140252014726352 -->\n",
       "<g id=\"node2\" class=\"node\">\n",
       "<title>140252014726352</title>\n",
       "<polygon fill=\"none\" stroke=\"#000000\" points=\"48.5,-664.5 48.5,-710.5 308.5,-710.5 308.5,-664.5 48.5,-664.5\"/>\n",
       "<text text-anchor=\"middle\" x=\"103.5\" y=\"-683.8\" font-family=\"Times,serif\" font-size=\"14.00\" fill=\"#000000\">conv2d: Conv2D</text>\n",
       "<polyline fill=\"none\" stroke=\"#000000\" points=\"158.5,-664.5 158.5,-710.5 \"/>\n",
       "<text text-anchor=\"middle\" x=\"186\" y=\"-695.3\" font-family=\"Times,serif\" font-size=\"14.00\" fill=\"#000000\">input:</text>\n",
       "<polyline fill=\"none\" stroke=\"#000000\" points=\"158.5,-687.5 213.5,-687.5 \"/>\n",
       "<text text-anchor=\"middle\" x=\"186\" y=\"-672.3\" font-family=\"Times,serif\" font-size=\"14.00\" fill=\"#000000\">output:</text>\n",
       "<polyline fill=\"none\" stroke=\"#000000\" points=\"213.5,-664.5 213.5,-710.5 \"/>\n",
       "<text text-anchor=\"middle\" x=\"261\" y=\"-695.3\" font-family=\"Times,serif\" font-size=\"14.00\" fill=\"#000000\">(?, 28, 28, 1)</text>\n",
       "<polyline fill=\"none\" stroke=\"#000000\" points=\"213.5,-687.5 308.5,-687.5 \"/>\n",
       "<text text-anchor=\"middle\" x=\"261\" y=\"-672.3\" font-family=\"Times,serif\" font-size=\"14.00\" fill=\"#000000\">(?, 26, 26, 32)</text>\n",
       "</g>\n",
       "<!-- 140252014362288&#45;&gt;140252014726352 -->\n",
       "<g id=\"edge1\" class=\"edge\">\n",
       "<title>140252014362288-&gt;140252014726352</title>\n",
       "<path fill=\"none\" stroke=\"#000000\" d=\"M178.5,-747.3799C178.5,-739.1745 178.5,-729.7679 178.5,-720.8786\"/>\n",
       "<polygon fill=\"#000000\" stroke=\"#000000\" points=\"182.0001,-720.784 178.5,-710.784 175.0001,-720.784 182.0001,-720.784\"/>\n",
       "</g>\n",
       "<!-- 140252014451056 -->\n",
       "<g id=\"node3\" class=\"node\">\n",
       "<title>140252014451056</title>\n",
       "<polygon fill=\"none\" stroke=\"#000000\" points=\"6.5,-581.5 6.5,-627.5 350.5,-627.5 350.5,-581.5 6.5,-581.5\"/>\n",
       "<text text-anchor=\"middle\" x=\"103.5\" y=\"-600.8\" font-family=\"Times,serif\" font-size=\"14.00\" fill=\"#000000\">max_pooling2d: MaxPooling2D</text>\n",
       "<polyline fill=\"none\" stroke=\"#000000\" points=\"200.5,-581.5 200.5,-627.5 \"/>\n",
       "<text text-anchor=\"middle\" x=\"228\" y=\"-612.3\" font-family=\"Times,serif\" font-size=\"14.00\" fill=\"#000000\">input:</text>\n",
       "<polyline fill=\"none\" stroke=\"#000000\" points=\"200.5,-604.5 255.5,-604.5 \"/>\n",
       "<text text-anchor=\"middle\" x=\"228\" y=\"-589.3\" font-family=\"Times,serif\" font-size=\"14.00\" fill=\"#000000\">output:</text>\n",
       "<polyline fill=\"none\" stroke=\"#000000\" points=\"255.5,-581.5 255.5,-627.5 \"/>\n",
       "<text text-anchor=\"middle\" x=\"303\" y=\"-612.3\" font-family=\"Times,serif\" font-size=\"14.00\" fill=\"#000000\">(?, 26, 26, 32)</text>\n",
       "<polyline fill=\"none\" stroke=\"#000000\" points=\"255.5,-604.5 350.5,-604.5 \"/>\n",
       "<text text-anchor=\"middle\" x=\"303\" y=\"-589.3\" font-family=\"Times,serif\" font-size=\"14.00\" fill=\"#000000\">(?, 13, 13, 32)</text>\n",
       "</g>\n",
       "<!-- 140252014726352&#45;&gt;140252014451056 -->\n",
       "<g id=\"edge2\" class=\"edge\">\n",
       "<title>140252014726352-&gt;140252014451056</title>\n",
       "<path fill=\"none\" stroke=\"#000000\" d=\"M178.5,-664.3799C178.5,-656.1745 178.5,-646.7679 178.5,-637.8786\"/>\n",
       "<polygon fill=\"#000000\" stroke=\"#000000\" points=\"182.0001,-637.784 178.5,-627.784 175.0001,-637.784 182.0001,-637.784\"/>\n",
       "</g>\n",
       "<!-- 140252014451152 -->\n",
       "<g id=\"node4\" class=\"node\">\n",
       "<title>140252014451152</title>\n",
       "<polygon fill=\"none\" stroke=\"#000000\" points=\"42,-498.5 42,-544.5 315,-544.5 315,-498.5 42,-498.5\"/>\n",
       "<text text-anchor=\"middle\" x=\"103.5\" y=\"-517.8\" font-family=\"Times,serif\" font-size=\"14.00\" fill=\"#000000\">conv2d_1: Conv2D</text>\n",
       "<polyline fill=\"none\" stroke=\"#000000\" points=\"165,-498.5 165,-544.5 \"/>\n",
       "<text text-anchor=\"middle\" x=\"192.5\" y=\"-529.3\" font-family=\"Times,serif\" font-size=\"14.00\" fill=\"#000000\">input:</text>\n",
       "<polyline fill=\"none\" stroke=\"#000000\" points=\"165,-521.5 220,-521.5 \"/>\n",
       "<text text-anchor=\"middle\" x=\"192.5\" y=\"-506.3\" font-family=\"Times,serif\" font-size=\"14.00\" fill=\"#000000\">output:</text>\n",
       "<polyline fill=\"none\" stroke=\"#000000\" points=\"220,-498.5 220,-544.5 \"/>\n",
       "<text text-anchor=\"middle\" x=\"267.5\" y=\"-529.3\" font-family=\"Times,serif\" font-size=\"14.00\" fill=\"#000000\">(?, 13, 13, 32)</text>\n",
       "<polyline fill=\"none\" stroke=\"#000000\" points=\"220,-521.5 315,-521.5 \"/>\n",
       "<text text-anchor=\"middle\" x=\"267.5\" y=\"-506.3\" font-family=\"Times,serif\" font-size=\"14.00\" fill=\"#000000\">(?, 11, 11, 64)</text>\n",
       "</g>\n",
       "<!-- 140252014451056&#45;&gt;140252014451152 -->\n",
       "<g id=\"edge3\" class=\"edge\">\n",
       "<title>140252014451056-&gt;140252014451152</title>\n",
       "<path fill=\"none\" stroke=\"#000000\" d=\"M178.5,-581.3799C178.5,-573.1745 178.5,-563.7679 178.5,-554.8786\"/>\n",
       "<polygon fill=\"#000000\" stroke=\"#000000\" points=\"182.0001,-554.784 178.5,-544.784 175.0001,-554.784 182.0001,-554.784\"/>\n",
       "</g>\n",
       "<!-- 140252014452064 -->\n",
       "<g id=\"node5\" class=\"node\">\n",
       "<title>140252014452064</title>\n",
       "<polygon fill=\"none\" stroke=\"#000000\" points=\"48,-415.5 48,-461.5 309,-461.5 309,-415.5 48,-415.5\"/>\n",
       "<text text-anchor=\"middle\" x=\"103.5\" y=\"-434.8\" font-family=\"Times,serif\" font-size=\"14.00\" fill=\"#000000\">dropout: Dropout</text>\n",
       "<polyline fill=\"none\" stroke=\"#000000\" points=\"159,-415.5 159,-461.5 \"/>\n",
       "<text text-anchor=\"middle\" x=\"186.5\" y=\"-446.3\" font-family=\"Times,serif\" font-size=\"14.00\" fill=\"#000000\">input:</text>\n",
       "<polyline fill=\"none\" stroke=\"#000000\" points=\"159,-438.5 214,-438.5 \"/>\n",
       "<text text-anchor=\"middle\" x=\"186.5\" y=\"-423.3\" font-family=\"Times,serif\" font-size=\"14.00\" fill=\"#000000\">output:</text>\n",
       "<polyline fill=\"none\" stroke=\"#000000\" points=\"214,-415.5 214,-461.5 \"/>\n",
       "<text text-anchor=\"middle\" x=\"261.5\" y=\"-446.3\" font-family=\"Times,serif\" font-size=\"14.00\" fill=\"#000000\">(?, 11, 11, 64)</text>\n",
       "<polyline fill=\"none\" stroke=\"#000000\" points=\"214,-438.5 309,-438.5 \"/>\n",
       "<text text-anchor=\"middle\" x=\"261.5\" y=\"-423.3\" font-family=\"Times,serif\" font-size=\"14.00\" fill=\"#000000\">(?, 11, 11, 64)</text>\n",
       "</g>\n",
       "<!-- 140252014451152&#45;&gt;140252014452064 -->\n",
       "<g id=\"edge4\" class=\"edge\">\n",
       "<title>140252014451152-&gt;140252014452064</title>\n",
       "<path fill=\"none\" stroke=\"#000000\" d=\"M178.5,-498.3799C178.5,-490.1745 178.5,-480.7679 178.5,-471.8786\"/>\n",
       "<polygon fill=\"#000000\" stroke=\"#000000\" points=\"182.0001,-471.784 178.5,-461.784 175.0001,-471.784 182.0001,-471.784\"/>\n",
       "</g>\n",
       "<!-- 140251974237680 -->\n",
       "<g id=\"node6\" class=\"node\">\n",
       "<title>140251974237680</title>\n",
       "<polygon fill=\"none\" stroke=\"#000000\" points=\"0,-332.5 0,-378.5 357,-378.5 357,-332.5 0,-332.5\"/>\n",
       "<text text-anchor=\"middle\" x=\"103.5\" y=\"-351.8\" font-family=\"Times,serif\" font-size=\"14.00\" fill=\"#000000\">max_pooling2d_1: MaxPooling2D</text>\n",
       "<polyline fill=\"none\" stroke=\"#000000\" points=\"207,-332.5 207,-378.5 \"/>\n",
       "<text text-anchor=\"middle\" x=\"234.5\" y=\"-363.3\" font-family=\"Times,serif\" font-size=\"14.00\" fill=\"#000000\">input:</text>\n",
       "<polyline fill=\"none\" stroke=\"#000000\" points=\"207,-355.5 262,-355.5 \"/>\n",
       "<text text-anchor=\"middle\" x=\"234.5\" y=\"-340.3\" font-family=\"Times,serif\" font-size=\"14.00\" fill=\"#000000\">output:</text>\n",
       "<polyline fill=\"none\" stroke=\"#000000\" points=\"262,-332.5 262,-378.5 \"/>\n",
       "<text text-anchor=\"middle\" x=\"309.5\" y=\"-363.3\" font-family=\"Times,serif\" font-size=\"14.00\" fill=\"#000000\">(?, 11, 11, 64)</text>\n",
       "<polyline fill=\"none\" stroke=\"#000000\" points=\"262,-355.5 357,-355.5 \"/>\n",
       "<text text-anchor=\"middle\" x=\"309.5\" y=\"-340.3\" font-family=\"Times,serif\" font-size=\"14.00\" fill=\"#000000\">(?, 5, 5, 64)</text>\n",
       "</g>\n",
       "<!-- 140252014452064&#45;&gt;140251974237680 -->\n",
       "<g id=\"edge5\" class=\"edge\">\n",
       "<title>140252014452064-&gt;140251974237680</title>\n",
       "<path fill=\"none\" stroke=\"#000000\" d=\"M178.5,-415.3799C178.5,-407.1745 178.5,-397.7679 178.5,-388.8786\"/>\n",
       "<polygon fill=\"#000000\" stroke=\"#000000\" points=\"182.0001,-388.784 178.5,-378.784 175.0001,-388.784 182.0001,-388.784\"/>\n",
       "</g>\n",
       "<!-- 140251974235376 -->\n",
       "<g id=\"node7\" class=\"node\">\n",
       "<title>140251974235376</title>\n",
       "<polygon fill=\"none\" stroke=\"#000000\" points=\"62.5,-249.5 62.5,-295.5 294.5,-295.5 294.5,-249.5 62.5,-249.5\"/>\n",
       "<text text-anchor=\"middle\" x=\"110.5\" y=\"-268.8\" font-family=\"Times,serif\" font-size=\"14.00\" fill=\"#000000\">flatten: Flatten</text>\n",
       "<polyline fill=\"none\" stroke=\"#000000\" points=\"158.5,-249.5 158.5,-295.5 \"/>\n",
       "<text text-anchor=\"middle\" x=\"186\" y=\"-280.3\" font-family=\"Times,serif\" font-size=\"14.00\" fill=\"#000000\">input:</text>\n",
       "<polyline fill=\"none\" stroke=\"#000000\" points=\"158.5,-272.5 213.5,-272.5 \"/>\n",
       "<text text-anchor=\"middle\" x=\"186\" y=\"-257.3\" font-family=\"Times,serif\" font-size=\"14.00\" fill=\"#000000\">output:</text>\n",
       "<polyline fill=\"none\" stroke=\"#000000\" points=\"213.5,-249.5 213.5,-295.5 \"/>\n",
       "<text text-anchor=\"middle\" x=\"254\" y=\"-280.3\" font-family=\"Times,serif\" font-size=\"14.00\" fill=\"#000000\">(?, 5, 5, 64)</text>\n",
       "<polyline fill=\"none\" stroke=\"#000000\" points=\"213.5,-272.5 294.5,-272.5 \"/>\n",
       "<text text-anchor=\"middle\" x=\"254\" y=\"-257.3\" font-family=\"Times,serif\" font-size=\"14.00\" fill=\"#000000\">(?, 1600)</text>\n",
       "</g>\n",
       "<!-- 140251974237680&#45;&gt;140251974235376 -->\n",
       "<g id=\"edge6\" class=\"edge\">\n",
       "<title>140251974237680-&gt;140251974235376</title>\n",
       "<path fill=\"none\" stroke=\"#000000\" d=\"M178.5,-332.3799C178.5,-324.1745 178.5,-314.7679 178.5,-305.8786\"/>\n",
       "<polygon fill=\"#000000\" stroke=\"#000000\" points=\"182.0001,-305.784 178.5,-295.784 175.0001,-305.784 182.0001,-305.784\"/>\n",
       "</g>\n",
       "<!-- 140251974237392 -->\n",
       "<g id=\"node8\" class=\"node\">\n",
       "<title>140251974237392</title>\n",
       "<polygon fill=\"none\" stroke=\"#000000\" points=\"73.5,-166.5 73.5,-212.5 283.5,-212.5 283.5,-166.5 73.5,-166.5\"/>\n",
       "<text text-anchor=\"middle\" x=\"118\" y=\"-185.8\" font-family=\"Times,serif\" font-size=\"14.00\" fill=\"#000000\">dense: Dense</text>\n",
       "<polyline fill=\"none\" stroke=\"#000000\" points=\"162.5,-166.5 162.5,-212.5 \"/>\n",
       "<text text-anchor=\"middle\" x=\"190\" y=\"-197.3\" font-family=\"Times,serif\" font-size=\"14.00\" fill=\"#000000\">input:</text>\n",
       "<polyline fill=\"none\" stroke=\"#000000\" points=\"162.5,-189.5 217.5,-189.5 \"/>\n",
       "<text text-anchor=\"middle\" x=\"190\" y=\"-174.3\" font-family=\"Times,serif\" font-size=\"14.00\" fill=\"#000000\">output:</text>\n",
       "<polyline fill=\"none\" stroke=\"#000000\" points=\"217.5,-166.5 217.5,-212.5 \"/>\n",
       "<text text-anchor=\"middle\" x=\"250.5\" y=\"-197.3\" font-family=\"Times,serif\" font-size=\"14.00\" fill=\"#000000\">(?, 1600)</text>\n",
       "<polyline fill=\"none\" stroke=\"#000000\" points=\"217.5,-189.5 283.5,-189.5 \"/>\n",
       "<text text-anchor=\"middle\" x=\"250.5\" y=\"-174.3\" font-family=\"Times,serif\" font-size=\"14.00\" fill=\"#000000\">(?, 128)</text>\n",
       "</g>\n",
       "<!-- 140251974235376&#45;&gt;140251974237392 -->\n",
       "<g id=\"edge7\" class=\"edge\">\n",
       "<title>140251974235376-&gt;140251974237392</title>\n",
       "<path fill=\"none\" stroke=\"#000000\" d=\"M178.5,-249.3799C178.5,-241.1745 178.5,-231.7679 178.5,-222.8786\"/>\n",
       "<polygon fill=\"#000000\" stroke=\"#000000\" points=\"182.0001,-222.784 178.5,-212.784 175.0001,-222.784 182.0001,-222.784\"/>\n",
       "</g>\n",
       "<!-- 140251973495680 -->\n",
       "<g id=\"node9\" class=\"node\">\n",
       "<title>140251973495680</title>\n",
       "<polygon fill=\"none\" stroke=\"#000000\" points=\"59,-83.5 59,-129.5 298,-129.5 298,-83.5 59,-83.5\"/>\n",
       "<text text-anchor=\"middle\" x=\"121.5\" y=\"-102.8\" font-family=\"Times,serif\" font-size=\"14.00\" fill=\"#000000\">dropout_1: Dropout</text>\n",
       "<polyline fill=\"none\" stroke=\"#000000\" points=\"184,-83.5 184,-129.5 \"/>\n",
       "<text text-anchor=\"middle\" x=\"211.5\" y=\"-114.3\" font-family=\"Times,serif\" font-size=\"14.00\" fill=\"#000000\">input:</text>\n",
       "<polyline fill=\"none\" stroke=\"#000000\" points=\"184,-106.5 239,-106.5 \"/>\n",
       "<text text-anchor=\"middle\" x=\"211.5\" y=\"-91.3\" font-family=\"Times,serif\" font-size=\"14.00\" fill=\"#000000\">output:</text>\n",
       "<polyline fill=\"none\" stroke=\"#000000\" points=\"239,-83.5 239,-129.5 \"/>\n",
       "<text text-anchor=\"middle\" x=\"268.5\" y=\"-114.3\" font-family=\"Times,serif\" font-size=\"14.00\" fill=\"#000000\">(?, 128)</text>\n",
       "<polyline fill=\"none\" stroke=\"#000000\" points=\"239,-106.5 298,-106.5 \"/>\n",
       "<text text-anchor=\"middle\" x=\"268.5\" y=\"-91.3\" font-family=\"Times,serif\" font-size=\"14.00\" fill=\"#000000\">(?, 128)</text>\n",
       "</g>\n",
       "<!-- 140251974237392&#45;&gt;140251973495680 -->\n",
       "<g id=\"edge8\" class=\"edge\">\n",
       "<title>140251974237392-&gt;140251973495680</title>\n",
       "<path fill=\"none\" stroke=\"#000000\" d=\"M178.5,-166.3799C178.5,-158.1745 178.5,-148.7679 178.5,-139.8786\"/>\n",
       "<polygon fill=\"#000000\" stroke=\"#000000\" points=\"182.0001,-139.784 178.5,-129.784 175.0001,-139.784 182.0001,-139.784\"/>\n",
       "</g>\n",
       "<!-- 140251973576256 -->\n",
       "<g id=\"node10\" class=\"node\">\n",
       "<title>140251973576256</title>\n",
       "<polygon fill=\"none\" stroke=\"#000000\" points=\"70.5,-.5 70.5,-46.5 286.5,-46.5 286.5,-.5 70.5,-.5\"/>\n",
       "<text text-anchor=\"middle\" x=\"121.5\" y=\"-19.8\" font-family=\"Times,serif\" font-size=\"14.00\" fill=\"#000000\">dense_1: Dense</text>\n",
       "<polyline fill=\"none\" stroke=\"#000000\" points=\"172.5,-.5 172.5,-46.5 \"/>\n",
       "<text text-anchor=\"middle\" x=\"200\" y=\"-31.3\" font-family=\"Times,serif\" font-size=\"14.00\" fill=\"#000000\">input:</text>\n",
       "<polyline fill=\"none\" stroke=\"#000000\" points=\"172.5,-23.5 227.5,-23.5 \"/>\n",
       "<text text-anchor=\"middle\" x=\"200\" y=\"-8.3\" font-family=\"Times,serif\" font-size=\"14.00\" fill=\"#000000\">output:</text>\n",
       "<polyline fill=\"none\" stroke=\"#000000\" points=\"227.5,-.5 227.5,-46.5 \"/>\n",
       "<text text-anchor=\"middle\" x=\"257\" y=\"-31.3\" font-family=\"Times,serif\" font-size=\"14.00\" fill=\"#000000\">(?, 128)</text>\n",
       "<polyline fill=\"none\" stroke=\"#000000\" points=\"227.5,-23.5 286.5,-23.5 \"/>\n",
       "<text text-anchor=\"middle\" x=\"257\" y=\"-8.3\" font-family=\"Times,serif\" font-size=\"14.00\" fill=\"#000000\">(?, 10)</text>\n",
       "</g>\n",
       "<!-- 140251973495680&#45;&gt;140251973576256 -->\n",
       "<g id=\"edge9\" class=\"edge\">\n",
       "<title>140251973495680-&gt;140251973576256</title>\n",
       "<path fill=\"none\" stroke=\"#000000\" d=\"M178.5,-83.3799C178.5,-75.1745 178.5,-65.7679 178.5,-56.8786\"/>\n",
       "<polygon fill=\"#000000\" stroke=\"#000000\" points=\"182.0001,-56.784 178.5,-46.784 175.0001,-56.784 182.0001,-56.784\"/>\n",
       "</g>\n",
       "</g>\n",
       "</svg>"
      ],
      "text/plain": [
       "<IPython.core.display.SVG object>"
      ]
     },
     "execution_count": 33,
     "metadata": {},
     "output_type": "execute_result"
    }
   ],
   "source": [
    "SVG(model_to_dot(model, \n",
    "                 show_shapes=True, dpi=70).create(prog='dot', format='svg'))"
   ]
  },
  {
   "cell_type": "markdown",
   "metadata": {},
   "source": [
    "## Train Classifier"
   ]
  },
  {
   "cell_type": "markdown",
   "metadata": {},
   "source": [
    "Next, we need to compile our model. Compiling the model takes three parameters: optimizer, loss and metrics.\n",
    "\n",
    "The optimizer controls the learning rate. We will be using ‘adam’ as our optmizer. Adam is generally a good optimizer to use for many cases. The adam optimizer adjusts the learning rate throughout training.\n",
    "\n",
    "The learning rate determines how fast the optimal weights for the model are calculated. A smaller learning rate may lead to more accurate weights (up to a certain point), but the time it takes to compute the weights will be longer.\n",
    "\n",
    "We will use ‘categorical_crossentropy’ for our loss function. This is the most common choice for classification. A lower score indicates that the model is performing better.\n",
    "\n",
    "To make things even easier to interpret, we will use the ‘accuracy’ metric to see the accuracy score on the validation set when we train the model."
   ]
  },
  {
   "cell_type": "code",
   "execution_count": 35,
   "metadata": {},
   "outputs": [],
   "source": [
    "# Trains the model, iterating on the training data in batches of 128 in 5 epochs.\n",
    "# Using the Adam optimizer.\n",
    "model.compile(optimizer='adam', \n",
    "              loss='categorical_crossentropy', \n",
    "              metrics=['accuracy'])"
   ]
  },
  {
   "cell_type": "markdown",
   "metadata": {},
   "source": [
    "Now we will train our model. To train, we will use the ‘fit()’ function on our model with the following parameters: training data (train_X), target data (train_y), validation data, and the number of epochs.\n",
    "\n",
    "The number of epochs is the number of times the model will cycle through the data. The more epochs we run, the more the model will improve, up to a certain point. After that point, the model will stop improving during each epoch. For our model, we will set the number of epochs to 5."
   ]
  },
  {
   "cell_type": "code",
   "execution_count": 36,
   "metadata": {},
   "outputs": [
    {
     "name": "stdout",
     "output_type": "stream",
     "text": [
      "Epoch 1/3\n",
      "469/469 [==============================] - 17s 36ms/step - loss: 0.2989 - accuracy: 0.9068\n",
      "Epoch 2/3\n",
      "469/469 [==============================] - 16s 34ms/step - loss: 0.1006 - accuracy: 0.9704\n",
      "Epoch 3/3\n",
      "469/469 [==============================] - 14s 31ms/step - loss: 0.0750 - accuracy: 0.9775\n"
     ]
    },
    {
     "data": {
      "text/plain": [
       "<tensorflow.python.keras.callbacks.History at 0x7f8ef4f3f040>"
      ]
     },
     "execution_count": 36,
     "metadata": {},
     "output_type": "execute_result"
    }
   ],
   "source": [
    "model.fit(X_train, \n",
    "          y_train, \n",
    "          batch_size=128, \n",
    "          epochs=3, \n",
    "          verbose=1)"
   ]
  },
  {
   "cell_type": "markdown",
   "metadata": {},
   "source": [
    "## Model Evaluation\n",
    "\n",
    "For our validation data, we will use the test set provided to us in our dataset, which we have split into X_test and y_test."
   ]
  },
  {
   "cell_type": "code",
   "execution_count": 37,
   "metadata": {},
   "outputs": [
    {
     "name": "stdout",
     "output_type": "stream",
     "text": [
      "313/313 [==============================] - 1s 3ms/step - loss: 0.0364 - accuracy: 0.9878\n"
     ]
    },
    {
     "data": {
      "text/plain": [
       "[0.03640258312225342, 0.9878000020980835]"
      ]
     },
     "execution_count": 37,
     "metadata": {},
     "output_type": "execute_result"
    }
   ],
   "source": [
    "# Test accuracy is ~99%. - Returns Loss and Accuracy\n",
    "model.evaluate(X_test, y_test)"
   ]
  },
  {
   "cell_type": "markdown",
   "metadata": {},
   "source": [
    "## Predicting a Couple of Held-Out Images"
   ]
  },
  {
   "cell_type": "code",
   "execution_count": 38,
   "metadata": {},
   "outputs": [
    {
     "data": {
      "image/png": "[encoded data removed]",
      "text/plain": [
       "<Figure size 432x288 with 1 Axes>"
      ]
     },
     "metadata": {
      "needs_background": "light"
     },
     "output_type": "display_data"
    }
   ],
   "source": [
    "first_test_image = X_test[0, :]\n",
    "plt.imshow(first_test_image.reshape(28, 28), cmap=plt.cm.Greys);"
   ]
  },
  {
   "cell_type": "code",
   "execution_count": 39,
   "metadata": {},
   "outputs": [
    {
     "data": {
      "image/png": "[encoded data removed]",
      "text/plain": [
       "<Figure size 432x288 with 1 Axes>"
      ]
     },
     "metadata": {
      "needs_background": "light"
     },
     "output_type": "display_data"
    }
   ],
   "source": [
    "second_test_image = X_test[1, :]\n",
    "plt.imshow(second_test_image.reshape(28, 28), cmap=plt.cm.Greys);"
   ]
  },
  {
   "cell_type": "code",
   "execution_count": 40,
   "metadata": {},
   "outputs": [
    {
     "name": "stdout",
     "output_type": "stream",
     "text": [
      "WARNING:tensorflow:From <ipython-input-40-8016bba98144>:1: Sequential.predict_classes (from tensorflow.python.keras.engine.sequential) is deprecated and will be removed after 2021-01-01.\n",
      "Instructions for updating:\n",
      "Please use instead:* `np.argmax(model.predict(x), axis=-1)`,   if your model does multi-class classification   (e.g. if it uses a `softmax` last-layer activation).* `(model.predict(x) > 0.5).astype(\"int32\")`,   if your model does binary classification   (e.g. if it uses a `sigmoid` last-layer activation).\n"
     ]
    },
    {
     "data": {
      "text/plain": [
       "array([7])"
      ]
     },
     "execution_count": 40,
     "metadata": {},
     "output_type": "execute_result"
    }
   ],
   "source": [
    "model.predict_classes(X_test[[0], :])"
   ]
  },
  {
   "cell_type": "code",
   "execution_count": 41,
   "metadata": {},
   "outputs": [
    {
     "data": {
      "text/plain": [
       "array([2])"
      ]
     },
     "execution_count": 41,
     "metadata": {},
     "output_type": "execute_result"
    }
   ],
   "source": [
    "model.predict_classes(X_test[[1], :])"
   ]
  },
  {
   "cell_type": "code",
   "execution_count": 42,
   "metadata": {},
   "outputs": [
    {
     "data": {
      "text/plain": [
       "array([7, 2])"
      ]
     },
     "execution_count": 42,
     "metadata": {},
     "output_type": "execute_result"
    }
   ],
   "source": [
    "# Predict for both the digits\n",
    "model.predict_classes(X_test[[0, 1], :])"
   ]
  },
  {
   "cell_type": "code",
   "execution_count": null,
   "metadata": {},
   "outputs": [],
   "source": []
  }
 ],
 "metadata": {
  "kernelspec": {
   "display_name": "Python 3 (ipykernel)",
   "language": "python",
   "name": "python3"
  },
  "language_info": {
   "codemirror_mode": {
    "name": "ipython",
    "version": 3
   },
   "file_extension": ".py",
   "mimetype": "text/x-python",
   "name": "python",
   "nbconvert_exporter": "python",
   "pygments_lexer": "ipython3",
   "version": "3.9.12"
  }
 },
 "nbformat": 4,
 "nbformat_minor": 4
}
