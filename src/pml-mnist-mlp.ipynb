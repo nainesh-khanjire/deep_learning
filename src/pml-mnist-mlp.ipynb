{
 "cells": [
  {
   "cell_type": "markdown",
   "id": "4a91ccd3-1c84-4809-9499-6f3ca7448a59",
   "metadata": {},
   "source": [
    "## **classification of hadwritten digits using MLP**"
   ]
  },
  {
   "cell_type": "code",
   "execution_count": null,
   "id": "2e21fa70-bdf5-4583-87cb-560d66c9e075",
   "metadata": {},
   "outputs": [],
   "source": []
  },
  {
   "cell_type": "code",
   "execution_count": 1,
   "id": "1bbec6db-abb1-4c33-bd6c-14fa5fd87e1d",
   "metadata": {},
   "outputs": [],
   "source": [
    "from IPython.display import Image, SVG\n",
    "import matplotlib.pyplot as plt\n",
    "\n",
    "%matplotlib inline\n",
    "\n",
    "import numpy as np\n",
    "import keras\n",
    "\n",
    "from keras.datasets import mnist\n",
    "from keras.utils import np_utils\n",
    "from keras.models import Sequential\n",
    "from keras.layers import Dense\n",
    "\n",
    "from keras.utils.vis_utils import model_to_dot"
   ]
  },
  {
   "cell_type": "markdown",
   "id": "4f0f4e03-e25c-4297-8cad-e64af270151f",
   "metadata": {},
   "source": [
    "## Data loading and Preprocessing "
   ]
  },
  {
   "cell_type": "code",
   "execution_count": 2,
   "id": "1d078f09-8963-4641-aff8-ded14b7d6e6a",
   "metadata": {},
   "outputs": [],
   "source": [
    "# loads data and test data sets\n",
    "(X_train,y_train),(X_test,y_test) = mnist.load_data()"
   ]
  },
  {
   "cell_type": "code",
   "execution_count": 109,
   "id": "3a83eac9-d6b7-4c99-b4ce-4084d341ea66",
   "metadata": {},
   "outputs": [],
   "source": [
    "\n",
    "first_image  = X_train[5, : , :]"
   ]
  },
  {
   "cell_type": "code",
   "execution_count": 110,
   "id": "0160c961-5ef2-46d8-b24b-8cd119ea22ab",
   "metadata": {},
   "outputs": [
    {
     "data": {
      "image/png": "[encoded data removed]",
      "text/plain": [
       "<Figure size 640x480 with 1 Axes>"
      ]
     },
     "metadata": {},
     "output_type": "display_data"
    }
   ],
   "source": [
    "# to interpret the values as 28x28 image, we need to rehape\n",
    "# numpy array which is one dimensional\n",
    "plt.imshow(first_image,cmap = plt.cm.Greys);"
   ]
  },
  {
   "cell_type": "code",
   "execution_count": 111,
   "id": "d0de28c2-fe93-4f28-953c-765d824a83ba",
   "metadata": {},
   "outputs": [
    {
     "data": {
      "text/plain": [
       "10"
      ]
     },
     "execution_count": 111,
     "metadata": {},
     "output_type": "execute_result"
    }
   ],
   "source": [
    "classes = len(np.unique(y_train))\n",
    "classes"
   ]
  },
  {
   "cell_type": "code",
   "execution_count": 112,
   "id": "d7e99704-06a2-456f-aa81-6aeb3f6f094c",
   "metadata": {},
   "outputs": [
    {
     "data": {
      "text/plain": [
       "(60000, 28, 28)"
      ]
     },
     "execution_count": 112,
     "metadata": {},
     "output_type": "execute_result"
    }
   ],
   "source": [
    "# 60k training 28x28 pixel images\n",
    "X_train.shape"
   ]
  },
  {
   "cell_type": "code",
   "execution_count": 113,
   "id": "50bfa28e-0ba8-42bd-b290-bb0b7b5ae12e",
   "metadata": {},
   "outputs": [
    {
     "data": {
      "text/plain": [
       "(10000, 28, 28)"
      ]
     },
     "execution_count": 113,
     "metadata": {},
     "output_type": "execute_result"
    }
   ],
   "source": [
    "# 10k test 28x88 pixel images\n",
    "X_test.shape"
   ]
  },
  {
   "cell_type": "code",
   "execution_count": 114,
   "id": "d85b5744-68e0-4925-8a23-d588722c26e2",
   "metadata": {},
   "outputs": [
    {
     "data": {
      "text/plain": [
       "784"
      ]
     },
     "execution_count": 114,
     "metadata": {},
     "output_type": "execute_result"
    }
   ],
   "source": [
    "input_dim = np.prod(X_train.shape[1:])\n",
    "input_dim"
   ]
  },
  {
   "cell_type": "code",
   "execution_count": 115,
   "id": "8e0d26ab-f1f2-4d86-87c6-febc970f0700",
   "metadata": {},
   "outputs": [],
   "source": [
    "#the training th test daata sets are integers , ranging from 0 to 255 \n",
    "# we reshape the training and test data sets to be matrices with 784 (28x28) features\n",
    "X_train = X_train.reshape(60000, input_dim).astype('float32')\n",
    "X_test = X_test.reshape(10000, input_dim).astype('float32')"
   ]
  },
  {
   "cell_type": "code",
   "execution_count": 116,
   "id": "86ec0a7d-dd95-44fa-824f-b873c66f0abc",
   "metadata": {},
   "outputs": [],
   "source": [
    "# scales the training and test data range to 0 and 1\n",
    "\n",
    "max_value = X_train.max()\n",
    "X_train /= max_value\n",
    "X_test /= max_value"
   ]
  },
  {
   "cell_type": "code",
   "execution_count": 117,
   "id": "695af4f4-dd33-480d-b019-de31188a414c",
   "metadata": {},
   "outputs": [
    {
     "data": {
      "text/plain": [
       "(array([5, 0, 4, ..., 5, 6, 8], dtype=uint8),\n",
       " array([7, 2, 1, ..., 4, 5, 6], dtype=uint8))"
      ]
     },
     "execution_count": 117,
     "metadata": {},
     "output_type": "execute_result"
    }
   ],
   "source": [
    "# the training and test labels are integers from 0 to 9\n",
    "(y_train,y_test)"
   ]
  },
  {
   "cell_type": "code",
   "execution_count": 118,
   "id": "e5d66d88-e91c-4244-b109-e10e081ce029",
   "metadata": {},
   "outputs": [],
   "source": [
    "# we convert the class labels to binary class matrices\n",
    "y_train = np_utils.to_categorical(y_train,classes)\n",
    "y_test = np_utils.to_categorical(y_test,classes)\n"
   ]
  },
  {
   "cell_type": "markdown",
   "id": "bd7bb8fe-2768-4ee2-aab5-56d56983d937",
   "metadata": {},
   "source": [
    "## **Multilayer Perceptron**"
   ]
  },
  {
   "cell_type": "code",
   "execution_count": 130,
   "id": "cc639cad-2ac0-4366-894b-109709d99f75",
   "metadata": {},
   "outputs": [],
   "source": [
    "model= Sequential()\n",
    "model.add(Dense(512,activation  = 'relu',input_shape = (input_dim,)))\n",
    "model.add(Dense(400,activation  = 'relu'))\n",
    "model.add(Dense(300,activation  = 'relu'))\n",
    "model.add(Dense(200,activation  = 'relu'))\n",
    "model.add(Dense(100,activation  = 'relu'))\n",
    "model.add(Dense(classes, activation = 'softmax'))"
   ]
  },
  {
   "cell_type": "code",
   "execution_count": 132,
   "id": "50d91461-e1da-4ddf-b5a2-0cb3003eddeb",
   "metadata": {},
   "outputs": [
    {
     "name": "stdout",
     "output_type": "stream",
     "text": [
      "Model: \"sequential_41\"\n",
      "_________________________________________________________________\n",
      " Layer (type)                Output Shape              Param #   \n",
      "=================================================================\n",
      " dense_154 (Dense)           (None, 512)               401920    \n",
      "                                                                 \n",
      " dense_155 (Dense)           (None, 400)               205200    \n",
      "                                                                 \n",
      " dense_156 (Dense)           (None, 300)               120300    \n",
      "                                                                 \n",
      " dense_157 (Dense)           (None, 200)               60200     \n",
      "                                                                 \n",
      " dense_158 (Dense)           (None, 100)               20100     \n",
      "                                                                 \n",
      " dense_159 (Dense)           (None, 10)                1010      \n",
      "                                                                 \n",
      "=================================================================\n",
      "Total params: 808,730\n",
      "Trainable params: 808,730\n",
      "Non-trainable params: 0\n",
      "_________________________________________________________________\n"
     ]
    }
   ],
   "source": [
    "model.summary()"
   ]
  },
  {
   "cell_type": "code",
   "execution_count": 121,
   "id": "d28d4682-4a34-426e-b64e-ccf499149875",
   "metadata": {},
   "outputs": [],
   "source": [
    "\n",
    "#SVG(model_to_dot(model, show_shapes=True).create(prog='dot', format='svg'))"
   ]
  },
  {
   "cell_type": "markdown",
   "id": "24dcb4eb-9893-4e67-954c-24ec7853a26c",
   "metadata": {},
   "source": [
    "## **Train Classifier**"
   ]
  },
  {
   "cell_type": "code",
   "execution_count": 133,
   "id": "25383c49-d967-43cc-a0ed-084956d3d052",
   "metadata": {},
   "outputs": [],
   "source": [
    "# trains the model, iterating on the training the batches between\n",
    "#using adam optimizer here\n",
    "model.compile(optimizer = 'adam',\n",
    "             loss = 'categorical_crossentropy',\n",
    "             metrics =['accuracy'])"
   ]
  },
  {
   "cell_type": "code",
   "execution_count": 134,
   "id": "411dc428-61ec-4e64-acaf-df7495c3fb16",
   "metadata": {},
   "outputs": [
    {
     "name": "stdout",
     "output_type": "stream",
     "text": [
      "Epoch 1/4\n",
      "1500/1500 [==============================] - 21s 13ms/step - loss: 0.2218 - accuracy: 0.9334\n",
      "Epoch 2/4\n",
      "1500/1500 [==============================] - 19s 13ms/step - loss: 0.1041 - accuracy: 0.9693\n",
      "Epoch 3/4\n",
      "1500/1500 [==============================] - 19s 13ms/step - loss: 0.0740 - accuracy: 0.9784\n",
      "Epoch 4/4\n",
      "1500/1500 [==============================] - 19s 13ms/step - loss: 0.0595 - accuracy: 0.9828\n"
     ]
    },
    {
     "data": {
      "text/plain": [
       "<keras.callbacks.History at 0x12c40434ee0>"
      ]
     },
     "execution_count": 134,
     "metadata": {},
     "output_type": "execute_result"
    }
   ],
   "source": [
    "model.fit(X_train,y_train,batch_size = 40, epochs = 4,verbose =1)"
   ]
  },
  {
   "cell_type": "code",
   "execution_count": 136,
   "id": "42b6885a-e6a2-4637-9227-fb8bd0f61465",
   "metadata": {},
   "outputs": [
    {
     "name": "stdout",
     "output_type": "stream",
     "text": [
      "313/313 [==============================] - 1s 4ms/step - loss: 0.0983 - accuracy: 0.9760\n"
     ]
    },
    {
     "data": {
      "text/plain": [
       "[0.09830419719219208, 0.9760000109672546]"
      ]
     },
     "execution_count": 136,
     "metadata": {},
     "output_type": "execute_result"
    }
   ],
   "source": [
    "# model gives ~98% accuracy\n",
    "model.evaluate(X_test,y_test)"
   ]
  },
  {
   "cell_type": "markdown",
   "id": "cdcf92c4-b348-4d7d-8b26-f8b80bc26484",
   "metadata": {},
   "source": [
    "## **predicting couple of held out images**"
   ]
  },
  {
   "cell_type": "code",
   "execution_count": 142,
   "id": "29edbb0c-83c5-468a-92bf-f2bf66d1a374",
   "metadata": {},
   "outputs": [
    {
     "data": {
      "image/png": "[encoded data removed]",
      "text/plain": [
       "<Figure size 640x480 with 1 Axes>"
      ]
     },
     "metadata": {},
     "output_type": "display_data"
    }
   ],
   "source": [
    "first_test_image = X_test[0,:]\n",
    "plt.imshow(first_test_image.reshape(28,28),cmap = plt.cm.Greys);\n"
   ]
  },
  {
   "cell_type": "code",
   "execution_count": 152,
   "id": "353ff576-3e17-4e4d-a09b-7edc99886b21",
   "metadata": {},
   "outputs": [
    {
     "data": {
      "image/png": "[encoded data removed]",
      "text/plain": [
       "<Figure size 640x480 with 1 Axes>"
      ]
     },
     "metadata": {},
     "output_type": "display_data"
    }
   ],
   "source": [
    "second_test_image = X_test[6,:]\n",
    "plt.imshow(second_test_image.reshape(28,28),cmap = plt.cm.Greys);"
   ]
  },
  {
   "cell_type": "code",
   "execution_count": 156,
   "id": "49f7045b-1009-47a4-97d1-3b7b43274069",
   "metadata": {},
   "outputs": [
    {
     "name": "stdout",
     "output_type": "stream",
     "text": [
      "1/1 [==============================] - 0s 34ms/step\n"
     ]
    },
    {
     "data": {
      "text/plain": [
       "4"
      ]
     },
     "execution_count": 156,
     "metadata": {},
     "output_type": "execute_result"
    }
   ],
   "source": [
    "np.argmax(model.predict(X_test[[6],:])).astype('int32')"
   ]
  }
 ],
 "metadata": {
  "kernelspec": {
   "display_name": "Python 3 (ipykernel)",
   "language": "python",
   "name": "python3"
  },
  "language_info": {
   "codemirror_mode": {
    "name": "ipython",
    "version": 3
   },
   "file_extension": ".py",
   "mimetype": "text/x-python",
   "name": "python",
   "nbconvert_exporter": "python",
   "pygments_lexer": "ipython3",
   "version": "3.9.12"
  }
 },
 "nbformat": 4,
 "nbformat_minor": 5
}
