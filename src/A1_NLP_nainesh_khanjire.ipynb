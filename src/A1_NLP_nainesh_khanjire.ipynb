{
 "cells": [
  {
   "cell_type": "code",
   "execution_count": 23,
   "id": "e3b8429c-6a9c-4c09-9983-c7b14901226f",
   "metadata": {},
   "outputs": [],
   "source": [
    "import pandas as pd\n",
    "import numpy as np"
   ]
  },
  {
   "cell_type": "code",
   "execution_count": 28,
   "id": "49c0edaf-bdaf-465e-a3ee-a76aada09c96",
   "metadata": {},
   "outputs": [],
   "source": [
    "doc1 = 'Game of thrones is an amazing tv series!'\n",
    "doc2 = 'Game of thrones is the best tvt series!'\n",
    "doc3 = 'Game of thrones is so great'\n",
    "document = ['One Geek helps Two Geeks','Two Geeks help four Geeks','Each Geek helps many other Geeks at GeeksforGeeks']"
   ]
  },
  {
   "cell_type": "code",
   "execution_count": 29,
   "id": "46c982b9-1d10-413a-9434-67dc557861a3",
   "metadata": {},
   "outputs": [],
   "source": [
    "from sklearn.feature_extraction.text import CountVectorizer\n",
    "vectorizer = CountVectorizer()\n",
    "\n",
    "X = vectorizer.fit_transform(document)"
   ]
  },
  {
   "cell_type": "code",
   "execution_count": 30,
   "id": "e1a0ed69-1238-4548-be2a-0912b8acb957",
   "metadata": {},
   "outputs": [
    {
     "name": "stdout",
     "output_type": "stream",
     "text": [
      "<bound method CountVectorizer.get_feature_names_out of CountVectorizer()>\n"
     ]
    }
   ],
   "source": [
    "print(vectorizer.get_feature_names_out)"
   ]
  },
  {
   "cell_type": "code",
   "execution_count": 31,
   "id": "85baa09c-4147-4e0f-a2fd-e44fabb03d20",
   "metadata": {
    "tags": []
   },
   "outputs": [
    {
     "data": {
      "text/html": [
       "<div>\n",
       "<style scoped>\n",
       "    .dataframe tbody tr th:only-of-type {\n",
       "        vertical-align: middle;\n",
       "    }\n",
       "\n",
       "    .dataframe tbody tr th {\n",
       "        vertical-align: top;\n",
       "    }\n",
       "\n",
       "    .dataframe thead th {\n",
       "        text-align: right;\n",
       "    }\n",
       "</style>\n",
       "<table border=\"1\" class=\"dataframe\">\n",
       "  <thead>\n",
       "    <tr style=\"text-align: right;\">\n",
       "      <th></th>\n",
       "      <th>at</th>\n",
       "      <th>each</th>\n",
       "      <th>four</th>\n",
       "      <th>geek</th>\n",
       "      <th>geeks</th>\n",
       "      <th>geeksforgeeks</th>\n",
       "      <th>help</th>\n",
       "      <th>helps</th>\n",
       "      <th>many</th>\n",
       "      <th>one</th>\n",
       "      <th>other</th>\n",
       "      <th>two</th>\n",
       "    </tr>\n",
       "  </thead>\n",
       "  <tbody>\n",
       "    <tr>\n",
       "      <th>0</th>\n",
       "      <td>0</td>\n",
       "      <td>0</td>\n",
       "      <td>0</td>\n",
       "      <td>1</td>\n",
       "      <td>1</td>\n",
       "      <td>0</td>\n",
       "      <td>0</td>\n",
       "      <td>1</td>\n",
       "      <td>0</td>\n",
       "      <td>1</td>\n",
       "      <td>0</td>\n",
       "      <td>1</td>\n",
       "    </tr>\n",
       "    <tr>\n",
       "      <th>1</th>\n",
       "      <td>0</td>\n",
       "      <td>0</td>\n",
       "      <td>1</td>\n",
       "      <td>0</td>\n",
       "      <td>2</td>\n",
       "      <td>0</td>\n",
       "      <td>1</td>\n",
       "      <td>0</td>\n",
       "      <td>0</td>\n",
       "      <td>0</td>\n",
       "      <td>0</td>\n",
       "      <td>1</td>\n",
       "    </tr>\n",
       "    <tr>\n",
       "      <th>2</th>\n",
       "      <td>1</td>\n",
       "      <td>1</td>\n",
       "      <td>0</td>\n",
       "      <td>1</td>\n",
       "      <td>1</td>\n",
       "      <td>1</td>\n",
       "      <td>0</td>\n",
       "      <td>1</td>\n",
       "      <td>1</td>\n",
       "      <td>0</td>\n",
       "      <td>1</td>\n",
       "      <td>0</td>\n",
       "    </tr>\n",
       "  </tbody>\n",
       "</table>\n",
       "</div>"
      ],
      "text/plain": [
       "   at  each  four  geek  geeks  geeksforgeeks  help  helps  many  one  other  \\\n",
       "0   0     0     0     1      1              0     0      1     0    1      0   \n",
       "1   0     0     1     0      2              0     1      0     0    0      0   \n",
       "2   1     1     0     1      1              1     0      1     1    0      1   \n",
       "\n",
       "   two  \n",
       "0    1  \n",
       "1    1  \n",
       "2    0  "
      ]
     },
     "execution_count": 31,
     "metadata": {},
     "output_type": "execute_result"
    }
   ],
   "source": [
    "df_bow_sklearn = pd.DataFrame(X.toarray(),columns=vectorizer.get_feature_names_out())\n",
    "df_bow_sklearn.head()"
   ]
  }
 ],
 "metadata": {
  "kernelspec": {
   "display_name": "Python 3 (ipykernel)",
   "language": "python",
   "name": "python3"
  },
  "language_info": {
   "codemirror_mode": {
    "name": "ipython",
    "version": 3
   },
   "file_extension": ".py",
   "mimetype": "text/x-python",
   "name": "python",
   "nbconvert_exporter": "python",
   "pygments_lexer": "ipython3",
   "version": "3.9.12"
  }
 },
 "nbformat": 4,
 "nbformat_minor": 5
}
