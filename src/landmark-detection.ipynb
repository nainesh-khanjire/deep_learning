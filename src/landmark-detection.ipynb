{
 "cells": [
  {
   "cell_type": "markdown",
   "id": "88fc7906-f870-439a-8eb3-4f0ba0e9bdfd",
   "metadata": {},
   "source": [
    "# **Landmark Detection**"
   ]
  },
  {
   "cell_type": "code",
   "execution_count": 16,
   "id": "0f56a8b0-691f-4c93-b226-cf5e7909caf6",
   "metadata": {},
   "outputs": [],
   "source": [
    "import numpy as np\n",
    "import pandas as pd\n",
    "import matplotlib.pyplot as plt\n",
    "import gradio as gd\n",
    "import tensorflow as tf\n",
    "import tensorflow_hub as hub\n",
    "import PIL.Image as Image"
   ]
  },
  {
   "cell_type": "code",
   "execution_count": 17,
   "id": "9732c745-67cf-48e8-ac7c-582602e162c5",
   "metadata": {},
   "outputs": [],
   "source": [
    "tf_model = \"https://tfhub.dev/google/on_device_vision/classifier/landmarks_classifier_asia_V1/1\"\n",
    "label_map = \"https://www.gstatic.com/aihub/tfhub/labelmaps/landmarks_classifier_asia_V1_label_map.csv\"\n",
    "\n",
    "image_shape  = (321,321)"
   ]
  },
  {
   "cell_type": "code",
   "execution_count": 18,
   "id": "b9bd1a6d-e4c7-4488-a3d7-c20ebf8e5c63",
   "metadata": {},
   "outputs": [
    {
     "name": "stdout",
     "output_type": "stream",
     "text": [
      "INFO:tensorflow:Saver not created because there are no variables in the graph to restore\n"
     ]
    },
    {
     "name": "stderr",
     "output_type": "stream",
     "text": [
      "INFO:tensorflow:Saver not created because there are no variables in the graph to restore\n"
     ]
    }
   ],
   "source": [
    "classifier  = tf.keras.Sequential([hub.KerasLayer(tf_model,\n",
    "                                                  input_shape = image_shape+(3,),\n",
    "                                                  output_key='predictions:logits')])"
   ]
  },
  {
   "cell_type": "code",
   "execution_count": 19,
   "id": "151537dc-d256-4802-96af-0d0af1dbe713",
   "metadata": {},
   "outputs": [],
   "source": [
    "df = pd.read_csv('../data/landmarks_classifier_asia_V1_label_map.csv')"
   ]
  },
  {
   "cell_type": "code",
   "execution_count": 20,
   "id": "8f0c5ff8-c0cf-47a5-8d22-2efa10c5fb72",
   "metadata": {},
   "outputs": [
    {
     "data": {
      "text/plain": [
       "98960"
      ]
     },
     "execution_count": 20,
     "metadata": {},
     "output_type": "execute_result"
    }
   ],
   "source": [
    "label_map = dict(zip(df.id,df.name))\n",
    "len(label_map)"
   ]
  },
  {
   "cell_type": "code",
   "execution_count": 23,
   "id": "a9bfd5c4-357a-40e3-913f-ce25ff52c76b",
   "metadata": {},
   "outputs": [],
   "source": [
    "img_loc = \"../data/nyc.jpeg\""
   ]
  },
  {
   "cell_type": "code",
   "execution_count": 24,
   "id": "9ba2171e-dc7e-4935-a321-f922c6a29828",
   "metadata": {},
   "outputs": [],
   "source": [
    "img = Image.open(img_loc).resize(image_shape)"
   ]
  }
 ],
 "metadata": {
  "kernelspec": {
   "display_name": "Python 3 (ipykernel)",
   "language": "python",
   "name": "python3"
  },
  "language_info": {
   "codemirror_mode": {
    "name": "ipython",
    "version": 3
   },
   "file_extension": ".py",
   "mimetype": "text/x-python",
   "name": "python",
   "nbconvert_exporter": "python",
   "pygments_lexer": "ipython3",
   "version": "3.9.12"
  }
 },
 "nbformat": 4,
 "nbformat_minor": 5
}
