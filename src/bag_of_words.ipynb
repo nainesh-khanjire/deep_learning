{
 "cells": [
  {
   "cell_type": "code",
   "execution_count": 2,
   "metadata": {
    "executionInfo": {
     "elapsed": 7,
     "status": "ok",
     "timestamp": 1672978611113,
     "user": {
      "displayName": "Jitendra Kumar",
      "userId": "00534210576504549633"
     },
     "user_tz": -330
    },
    "id": "xzs49kHmeqMB"
   },
   "outputs": [],
   "source": [
    "import pandas as pd\n",
    "import numpy as np\n"
   ]
  },
  {
   "cell_type": "code",
   "execution_count": 3,
   "metadata": {
    "executionInfo": {
     "elapsed": 6,
     "status": "ok",
     "timestamp": 1672978611114,
     "user": {
      "displayName": "Jitendra Kumar",
      "userId": "00534210576504549633"
     },
     "user_tz": -330
    },
    "id": "jr81wq5xeuPT"
   },
   "outputs": [],
   "source": [
    "doc1 = 'Game of Thrones is an amazing tv series!'\n",
    "doc2 = 'Game of Thrones is the best tv series!'\n",
    "doc3 = 'Game of Thrones is so great'\n",
    "document = [\"One Geek helps Two Geeks\",\"Two Geeks help Four Geeks\",\"Each Geek helps many other Geeks at GeeksforGeeks\"]"
   ]
  },
  {
   "cell_type": "code",
   "execution_count": 4,
   "metadata": {
    "executionInfo": {
     "elapsed": 1316,
     "status": "ok",
     "timestamp": 1672978612424,
     "user": {
      "displayName": "Jitendra Kumar",
      "userId": "00534210576504549633"
     },
     "user_tz": -330
    },
    "id": "I2AGmamZeX8n"
   },
   "outputs": [],
   "source": [
    "from sklearn.feature_extraction.text import CountVectorizer\n",
    "vectorizer = CountVectorizer()\n",
    "#X = vectorizer.fit_transform([doc1,doc2,doc3])\n",
    "X = vectorizer.fit_transform(document)\n"
   ]
  },
  {
   "cell_type": "code",
   "execution_count": 5,
   "metadata": {
    "colab": {
     "base_uri": "https://localhost:8080/"
    },
    "executionInfo": {
     "elapsed": 16,
     "status": "ok",
     "timestamp": 1672978612425,
     "user": {
      "displayName": "Jitendra Kumar",
      "userId": "00534210576504549633"
     },
     "user_tz": -330
    },
    "id": "NNgrwkr1fVIj",
    "outputId": "368356f4-1d68-4419-9253-b2167955076c"
   },
   "outputs": [
    {
     "name": "stdout",
     "output_type": "stream",
     "text": [
      "['at' 'each' 'four' 'geek' 'geeks' 'geeksforgeeks' 'help' 'helps' 'many'\n",
      " 'one' 'other' 'two']\n"
     ]
    }
   ],
   "source": [
    "print(vectorizer.get_feature_names_out())"
   ]
  },
  {
   "cell_type": "code",
   "execution_count": 6,
   "metadata": {
    "colab": {
     "base_uri": "https://localhost:8080/",
     "height": 143
    },
    "executionInfo": {
     "elapsed": 11,
     "status": "ok",
     "timestamp": 1672978612425,
     "user": {
      "displayName": "Jitendra Kumar",
      "userId": "00534210576504549633"
     },
     "user_tz": -330
    },
    "id": "6Vz_m8KOfhiG",
    "outputId": "5a5713cd-d606-4ea2-a8c8-ad3dce317359"
   },
   "outputs": [
    {
     "data": {
      "text/html": [
       "<div>\n",
       "<style scoped>\n",
       "    .dataframe tbody tr th:only-of-type {\n",
       "        vertical-align: middle;\n",
       "    }\n",
       "\n",
       "    .dataframe tbody tr th {\n",
       "        vertical-align: top;\n",
       "    }\n",
       "\n",
       "    .dataframe thead th {\n",
       "        text-align: right;\n",
       "    }\n",
       "</style>\n",
       "<table border=\"1\" class=\"dataframe\">\n",
       "  <thead>\n",
       "    <tr style=\"text-align: right;\">\n",
       "      <th></th>\n",
       "      <th>at</th>\n",
       "      <th>each</th>\n",
       "      <th>four</th>\n",
       "      <th>geek</th>\n",
       "      <th>geeks</th>\n",
       "      <th>geeksforgeeks</th>\n",
       "      <th>help</th>\n",
       "      <th>helps</th>\n",
       "      <th>many</th>\n",
       "      <th>one</th>\n",
       "      <th>other</th>\n",
       "      <th>two</th>\n",
       "    </tr>\n",
       "  </thead>\n",
       "  <tbody>\n",
       "    <tr>\n",
       "      <th>0</th>\n",
       "      <td>0</td>\n",
       "      <td>0</td>\n",
       "      <td>0</td>\n",
       "      <td>1</td>\n",
       "      <td>1</td>\n",
       "      <td>0</td>\n",
       "      <td>0</td>\n",
       "      <td>1</td>\n",
       "      <td>0</td>\n",
       "      <td>1</td>\n",
       "      <td>0</td>\n",
       "      <td>1</td>\n",
       "    </tr>\n",
       "    <tr>\n",
       "      <th>1</th>\n",
       "      <td>0</td>\n",
       "      <td>0</td>\n",
       "      <td>1</td>\n",
       "      <td>0</td>\n",
       "      <td>2</td>\n",
       "      <td>0</td>\n",
       "      <td>1</td>\n",
       "      <td>0</td>\n",
       "      <td>0</td>\n",
       "      <td>0</td>\n",
       "      <td>0</td>\n",
       "      <td>1</td>\n",
       "    </tr>\n",
       "    <tr>\n",
       "      <th>2</th>\n",
       "      <td>1</td>\n",
       "      <td>1</td>\n",
       "      <td>0</td>\n",
       "      <td>1</td>\n",
       "      <td>1</td>\n",
       "      <td>1</td>\n",
       "      <td>0</td>\n",
       "      <td>1</td>\n",
       "      <td>1</td>\n",
       "      <td>0</td>\n",
       "      <td>1</td>\n",
       "      <td>0</td>\n",
       "    </tr>\n",
       "  </tbody>\n",
       "</table>\n",
       "</div>"
      ],
      "text/plain": [
       "   at  each  four  geek  geeks  geeksforgeeks  help  helps  many  one  other  \\\n",
       "0   0     0     0     1      1              0     0      1     0    1      0   \n",
       "1   0     0     1     0      2              0     1      0     0    0      0   \n",
       "2   1     1     0     1      1              1     0      1     1    0      1   \n",
       "\n",
       "   two  \n",
       "0    1  \n",
       "1    1  \n",
       "2    0  "
      ]
     },
     "execution_count": 6,
     "metadata": {},
     "output_type": "execute_result"
    }
   ],
   "source": [
    "df_bow_sklearn = pd.DataFrame(X.toarray(),columns=vectorizer.get_feature_names_out())\n",
    "df_bow_sklearn.head()"
   ]
  }
 ],
 "metadata": {
  "colab": {
   "authorship_tag": "ABX9TyPtdYpdgfvh4LxeZxIEJ9Xn",
   "provenance": []
  },
  "kernelspec": {
   "display_name": "Python 3 (ipykernel)",
   "language": "python",
   "name": "python3"
  },
  "language_info": {
   "codemirror_mode": {
    "name": "ipython",
    "version": 3
   },
   "file_extension": ".py",
   "mimetype": "text/x-python",
   "name": "python",
   "nbconvert_exporter": "python",
   "pygments_lexer": "ipython3",
   "version": "3.9.12"
  }
 },
 "nbformat": 4,
 "nbformat_minor": 4
}
