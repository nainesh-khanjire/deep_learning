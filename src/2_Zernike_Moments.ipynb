{
 "cells": [
  {
   "cell_type": "markdown",
   "id": "b40231ac-644b-4938-96e0-dab320a35a08",
   "metadata": {},
   "source": [
    "## Extracting Zernike Moments using Mahotas Library from Images\n",
    "Zernike Moments are an image descriptor used to characterize the shape of an object in an image. The shape to be described can either be a segmented binary image or the boundary of the object (i.e. the “outline” or “contour” of the shape)."
   ]
  },
  {
   "cell_type": "code",
   "execution_count": 9,
   "id": "86e740e9-ce37-4d16-b0c7-ac727b8db6c6",
   "metadata": {},
   "outputs": [],
   "source": [
    "# !pip install mahotas"
   ]
  },
  {
   "cell_type": "code",
   "execution_count": 2,
   "id": "b0372e94-7105-48e2-b210-d3da7623532c",
   "metadata": {},
   "outputs": [
    {
     "name": "stdout",
     "output_type": "stream",
     "text": [
      "mahotas 1.4.13\n"
     ]
    }
   ],
   "source": [
    "# Importing Mahotas:\n",
    "import mahotas\n",
    "print('mahotas %s' % mahotas.__version__)"
   ]
  },
  {
   "cell_type": "code",
   "execution_count": 3,
   "id": "329bdebe-eabe-4033-9ba1-457e453d3536",
   "metadata": {},
   "outputs": [],
   "source": [
    "# Importing Required Libraries:\n",
    "import pandas as pd\n",
    "import numpy as np\n",
    "import matplotlib.pyplot as plt\n",
    "from pylab import gray, imshow, show\n",
    "import mahotas\n",
    "import os\n",
    "import csv"
   ]
  },
  {
   "cell_type": "code",
   "execution_count": 5,
   "id": "e3433c48-0120-4bf9-8696-f3773f7125e2",
   "metadata": {},
   "outputs": [],
   "source": [
    "# Retriving the Dataset Path:\n",
    "yes_folder_dir = \"../data/images/yes/\"\n",
    "no_folder_dir = \"../data/images/no/\""
   ]
  },
  {
   "cell_type": "code",
   "execution_count": 7,
   "id": "e0393d22-2149-4754-ab4d-820aeb7c5c8d",
   "metadata": {},
   "outputs": [
    {
     "name": "stdout",
     "output_type": "stream",
     "text": [
      "***** Wrote all the (YES) data into the file. *****\n"
     ]
    }
   ],
   "source": [
    "# Saving Zernike Moments (for Yes) into a .csv file:\n",
    "for images in os.listdir(yes_folder_dir):\n",
    "    if (images.endswith(\".jpg\")):        \n",
    "        img = mahotas.imread(yes_folder_dir + images, as_grey=True)\n",
    "        value = mahotas.features.zernike_moments(img, radius=32, degree=32)\n",
    "                \n",
    "        with open('../data/zm/yes_zernike_moments.csv', 'a') as f:\n",
    "            writer = csv.writer(f)\n",
    "            writer.writerow(value)\n",
    "\n",
    "print(\"***** Wrote all the (YES) data into the file. *****\")"
   ]
  },
  {
   "cell_type": "code",
   "execution_count": 8,
   "id": "f571d06d-6bf0-40f9-b805-7b01e627a3ae",
   "metadata": {},
   "outputs": [
    {
     "name": "stdout",
     "output_type": "stream",
     "text": [
      "***** Wrote all the (NO) data into the file. *****\n"
     ]
    }
   ],
   "source": [
    "# Saving Zernike Moments (for No) into a .csv file:\n",
    "for images in os.listdir(no_folder_dir):\n",
    "    if (images.endswith(\".jpg\")):  \n",
    "        img = mahotas.imread(no_folder_dir + images, as_grey=True)\n",
    "        value = mahotas.features.zernike_moments(img, radius=32, degree=32)\n",
    "        \n",
    "        with open('../data/zm/no_zernike_moments.csv', 'a') as f:\n",
    "            writer = csv.writer(f)\n",
    "            writer.writerow(value)\n",
    "            \n",
    "print(\"***** Wrote all the (NO) data into the file. *****\")"
   ]
  },
  {
   "cell_type": "code",
   "execution_count": null,
   "id": "279f7fa4-1c50-4659-b96a-fafe80c18d7f",
   "metadata": {
    "tags": []
   },
   "outputs": [],
   "source": []
  }
 ],
 "metadata": {
  "kernelspec": {
   "display_name": "Python 3 (ipykernel)",
   "language": "python",
   "name": "python3"
  },
  "language_info": {
   "codemirror_mode": {
    "name": "ipython",
    "version": 3
   },
   "file_extension": ".py",
   "mimetype": "text/x-python",
   "name": "python",
   "nbconvert_exporter": "python",
   "pygments_lexer": "ipython3",
   "version": "3.10.4"
  }
 },
 "nbformat": 4,
 "nbformat_minor": 5
}
