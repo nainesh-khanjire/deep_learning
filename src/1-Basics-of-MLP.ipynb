{
 "cells": [
  {
   "cell_type": "markdown",
   "metadata": {},
   "source": [
    "# Basics of MLP\n",
    "- Objective: Create vanilla neural networks (i.e., Multilayer perceptrons) for simple regression/classification tasks with Keras"
   ]
  },
  {
   "cell_type": "code",
   "execution_count": 218,
   "metadata": {},
   "outputs": [],
   "source": [
    "#!pip install tensorflow"
   ]
  },
  {
   "cell_type": "code",
   "execution_count": 220,
   "metadata": {},
   "outputs": [],
   "source": [
    "#!pip install keras"
   ]
  },
  {
   "cell_type": "markdown",
   "metadata": {},
   "source": [
    "## MLP Structures\n",
    "- Each MLP model is consisted of one input layer, several hidden layers, and one output layer\n",
    "- Number of neurons in each layer is not limited\n",
    "<img src=\"http://cs231n.github.io/assets/nn1/neural_net.jpeg\" style=\"width: 300px\"/>\n",
    "<br>\n",
    "<center>**MLP with one hidden layer**</center>\n",
    "- Number of input neurons: 3\n",
    "- Number of hidden neurons: 4\n",
    "- Number of output neurons: 2\n"
   ]
  },
  {
   "cell_type": "markdown",
   "metadata": {},
   "source": [
    "<img src=\"http://cs231n.github.io/assets/nn1/neural_net2.jpeg\" style=\"width: 500px\"/>\n",
    "<br>\n",
    "<center>**MLP with two hidden layers**</center>\n",
    "\n",
    "- Number of input neurons: 3\n",
    "- Number of hidden neurons: (4, 4)\n",
    "- Number of output neurons: 1\n"
   ]
  },
  {
   "cell_type": "markdown",
   "metadata": {},
   "source": [
    "## (I) MLP for Regression tasks - Predict house price\n",
    "- When the target (**y**) is continuous (real)\n",
    "- For loss function and evaluation metric, mean squared error (MSE) is commonly used\n",
    "\n",
    "- Data:\n",
    "\n",
    "https://keras.io/api/datasets/boston_housing/\n",
    "\n",
    "This is a dataset taken from the StatLib library which is maintained at Carnegie Mellon University.\n",
    "\n",
    "Samples contain 13 attributes of houses at different locations around the Boston suburbs in the late 1970s. \n",
    "\n",
    "Targets are the median values of the houses at a location (in k$).\n",
    "\n",
    "The attributes themselves are defined in the StatLib website.\n",
    "\n",
    "\n",
    "http://lib.stat.cmu.edu/datasets/boston\n",
    "\n",
    "Variables in order:\n",
    "\n",
    "- CRIM     per capita crime rate by town\n",
    "-  ZN       proportion of residential land zoned for lots over 25,000 - sq.ft.\n",
    "- INDUS    proportion of non-retail business acres per town\n",
    "- CHAS     Charles River dummy variable (= 1 if tract bounds river; 0 otherwise)\n",
    "- NOX      nitric oxides concentration (parts per 10 million)\n",
    "- RM       average number of rooms per dwelling\n",
    "- AGE      proportion of owner-occupied units built prior to 1940\n",
    "- DIS      weighted distances to five Boston employment centres\n",
    "- RAD      index of accessibility to radial highways\n",
    "- TAX      full-value property-tax rate per $10,000\n",
    "- PTRATIO  pupil-teacher ratio by town\n",
    "- B        1000(Bk - 0.63)^2 where Bk is the proportion of blacks by town\n",
    "- LSTAT    % lower status of the population\n",
    "- MEDV     Median value of owner-occupied homes in $1000's\n"
   ]
  },
  {
   "cell_type": "code",
   "execution_count": 222,
   "metadata": {},
   "outputs": [],
   "source": [
    "# Load data\n",
    "from keras.datasets import boston_housing"
   ]
  },
  {
   "cell_type": "code",
   "execution_count": 224,
   "metadata": {},
   "outputs": [],
   "source": [
    "(X_train, y_train), (X_test, y_test) = boston_housing.load_data()"
   ]
  },
  {
   "cell_type": "code",
   "execution_count": 226,
   "metadata": {},
   "outputs": [
    {
     "name": "stdout",
     "output_type": "stream",
     "text": [
      "(404, 13)\n",
      "(102, 13)\n",
      "(404,)\n",
      "(102,)\n"
     ]
    }
   ],
   "source": [
    "print(X_train.shape)\n",
    "print(X_test.shape)\n",
    "print(y_train.shape)\n",
    "print(y_test.shape)"
   ]
  },
  {
   "cell_type": "markdown",
   "metadata": {},
   "source": [
    "### 1. Creating a model\n",
    "- Keras model object can be created with Sequential class\n",
    "- At the outset, the model is empty per se. It is completed by **'adding'** additional layers and compilation\n",
    "- Ref: https://keras.io/models/sequential/\n",
    "- Ref: https://keras.io/getting-started/sequential-model-guide/"
   ]
  },
  {
   "cell_type": "code",
   "execution_count": 228,
   "metadata": {},
   "outputs": [],
   "source": [
    "# The Sequential model is a linear stack of layers.\n",
    "# You can create a Sequential model by passing a list of \n",
    "# layer instances to the constructor:\n",
    "\n",
    "# OR \n",
    "\n",
    "# You can also simply add layers via the .add() method:\n",
    "\n",
    "# Ref: https://keras.io/api/models/sequential/\n",
    "\n",
    "from keras.models import Sequential"
   ]
  },
  {
   "cell_type": "code",
   "execution_count": 230,
   "metadata": {},
   "outputs": [],
   "source": [
    "model = Sequential() # Instantiate an empty model"
   ]
  },
  {
   "cell_type": "code",
   "execution_count": 232,
   "metadata": {},
   "outputs": [],
   "source": [
    "# model.<press TAB key> # TODO: Explore its attributes"
   ]
  },
  {
   "cell_type": "markdown",
   "metadata": {},
   "source": [
    "- **compile** - First, we want to decide a model architecture, this is the number of hidden layers and activation functions, etc. (compile)\n",
    "\n",
    "- **fit** - Secondly, we want to train our model to get all the paramters to the correct value to map our inputs to our outputs. (fit)\n",
    "\n",
    "- **predict** - Lastly, we will want to use this model to do some feed-forward passes to predict novel inputs. (predict)"
   ]
  },
  {
   "cell_type": "markdown",
   "metadata": {},
   "source": [
    "### 1-1. Adding layers\n",
    "- Keras layers can be **added** to the model\n",
    "- Adding layers are like stacking lego blocks one by one\n",
    "- Doc: https://keras.io/layers/core/"
   ]
  },
  {
   "cell_type": "code",
   "execution_count": 234,
   "metadata": {},
   "outputs": [],
   "source": [
    "from keras.layers import Activation, Dense"
   ]
  },
  {
   "cell_type": "code",
   "execution_count": 236,
   "metadata": {},
   "outputs": [],
   "source": [
    "# Method 1 - Activation will be mentioned at the time of \n",
    "# layer creation\n",
    "\n",
    "# References for Dense layer:\n",
    "# https://medium.com/@hunterheidenreich/understanding-keras-dense-layers-2abadff9b990\n",
    "# https://keras.io/api/layers/core_layers/dense/\n",
    "\n",
    "model.add(Dense(10, input_shape = (13,), \n",
    "                activation = 'sigmoid')\n",
    "         ) # Input layer\n",
    "\n",
    "model.add(Dense(10, activation = 'sigmoid')) # Hideen Layer1\n",
    "\n",
    "model.add(Dense(10, activation = 'sigmoid')) # Hidden Layer2\n",
    "\n",
    "model.add(Dense(1)) # Output Layer"
   ]
  },
  {
   "cell_type": "code",
   "execution_count": 238,
   "metadata": {},
   "outputs": [],
   "source": [
    "# This is equivalent to the above code block\n",
    "# Keras model with two hidden layer with 10 neurons each \n",
    "# Method 2\n",
    "\n",
    "# You should execute either previous cell or this cell, \n",
    "# otherwise it will add 4 more layers\n",
    "\n",
    "# Input layer => input_shape should be explicitly designated\n",
    "# \n",
    "model.add(Dense(10, input_shape = (13,)))    # A sample has 13 attributes\n",
    "model.add(Activation('sigmoid'))\n",
    "\n",
    "# Hidden layer1 => only output dimension should be designated\n",
    "model.add(Dense(10))                         \n",
    "model.add(Activation('sigmoid'))\n",
    "\n",
    "# Hidden layer2 => only output dimension should be designated\n",
    "model.add(Dense(10))                         \n",
    "model.add(Activation('sigmoid'))\n",
    "\n",
    "# Output layer => output dimension = 1 since it is regression problem\n",
    "# In regression, it should output a single continuous value\n",
    "model.add(Dense(1))                          "
   ]
  },
  {
   "cell_type": "code",
   "execution_count": 240,
   "metadata": {},
   "outputs": [],
   "source": [
    "# Get the model configuration - Too detailed..may require time to understand\n",
    "# Optional exploration..can be done after understanding MLP fully\n",
    "\n",
    "# model.get_config()\n",
    "# model.get_weights()\n",
    "\n",
    "# Similarly we can get lot of details abot model...but we have\n",
    "# trained the model yet"
   ]
  },
  {
   "cell_type": "markdown",
   "metadata": {},
   "source": [
    "### 1-2. Model compile\n",
    "- Keras model should be \"compiled\" prior to training\n",
    "- Types of loss (function) and optimizer should be designated\n",
    "    - Doc (optimizers): https://keras.io/optimizers/\n",
    "    - Doc (losses): https://keras.io/losses/\n",
    "\n",
    "\n",
    "**Learning Rate**\n",
    "\n",
    "Ref: https://machinelearningmastery.com/understand-the-dynamics-of-learning-rate-on-deep-learning-neural-networks/\n",
    "\n",
    "The learning rate is a hyperparameter that controls how much to change the model in response to the estimated error each time the model weights are updated. Choosing the learning rate is challenging as a value too small may result in a long training process that could get stuck, whereas a value too large may result in learning a sub-optimal set of weights too fast or an unstable training process.\n",
    "\n",
    "<img src=\"learning_rate.png\">"
   ]
  },
  {
   "cell_type": "code",
   "execution_count": 242,
   "metadata": {},
   "outputs": [],
   "source": [
    "# Instantiate an optimizaer\n",
    "# Stochastic --> Random\n",
    "# SGD: while selecting data points at each step to calculate the derivatives. SGD randomly picks one data point from the whole data set at each iteration to reduce the computations enormously.\n",
    "from keras import optimizers\n",
    "sgd = optimizers.SGD(lr = 0.01)    # stochastic gradient descent optimizer"
   ]
  },
  {
   "cell_type": "code",
   "execution_count": 244,
   "metadata": {},
   "outputs": [],
   "source": [
    "# Build MLP model\n",
    "model.compile(optimizer = sgd, \n",
    "              loss = 'mean_squared_error', \n",
    "              metrics = ['mse'])  # for regression problems, mean squared error (MSE) is often employed"
   ]
  },
  {
   "cell_type": "markdown",
   "metadata": {},
   "source": [
    "### Summary of the model"
   ]
  },
  {
   "cell_type": "code",
   "execution_count": 246,
   "metadata": {
    "scrolled": true
   },
   "outputs": [
    {
     "name": "stdout",
     "output_type": "stream",
     "text": [
      "Model: \"sequential_12\"\n",
      "_________________________________________________________________\n",
      " Layer (type)                Output Shape              Param #   \n",
      "=================================================================\n",
      " dense_92 (Dense)            (None, 10)                140       \n",
      "                                                                 \n",
      " dense_93 (Dense)            (None, 10)                110       \n",
      "                                                                 \n",
      " dense_94 (Dense)            (None, 10)                110       \n",
      "                                                                 \n",
      " dense_95 (Dense)            (None, 1)                 11        \n",
      "                                                                 \n",
      " dense_96 (Dense)            (None, 10)                20        \n",
      "                                                                 \n",
      " activation_43 (Activation)  (None, 10)                0         \n",
      "                                                                 \n",
      " dense_97 (Dense)            (None, 10)                110       \n",
      "                                                                 \n",
      " activation_44 (Activation)  (None, 10)                0         \n",
      "                                                                 \n",
      " dense_98 (Dense)            (None, 10)                110       \n",
      "                                                                 \n",
      " activation_45 (Activation)  (None, 10)                0         \n",
      "                                                                 \n",
      " dense_99 (Dense)            (None, 1)                 11        \n",
      "                                                                 \n",
      " dense_100 (Dense)           (None, 10)                20        \n",
      "                                                                 \n",
      " dense_101 (Dense)           (None, 10)                110       \n",
      "                                                                 \n",
      " dense_102 (Dense)           (None, 10)                110       \n",
      "                                                                 \n",
      " dense_103 (Dense)           (None, 1)                 11        \n",
      "                                                                 \n",
      " dense_104 (Dense)           (None, 10)                20        \n",
      "                                                                 \n",
      " activation_46 (Activation)  (None, 10)                0         \n",
      "                                                                 \n",
      " dense_105 (Dense)           (None, 10)                110       \n",
      "                                                                 \n",
      " activation_47 (Activation)  (None, 10)                0         \n",
      "                                                                 \n",
      " dense_106 (Dense)           (None, 10)                110       \n",
      "                                                                 \n",
      " activation_48 (Activation)  (None, 10)                0         \n",
      "                                                                 \n",
      " dense_107 (Dense)           (None, 1)                 11        \n",
      "                                                                 \n",
      "=================================================================\n",
      "Total params: 1,124\n",
      "Trainable params: 1,124\n",
      "Non-trainable params: 0\n",
      "_________________________________________________________________\n"
     ]
    }
   ],
   "source": [
    "model.summary() \n",
    "# dense - 13x10=130 weights and 10 biases, 1 bias for every neuron\n",
    "\n",
    "# dense1 - 10 outputs from 10 neurons of dense, so,\n",
    "#          10x10=100 weights and 10 biases\n",
    "#          Total params = 100+10 = 110\n",
    "\n",
    "# dense2 - 10 outputs from 10 neurons of previous dense layer\n",
    "#          and dense2 has 10 neurons, all are connected\n",
    "#          10x10=100 weights and 10 biases\n",
    "#          Total params = 100+10 = 110\n",
    "\n",
    "# dense3 - 10 outputs from 10 neurons of dense2 layer\n",
    "#          only one neuron in this layer\n",
    "#          10x1=10 weights and 1 bias for that single neuron\n",
    "#          Total params = 10+1 = 11"
   ]
  },
  {
   "cell_type": "markdown",
   "metadata": {},
   "source": [
    "### 2. Training\n",
    "- Training the model with training data provided"
   ]
  },
  {
   "cell_type": "code",
   "execution_count": 248,
   "metadata": {},
   "outputs": [
    {
     "name": "stdout",
     "output_type": "stream",
     "text": [
      "Epoch 1/10\n",
      "9/9 [==============================] - 1s 2ms/step - loss: 348.0828 - mse: 348.0828\n",
      "Epoch 2/10\n",
      "9/9 [==============================] - 0s 2ms/step - loss: 94.7284 - mse: 94.7284\n",
      "Epoch 3/10\n",
      "9/9 [==============================] - 0s 2ms/step - loss: 85.2844 - mse: 85.2844\n",
      "Epoch 4/10\n",
      "9/9 [==============================] - 0s 2ms/step - loss: 84.5307 - mse: 84.5307\n",
      "Epoch 5/10\n",
      "9/9 [==============================] - 0s 2ms/step - loss: 84.7513 - mse: 84.7513\n",
      "Epoch 6/10\n",
      "9/9 [==============================] - 0s 2ms/step - loss: 84.8938 - mse: 84.8938\n",
      "Epoch 7/10\n",
      "9/9 [==============================] - 0s 2ms/step - loss: 84.6954 - mse: 84.6954\n",
      "Epoch 8/10\n",
      "9/9 [==============================] - 0s 2ms/step - loss: 84.9966 - mse: 84.9966\n",
      "Epoch 9/10\n",
      "9/9 [==============================] - 0s 2ms/step - loss: 84.9410 - mse: 84.9410\n",
      "Epoch 10/10\n",
      "9/9 [==============================] - 0s 2ms/step - loss: 84.7370 - mse: 84.7370\n"
     ]
    },
    {
     "data": {
      "text/plain": [
       "<keras.callbacks.History at 0x1b495f06eb0>"
      ]
     },
     "execution_count": 248,
     "metadata": {},
     "output_type": "execute_result"
    }
   ],
   "source": [
    "# Train your MLP model\n",
    "model.fit(X_train, \n",
    "          y_train, \n",
    "          batch_size = 50, \n",
    "          epochs = 10, \n",
    "          verbose = 1)\n",
    "\n",
    "# verbose: 0, 1, or 2. Verbosity mode. 0 = silent, 1 = progress bar, 2 = one line per epoch. Note that the progress bar is not particularly useful when logged to a file, so verbose=2 is recommended when not running interactively (eg, in a production environment)."
   ]
  },
  {
   "cell_type": "markdown",
   "metadata": {},
   "source": [
    "### 3. Evaluation\n",
    "- Keras model can be evaluated with evaluate() function\n",
    "- Evaluation results are contained in a list\n",
    "    - Doc (metrics): https://keras.io/metrics/"
   ]
  },
  {
   "cell_type": "code",
   "execution_count": 250,
   "metadata": {},
   "outputs": [
    {
     "name": "stdout",
     "output_type": "stream",
     "text": [
      "4/4 [==============================] - 0s 2ms/step - loss: 83.3297 - mse: 83.3297\n"
     ]
    }
   ],
   "source": [
    "results = model.evaluate(X_test, y_test)"
   ]
  },
  {
   "cell_type": "code",
   "execution_count": 252,
   "metadata": {},
   "outputs": [
    {
     "name": "stdout",
     "output_type": "stream",
     "text": [
      "['loss', 'mse']\n",
      "[83.3297348022461, 83.3297348022461]\n"
     ]
    }
   ],
   "source": [
    "print(model.metrics_names)     # list of metric names the model is employing\n",
    "print(results)                 # actual figure of metrics computed"
   ]
  },
  {
   "cell_type": "code",
   "execution_count": 254,
   "metadata": {},
   "outputs": [
    {
     "name": "stdout",
     "output_type": "stream",
     "text": [
      "loss:  83.3297348022461\n",
      "mse:  83.3297348022461\n"
     ]
    }
   ],
   "source": [
    "print('loss: ', results[0])\n",
    "print('mse: ', results[1])"
   ]
  },
  {
   "cell_type": "markdown",
   "metadata": {},
   "source": [
    "## (II) MLP for classification tasks\n",
    "- When the target (**y**) is discrete (categorical)\n",
    "- For loss function, cross-entropy is used and for evaluation metric, accuracy is commonly used"
   ]
  },
  {
   "cell_type": "code",
   "execution_count": 256,
   "metadata": {},
   "outputs": [],
   "source": [
    "from sklearn.datasets import load_breast_cancer\n",
    "from sklearn.model_selection import train_test_split"
   ]
  },
  {
   "cell_type": "code",
   "execution_count": 258,
   "metadata": {},
   "outputs": [],
   "source": [
    "whole_data = load_breast_cancer()"
   ]
  },
  {
   "cell_type": "code",
   "execution_count": 260,
   "metadata": {},
   "outputs": [],
   "source": [
    "X_data = whole_data.data\n",
    "y_data = whole_data.target"
   ]
  },
  {
   "cell_type": "code",
   "execution_count": 262,
   "metadata": {},
   "outputs": [],
   "source": [
    "#y_data"
   ]
  },
  {
   "cell_type": "code",
   "execution_count": 264,
   "metadata": {},
   "outputs": [],
   "source": [
    "X_train, X_test, y_train, y_test = train_test_split(X_data, y_data, test_size = 0.3, random_state = 7) "
   ]
  },
  {
   "cell_type": "markdown",
   "metadata": {},
   "source": [
    "### Dataset Description\n",
    "- Breast cancer dataset has total 569 data instances (212 malign, 357 benign instances)\n",
    "- 30 attributes (features) to predict the binary class (M/B)\n",
    "- Doc: http://scikit-learn.org/stable/modules/generated/sklearn.datasets.load_breast_cancer.html#sklearn.datasets.load_breast_cancer"
   ]
  },
  {
   "cell_type": "code",
   "execution_count": 266,
   "metadata": {},
   "outputs": [
    {
     "name": "stdout",
     "output_type": "stream",
     "text": [
      "(398, 30)\n",
      "(171, 30)\n",
      "(398,)\n",
      "(171,)\n"
     ]
    }
   ],
   "source": [
    "print(X_train.shape)\n",
    "print(X_test.shape)\n",
    "print(y_train.shape)\n",
    "print(y_test.shape)"
   ]
  },
  {
   "cell_type": "markdown",
   "metadata": {},
   "source": [
    "### 1. Creating a model\n",
    "- Same with regression model at the outset"
   ]
  },
  {
   "cell_type": "code",
   "execution_count": 268,
   "metadata": {},
   "outputs": [],
   "source": [
    "from keras.models import Sequential"
   ]
  },
  {
   "cell_type": "code",
   "execution_count": 270,
   "metadata": {},
   "outputs": [],
   "source": [
    "model = Sequential()"
   ]
  },
  {
   "cell_type": "markdown",
   "metadata": {},
   "source": [
    "### 1-1. Adding layers\n",
    "- Keras layers can be **added** to the model\n",
    "- Adding layers are like stacking lego blocks one by one\n",
    "- It should be noted that as this is a classification problem, sigmoid layer (softmax for multi-class problems) should be added\n",
    "- Doc: https://keras.io/layers/core/"
   ]
  },
  {
   "cell_type": "code",
   "execution_count": 272,
   "metadata": {},
   "outputs": [],
   "source": [
    "# Method 1: This is equivalent to the below code block\n",
    "model.add(Dense(10, input_shape = (30,), activation = 'sigmoid'))\n",
    "model.add(Dense(10, activation = 'sigmoid'))\n",
    "model.add(Dense(10, activation = 'sigmoid'))\n",
    "model.add(Dense(2, activation = 'softmax'))"
   ]
  },
  {
   "cell_type": "code",
   "execution_count": 274,
   "metadata": {},
   "outputs": [],
   "source": [
    "# Method 2: Keras model with two hidden layer with 10 neurons each \n",
    "model.add(Dense(10, input_shape = (30,)))    # Input layer => input_shape should be explicitly designated\n",
    "model.add(Activation('sigmoid'))\n",
    "model.add(Dense(10))                         # Hidden layer => only output dimension should be designated\n",
    "model.add(Activation('sigmoid'))\n",
    "model.add(Dense(10))                         # Hidden layer => only output dimension should be designated\n",
    "model.add(Activation('sigmoid'))\n",
    "model.add(Dense(1))                          # Output layer => output dimension = 1 since it is binary classification problem\n",
    "model.add(Activation('softmax'))"
   ]
  },
  {
   "cell_type": "markdown",
   "metadata": {},
   "source": [
    "### 1-2. Model compile\n",
    "- Keras model should be \"compiled\" prior to training\n",
    "- Types of loss (function) and optimizer should be designated\n",
    "    - Doc (optimizers): https://keras.io/optimizers/\n",
    "    - Doc (losses): https://keras.io/losses/"
   ]
  },
  {
   "cell_type": "code",
   "execution_count": 276,
   "metadata": {},
   "outputs": [],
   "source": [
    "from keras import optimizers"
   ]
  },
  {
   "cell_type": "code",
   "execution_count": 278,
   "metadata": {},
   "outputs": [],
   "source": [
    "sgd = optimizers.SGD(lr = 0.01)    # stochastic gradient descent optimizer"
   ]
  },
  {
   "cell_type": "code",
   "execution_count": 280,
   "metadata": {},
   "outputs": [],
   "source": [
    "model.compile(optimizer = sgd, \n",
    "              loss = 'binary_crossentropy', \n",
    "              metrics = ['accuracy'])"
   ]
  },
  {
   "cell_type": "markdown",
   "metadata": {},
   "source": [
    "### Summary of the model"
   ]
  },
  {
   "cell_type": "code",
   "execution_count": 282,
   "metadata": {
    "scrolled": true
   },
   "outputs": [
    {
     "name": "stdout",
     "output_type": "stream",
     "text": [
      "Model: \"sequential_14\"\n",
      "_________________________________________________________________\n",
      " Layer (type)                Output Shape              Param #   \n",
      "=================================================================\n",
      " dense_116 (Dense)           (None, 10)                310       \n",
      "                                                                 \n",
      " dense_117 (Dense)           (None, 10)                110       \n",
      "                                                                 \n",
      " dense_118 (Dense)           (None, 10)                110       \n",
      "                                                                 \n",
      " dense_119 (Dense)           (None, 2)                 22        \n",
      "                                                                 \n",
      " dense_120 (Dense)           (None, 10)                30        \n",
      "                                                                 \n",
      " activation_53 (Activation)  (None, 10)                0         \n",
      "                                                                 \n",
      " dense_121 (Dense)           (None, 10)                110       \n",
      "                                                                 \n",
      " activation_54 (Activation)  (None, 10)                0         \n",
      "                                                                 \n",
      " dense_122 (Dense)           (None, 10)                110       \n",
      "                                                                 \n",
      " activation_55 (Activation)  (None, 10)                0         \n",
      "                                                                 \n",
      " dense_123 (Dense)           (None, 1)                 11        \n",
      "                                                                 \n",
      " activation_56 (Activation)  (None, 1)                 0         \n",
      "                                                                 \n",
      "=================================================================\n",
      "Total params: 813\n",
      "Trainable params: 813\n",
      "Non-trainable params: 0\n",
      "_________________________________________________________________\n"
     ]
    }
   ],
   "source": [
    "model.summary()"
   ]
  },
  {
   "cell_type": "markdown",
   "metadata": {},
   "source": [
    "### 2. Training\n",
    "- Training the model with training data provided"
   ]
  },
  {
   "cell_type": "code",
   "execution_count": null,
   "metadata": {},
   "outputs": [],
   "source": [
    "model.fit(X_train, \n",
    "          y_train, \n",
    "          batch_size = 2, \n",
    "          epochs = 10, \n",
    "          verbose = 1)"
   ]
  },
  {
   "cell_type": "code",
   "execution_count": 286,
   "metadata": {},
   "outputs": [
    {
     "data": {
      "text/plain": [
       "(398, 30)"
      ]
     },
     "execution_count": 286,
     "metadata": {},
     "output_type": "execute_result"
    }
   ],
   "source": [
    "X_train.shape "
   ]
  },
  {
   "cell_type": "code",
   "execution_count": 288,
   "metadata": {},
   "outputs": [
    {
     "data": {
      "text/plain": [
       "(398,)"
      ]
     },
     "execution_count": 288,
     "metadata": {},
     "output_type": "execute_result"
    }
   ],
   "source": [
    "y_train.shape"
   ]
  },
  {
   "cell_type": "code",
   "execution_count": 290,
   "metadata": {},
   "outputs": [
    {
     "data": {
      "text/plain": [
       "(171,)"
      ]
     },
     "execution_count": 290,
     "metadata": {},
     "output_type": "execute_result"
    }
   ],
   "source": [
    "y_test.shape\n"
   ]
  },
  {
   "cell_type": "markdown",
   "metadata": {},
   "source": [
    "### 3. Evaluation\n",
    "- Keras model can be evaluated with evaluate() function\n",
    "- Evaluation results are contained in a list\n",
    "    - Doc (metrics): https://keras.io/metrics/"
   ]
  },
  {
   "cell_type": "code",
   "execution_count": 292,
   "metadata": {},
   "outputs": [
    {
     "name": "stdout",
     "output_type": "stream",
     "text": [
      "6/6 [==============================] - 0s 2ms/step - loss: 0.6378 - accuracy: 0.6784\n"
     ]
    }
   ],
   "source": [
    "results = model.evaluate(X_test, y_test)"
   ]
  },
  {
   "cell_type": "code",
   "execution_count": 294,
   "metadata": {},
   "outputs": [
    {
     "name": "stdout",
     "output_type": "stream",
     "text": [
      "['loss', 'accuracy']\n",
      "[0.6377596259117126, 0.6783625483512878]\n"
     ]
    }
   ],
   "source": [
    "print(model.metrics_names)     # list of metric names the model is employing\n",
    "print(results)                 # actual figure of metrics computed"
   ]
  },
  {
   "cell_type": "code",
   "execution_count": 296,
   "metadata": {},
   "outputs": [
    {
     "name": "stdout",
     "output_type": "stream",
     "text": [
      "loss:  0.6377596259117126\n",
      "accuracy:  0.6783625483512878\n"
     ]
    }
   ],
   "source": [
    "print('loss: ', results[0])\n",
    "print('accuracy: ', results[1])"
   ]
  },
  {
   "cell_type": "markdown",
   "metadata": {
    "jupyter": {
     "outputs_hidden": true
    }
   },
   "source": []
  }
 ],
 "metadata": {
  "kernelspec": {
   "display_name": "Python 3 (ipykernel)",
   "language": "python",
   "name": "python3"
  },
  "language_info": {
   "codemirror_mode": {
    "name": "ipython",
    "version": 3
   },
   "file_extension": ".py",
   "mimetype": "text/x-python",
   "name": "python",
   "nbconvert_exporter": "python",
   "pygments_lexer": "ipython3",
   "version": "3.9.12"
  }
 },
 "nbformat": 4,
 "nbformat_minor": 4
}
