{
 "cells": [
  {
   "cell_type": "code",
   "execution_count": 38,
   "id": "972f5978-5cb6-43a7-9eb9-25212efed9f7",
   "metadata": {},
   "outputs": [],
   "source": [
    "# load data\n",
    "from keras.datasets import boston_housing"
   ]
  },
  {
   "cell_type": "code",
   "execution_count": 39,
   "id": "4e585041-d91a-4898-b8a2-66a6de1e657e",
   "metadata": {},
   "outputs": [],
   "source": [
    "(X_train, y_train),(X_test, y_test) = boston_housing.load_data()"
   ]
  },
  {
   "cell_type": "code",
   "execution_count": 40,
   "id": "ba36e445-3aa2-465d-9b65-b1fd7dca6888",
   "metadata": {},
   "outputs": [
    {
     "name": "stdout",
     "output_type": "stream",
     "text": [
      "(404, 13)\n",
      "(102, 13)\n",
      "(404,)\n",
      "(102,)\n"
     ]
    }
   ],
   "source": [
    "print(X_train.shape)\n",
    "print(X_test.shape)\n",
    "print(y_train.shape)\n",
    "print(y_test.shape)"
   ]
  },
  {
   "cell_type": "markdown",
   "id": "eb11fab6-7ebc-4457-9eee-b61c90fe32d8",
   "metadata": {},
   "source": [
    "## **creating a model**"
   ]
  },
  {
   "cell_type": "code",
   "execution_count": 41,
   "id": "957e53c6-b44a-42e2-b76f-2417133558d7",
   "metadata": {},
   "outputs": [],
   "source": [
    "# sequential model is linear stack of layers\n",
    "# crate sequiential models by passing a list of layer instances to constructor\n",
    "from keras.models import Sequential"
   ]
  },
  {
   "cell_type": "code",
   "execution_count": 42,
   "id": "0e199d38-986d-4442-aa02-f8cb6f6df77d",
   "metadata": {},
   "outputs": [],
   "source": [
    "model  = Sequential()\n",
    "#instantitiate an empty nmodel\n"
   ]
  },
  {
   "cell_type": "code",
   "execution_count": 43,
   "id": "9fd32a08-7093-41f8-a437-548bae1dd7b1",
   "metadata": {},
   "outputs": [],
   "source": [
    "#model.<TAB KEY> explored attributes"
   ]
  },
  {
   "cell_type": "markdown",
   "id": "02bb09b1-ee55-4684-9d81-3186dccaebe5",
   "metadata": {},
   "source": [
    "- **compile** - first decide model architecture, this is number of hidden layers and activation functions\n",
    "\n",
    "- **fit** - we want to train our model to get all the parameters to correct value to map our input to outputs\n",
    "- **predict** - Lastly, we will want to use this model to do some feed forwads passes to predict novel inputs"
   ]
  },
  {
   "cell_type": "code",
   "execution_count": 44,
   "id": "8093b046-c7fe-4dbe-921a-22990fd0cf40",
   "metadata": {},
   "outputs": [],
   "source": [
    "# adding layers\n",
    "#keras layers can be added  to the model\n",
    "\n"
   ]
  },
  {
   "cell_type": "code",
   "execution_count": 45,
   "id": "3d0253e8-1ca8-4a85-99aa-a8d7d2d5264f",
   "metadata": {},
   "outputs": [],
   "source": [
    "from keras.layers import Activation, Dense"
   ]
  },
  {
   "cell_type": "code",
   "execution_count": 46,
   "id": "40887372-1025-42d3-97f7-9051fe319ff1",
   "metadata": {},
   "outputs": [],
   "source": [
    "#method 1 : Activation fn will be mentioned at the time of layer\n",
    "#creation\n",
    "# this is input layer\n",
    "model.add(Dense(30, input_shape = (13,),activation  = 'sigmoid'))\n",
    "\n",
    "#hidden layer\n",
    "model.add(Dense(30, activation = 'sigmoid'))\n",
    "# hidden layer\n",
    "model.add(Dense(30, activation = 'sigmoid'))\n",
    "#hidden layer\n",
    "model.add(Dense(30, activation  ='sigmoid'))\n",
    "#output layer\n",
    "model.add(Dense(1))\n"
   ]
  },
  {
   "cell_type": "code",
   "execution_count": 47,
   "id": "e771e4a6-ced2-47cf-a092-43d5b772027d",
   "metadata": {},
   "outputs": [],
   "source": [
    "#instantiate an optimizer\n",
    "from keras import optimizers\n",
    "sgd = optimizers.SGD(learning_rate= 0.0092)\n",
    "#stochastic gradient descent"
   ]
  },
  {
   "cell_type": "code",
   "execution_count": 48,
   "id": "760b50f8",
   "metadata": {},
   "outputs": [],
   "source": [
    "#build NLP model\n",
    "model.compile(optimizer = sgd,\n",
    "             loss = 'mean_squared_error',\n",
    "             metrics = ['mse'])\n",
    "# for regression problems mean squared errors , MSE used often\n"
   ]
  },
  {
   "cell_type": "code",
   "execution_count": 49,
   "id": "22d9da63",
   "metadata": {},
   "outputs": [
    {
     "name": "stdout",
     "output_type": "stream",
     "text": [
      "Model: \"sequential_3\"\n",
      "_________________________________________________________________\n",
      " Layer (type)                Output Shape              Param #   \n",
      "=================================================================\n",
      " dense_19 (Dense)            (None, 30)                420       \n",
      "                                                                 \n",
      " dense_20 (Dense)            (None, 30)                930       \n",
      "                                                                 \n",
      " dense_21 (Dense)            (None, 30)                930       \n",
      "                                                                 \n",
      " dense_22 (Dense)            (None, 30)                930       \n",
      "                                                                 \n",
      " dense_23 (Dense)            (None, 1)                 31        \n",
      "                                                                 \n",
      "=================================================================\n",
      "Total params: 3,241\n",
      "Trainable params: 3,241\n",
      "Non-trainable params: 0\n",
      "_________________________________________________________________\n"
     ]
    }
   ],
   "source": [
    "model.summary()"
   ]
  },
  {
   "cell_type": "markdown",
   "id": "ec9bde88",
   "metadata": {},
   "source": [
    "## **Training**\n"
   ]
  },
  {
   "cell_type": "code",
   "execution_count": 50,
   "id": "7365259e",
   "metadata": {},
   "outputs": [
    {
     "name": "stdout",
     "output_type": "stream",
     "text": [
      "Epoch 1/100\n",
      "11/11 [==============================] - 0s 2ms/step - loss: 214.9133 - mse: 214.9133\n",
      "Epoch 2/100\n",
      "11/11 [==============================] - 0s 2ms/step - loss: 84.9881 - mse: 84.9881\n",
      "Epoch 3/100\n",
      "11/11 [==============================] - 0s 2ms/step - loss: 85.6308 - mse: 85.6308\n",
      "Epoch 4/100\n",
      "11/11 [==============================] - 0s 2ms/step - loss: 85.3977 - mse: 85.3977\n",
      "Epoch 5/100\n",
      "11/11 [==============================] - 0s 2ms/step - loss: 85.1817 - mse: 85.1817\n",
      "Epoch 6/100\n",
      "11/11 [==============================] - 0s 2ms/step - loss: 84.7536 - mse: 84.7536\n",
      "Epoch 7/100\n",
      "11/11 [==============================] - 0s 2ms/step - loss: 84.3640 - mse: 84.3640\n",
      "Epoch 8/100\n",
      "11/11 [==============================] - 0s 2ms/step - loss: 83.9070 - mse: 83.9070\n",
      "Epoch 9/100\n",
      "11/11 [==============================] - 0s 2ms/step - loss: 87.1911 - mse: 87.1911\n",
      "Epoch 10/100\n",
      "11/11 [==============================] - 0s 2ms/step - loss: 87.5803 - mse: 87.5803\n",
      "Epoch 11/100\n",
      "11/11 [==============================] - 0s 2ms/step - loss: 82.4582 - mse: 82.4582\n",
      "Epoch 12/100\n",
      "11/11 [==============================] - 0s 2ms/step - loss: 83.3901 - mse: 83.3901\n",
      "Epoch 13/100\n",
      "11/11 [==============================] - 0s 2ms/step - loss: 81.4775 - mse: 81.4775\n",
      "Epoch 14/100\n",
      "11/11 [==============================] - 0s 2ms/step - loss: 81.5304 - mse: 81.5304\n",
      "Epoch 15/100\n",
      "11/11 [==============================] - 0s 2ms/step - loss: 81.8278 - mse: 81.8278\n",
      "Epoch 16/100\n",
      "11/11 [==============================] - 0s 2ms/step - loss: 81.2803 - mse: 81.2803\n",
      "Epoch 17/100\n",
      "11/11 [==============================] - 0s 2ms/step - loss: 80.1439 - mse: 80.1439\n",
      "Epoch 18/100\n",
      "11/11 [==============================] - 0s 2ms/step - loss: 79.5948 - mse: 79.5948\n",
      "Epoch 19/100\n",
      "11/11 [==============================] - 0s 2ms/step - loss: 78.0258 - mse: 78.0258\n",
      "Epoch 20/100\n",
      "11/11 [==============================] - 0s 2ms/step - loss: 78.9067 - mse: 78.9067\n",
      "Epoch 21/100\n",
      "11/11 [==============================] - 0s 2ms/step - loss: 79.3551 - mse: 79.3551\n",
      "Epoch 22/100\n",
      "11/11 [==============================] - 0s 2ms/step - loss: 75.9113 - mse: 75.9113\n",
      "Epoch 23/100\n",
      "11/11 [==============================] - 0s 1ms/step - loss: 76.0791 - mse: 76.0791\n",
      "Epoch 24/100\n",
      "11/11 [==============================] - 0s 2ms/step - loss: 79.4281 - mse: 79.4281\n",
      "Epoch 25/100\n",
      "11/11 [==============================] - 0s 2ms/step - loss: 77.9043 - mse: 77.9043\n",
      "Epoch 26/100\n",
      "11/11 [==============================] - 0s 2ms/step - loss: 73.7708 - mse: 73.7708\n",
      "Epoch 27/100\n",
      "11/11 [==============================] - 0s 2ms/step - loss: 73.6689 - mse: 73.6689\n",
      "Epoch 28/100\n",
      "11/11 [==============================] - 0s 2ms/step - loss: 76.1375 - mse: 76.1375\n",
      "Epoch 29/100\n",
      "11/11 [==============================] - 0s 1ms/step - loss: 80.9683 - mse: 80.9683\n",
      "Epoch 30/100\n",
      "11/11 [==============================] - 0s 2ms/step - loss: 72.9416 - mse: 72.9416\n",
      "Epoch 31/100\n",
      "11/11 [==============================] - 0s 2ms/step - loss: 74.6148 - mse: 74.6148\n",
      "Epoch 32/100\n",
      "11/11 [==============================] - 0s 2ms/step - loss: 72.1602 - mse: 72.1602\n",
      "Epoch 33/100\n",
      "11/11 [==============================] - 0s 2ms/step - loss: 70.8755 - mse: 70.8755\n",
      "Epoch 34/100\n",
      "11/11 [==============================] - 0s 2ms/step - loss: 71.6354 - mse: 71.6354\n",
      "Epoch 35/100\n",
      "11/11 [==============================] - 0s 2ms/step - loss: 72.4980 - mse: 72.4980\n",
      "Epoch 36/100\n",
      "11/11 [==============================] - 0s 2ms/step - loss: 73.2779 - mse: 73.2779\n",
      "Epoch 37/100\n",
      "11/11 [==============================] - 0s 2ms/step - loss: 71.9808 - mse: 71.9808\n",
      "Epoch 38/100\n",
      "11/11 [==============================] - 0s 2ms/step - loss: 80.4871 - mse: 80.4871\n",
      "Epoch 39/100\n",
      "11/11 [==============================] - 0s 2ms/step - loss: 71.2833 - mse: 71.2833\n",
      "Epoch 40/100\n",
      "11/11 [==============================] - 0s 2ms/step - loss: 70.5469 - mse: 70.5469\n",
      "Epoch 41/100\n",
      "11/11 [==============================] - 0s 2ms/step - loss: 70.1701 - mse: 70.1701\n",
      "Epoch 42/100\n",
      "11/11 [==============================] - 0s 2ms/step - loss: 73.7850 - mse: 73.7850\n",
      "Epoch 43/100\n",
      "11/11 [==============================] - 0s 2ms/step - loss: 71.1217 - mse: 71.1217\n",
      "Epoch 44/100\n",
      "11/11 [==============================] - 0s 2ms/step - loss: 70.6059 - mse: 70.6059\n",
      "Epoch 45/100\n",
      "11/11 [==============================] - 0s 2ms/step - loss: 69.8090 - mse: 69.8090\n",
      "Epoch 46/100\n",
      "11/11 [==============================] - 0s 2ms/step - loss: 70.5154 - mse: 70.5154\n",
      "Epoch 47/100\n",
      "11/11 [==============================] - 0s 2ms/step - loss: 70.5162 - mse: 70.5162\n",
      "Epoch 48/100\n",
      "11/11 [==============================] - 0s 2ms/step - loss: 69.0058 - mse: 69.0058\n",
      "Epoch 49/100\n",
      "11/11 [==============================] - 0s 2ms/step - loss: 73.7145 - mse: 73.7145\n",
      "Epoch 50/100\n",
      "11/11 [==============================] - 0s 2ms/step - loss: 72.8842 - mse: 72.8842\n",
      "Epoch 51/100\n",
      "11/11 [==============================] - 0s 2ms/step - loss: 70.3816 - mse: 70.3816\n",
      "Epoch 52/100\n",
      "11/11 [==============================] - 0s 1ms/step - loss: 70.8083 - mse: 70.8083\n",
      "Epoch 53/100\n",
      "11/11 [==============================] - 0s 2ms/step - loss: 69.8435 - mse: 69.8435\n",
      "Epoch 54/100\n",
      "11/11 [==============================] - 0s 2ms/step - loss: 71.3390 - mse: 71.3390\n",
      "Epoch 55/100\n",
      "11/11 [==============================] - 0s 1ms/step - loss: 69.9472 - mse: 69.9472\n",
      "Epoch 56/100\n",
      "11/11 [==============================] - 0s 2ms/step - loss: 70.2318 - mse: 70.2318\n",
      "Epoch 57/100\n",
      "11/11 [==============================] - 0s 1ms/step - loss: 69.8875 - mse: 69.8875\n",
      "Epoch 58/100\n",
      "11/11 [==============================] - 0s 1ms/step - loss: 74.9006 - mse: 74.9006\n",
      "Epoch 59/100\n",
      "11/11 [==============================] - 0s 2ms/step - loss: 72.2170 - mse: 72.2170\n",
      "Epoch 60/100\n",
      "11/11 [==============================] - 0s 2ms/step - loss: 71.2622 - mse: 71.2622\n",
      "Epoch 61/100\n",
      "11/11 [==============================] - 0s 2ms/step - loss: 71.1665 - mse: 71.1665\n",
      "Epoch 62/100\n",
      "11/11 [==============================] - 0s 2ms/step - loss: 70.9571 - mse: 70.9571\n",
      "Epoch 63/100\n",
      "11/11 [==============================] - 0s 1ms/step - loss: 75.5359 - mse: 75.5359\n",
      "Epoch 64/100\n",
      "11/11 [==============================] - 0s 2ms/step - loss: 70.4261 - mse: 70.4261\n",
      "Epoch 65/100\n",
      "11/11 [==============================] - 0s 2ms/step - loss: 70.8012 - mse: 70.8012\n",
      "Epoch 66/100\n",
      "11/11 [==============================] - 0s 2ms/step - loss: 74.1903 - mse: 74.1903\n",
      "Epoch 67/100\n",
      "11/11 [==============================] - 0s 2ms/step - loss: 70.2619 - mse: 70.2619\n",
      "Epoch 68/100\n",
      "11/11 [==============================] - 0s 1ms/step - loss: 69.2338 - mse: 69.2338\n",
      "Epoch 69/100\n",
      "11/11 [==============================] - 0s 2ms/step - loss: 70.2149 - mse: 70.2149\n",
      "Epoch 70/100\n",
      "11/11 [==============================] - 0s 2ms/step - loss: 70.5216 - mse: 70.5216\n",
      "Epoch 71/100\n",
      "11/11 [==============================] - 0s 2ms/step - loss: 71.8301 - mse: 71.8301\n",
      "Epoch 72/100\n",
      "11/11 [==============================] - 0s 2ms/step - loss: 72.1056 - mse: 72.1056\n",
      "Epoch 73/100\n",
      "11/11 [==============================] - 0s 1ms/step - loss: 69.9659 - mse: 69.9659\n",
      "Epoch 74/100\n",
      "11/11 [==============================] - 0s 2ms/step - loss: 71.2331 - mse: 71.2331\n",
      "Epoch 75/100\n",
      "11/11 [==============================] - 0s 1ms/step - loss: 72.0141 - mse: 72.0141\n",
      "Epoch 76/100\n",
      "11/11 [==============================] - 0s 2ms/step - loss: 72.2125 - mse: 72.2125\n",
      "Epoch 77/100\n",
      "11/11 [==============================] - 0s 2ms/step - loss: 71.0555 - mse: 71.0555\n",
      "Epoch 78/100\n",
      "11/11 [==============================] - 0s 2ms/step - loss: 68.6023 - mse: 68.6023\n",
      "Epoch 79/100\n",
      "11/11 [==============================] - 0s 1ms/step - loss: 69.6476 - mse: 69.6476\n",
      "Epoch 80/100\n",
      "11/11 [==============================] - 0s 1ms/step - loss: 69.4121 - mse: 69.4121\n",
      "Epoch 81/100\n",
      "11/11 [==============================] - 0s 1ms/step - loss: 70.0694 - mse: 70.0694\n",
      "Epoch 82/100\n",
      "11/11 [==============================] - 0s 1ms/step - loss: 72.1030 - mse: 72.1030\n",
      "Epoch 83/100\n",
      "11/11 [==============================] - 0s 1ms/step - loss: 70.2591 - mse: 70.2591\n",
      "Epoch 84/100\n",
      "11/11 [==============================] - 0s 2ms/step - loss: 70.5430 - mse: 70.5430\n",
      "Epoch 85/100\n",
      "11/11 [==============================] - 0s 2ms/step - loss: 70.3483 - mse: 70.3483\n",
      "Epoch 86/100\n",
      "11/11 [==============================] - 0s 1ms/step - loss: 70.8222 - mse: 70.8222\n",
      "Epoch 87/100\n",
      "11/11 [==============================] - 0s 1ms/step - loss: 70.6134 - mse: 70.6134\n",
      "Epoch 88/100\n",
      "11/11 [==============================] - 0s 1ms/step - loss: 71.6834 - mse: 71.6834\n",
      "Epoch 89/100\n",
      "11/11 [==============================] - 0s 1ms/step - loss: 69.9598 - mse: 69.9598\n",
      "Epoch 90/100\n",
      "11/11 [==============================] - 0s 1ms/step - loss: 70.2124 - mse: 70.2124\n",
      "Epoch 91/100\n",
      "11/11 [==============================] - 0s 2ms/step - loss: 69.5677 - mse: 69.5677\n",
      "Epoch 92/100\n",
      "11/11 [==============================] - 0s 1ms/step - loss: 71.7814 - mse: 71.7814\n",
      "Epoch 93/100\n",
      "11/11 [==============================] - 0s 1ms/step - loss: 75.2905 - mse: 75.2905\n",
      "Epoch 94/100\n",
      "11/11 [==============================] - 0s 1ms/step - loss: 69.7742 - mse: 69.7742\n",
      "Epoch 95/100\n",
      "11/11 [==============================] - 0s 1ms/step - loss: 76.1787 - mse: 76.1787\n",
      "Epoch 96/100\n",
      "11/11 [==============================] - 0s 1ms/step - loss: 84.0085 - mse: 84.0085\n",
      "Epoch 97/100\n",
      "11/11 [==============================] - 0s 1ms/step - loss: 82.9629 - mse: 82.9629\n",
      "Epoch 98/100\n",
      "11/11 [==============================] - 0s 1ms/step - loss: 81.3107 - mse: 81.3107\n",
      "Epoch 99/100\n",
      "11/11 [==============================] - 0s 1ms/step - loss: 80.2317 - mse: 80.2317\n",
      "Epoch 100/100\n",
      "11/11 [==============================] - 0s 1ms/step - loss: 78.5770 - mse: 78.5770\n"
     ]
    },
    {
     "data": {
      "text/plain": [
       "<keras.callbacks.History at 0x1a6c6ec8880>"
      ]
     },
     "execution_count": 50,
     "metadata": {},
     "output_type": "execute_result"
    }
   ],
   "source": [
    "#train your mlp model\n",
    "model.fit(X_train,\n",
    "          y_train,\n",
    "          batch_size=40,\n",
    "          epochs=100,\n",
    "          verbose=1)"
   ]
  },
  {
   "cell_type": "code",
   "execution_count": 51,
   "id": "9bc635c6",
   "metadata": {
    "scrolled": true
   },
   "outputs": [
    {
     "name": "stdout",
     "output_type": "stream",
     "text": [
      "4/4 [==============================] - 0s 2ms/step - loss: 93.7757 - mse: 93.7757\n"
     ]
    }
   ],
   "source": [
    "results = model.evaluate(X_test,y_test)"
   ]
  },
  {
   "cell_type": "code",
   "execution_count": 52,
   "id": "6b1e796d",
   "metadata": {},
   "outputs": [
    {
     "name": "stdout",
     "output_type": "stream",
     "text": [
      "['loss', 'mse']\n",
      "[93.77569580078125, 93.77569580078125]\n"
     ]
    }
   ],
   "source": [
    "print(model.metrics_names)\n",
    "print(results)"
   ]
  },
  {
   "cell_type": "code",
   "execution_count": 53,
   "id": "c0670e10",
   "metadata": {},
   "outputs": [
    {
     "name": "stdout",
     "output_type": "stream",
     "text": [
      "loss:  93.77569580078125\n",
      "mse:  93.77569580078125\n"
     ]
    }
   ],
   "source": [
    "print(\"loss: \",results[0])\n",
    "\n",
    "print(\"mse: \",results[1])\n",
    "#actual figure metrics computed"
   ]
  },
  {
   "cell_type": "markdown",
   "id": "9d4919b3",
   "metadata": {},
   "source": [
    "## 1. Creating a model"
   ]
  },
  {
   "cell_type": "code",
   "execution_count": 54,
   "id": "5284bd2e",
   "metadata": {},
   "outputs": [],
   "source": [
    "#same with regression mdoel at outset\n",
    "from keras.models import Sequential\n"
   ]
  },
  {
   "cell_type": "code",
   "execution_count": 55,
   "id": "284c5f26",
   "metadata": {},
   "outputs": [],
   "source": [
    "model1 = Sequential()\n"
   ]
  },
  {
   "cell_type": "code",
   "execution_count": 56,
   "id": "a38bf092",
   "metadata": {},
   "outputs": [],
   "source": [
    "# adding layers\n",
    "#keras layers can be addded to te model\n"
   ]
  },
  {
   "cell_type": "code",
   "execution_count": 57,
   "id": "11b92fa0",
   "metadata": {},
   "outputs": [],
   "source": [
    "model1.add(Dense(10, input_shape=(13,), activation='sigmoid'))\n",
    "model1.add(Dense(10, activation='sigmoid'))\n",
    "model1.add(Dense(10,activation='sigmoid'))\n",
    "model1.add(Dense(2,activation='softmax'))\n",
    "model1.add(Dense(2))\n"
   ]
  },
  {
   "cell_type": "code",
   "execution_count": 58,
   "id": "156107d9",
   "metadata": {},
   "outputs": [],
   "source": [
    "from keras import optimizers"
   ]
  },
  {
   "cell_type": "code",
   "execution_count": 59,
   "id": "37a6ed72",
   "metadata": {},
   "outputs": [],
   "source": [
    "sgd = optimizers.SGD(learning_rate=0.0019)\n",
    "# stochastic gradient descent optimizer"
   ]
  },
  {
   "cell_type": "markdown",
   "id": "c6fd923c",
   "metadata": {},
   "source": [
    "\n"
   ]
  },
  {
   "cell_type": "code",
   "execution_count": 60,
   "id": "abdeebfc",
   "metadata": {},
   "outputs": [],
   "source": [
    "model1.compile(optimizer= sgd,\n",
    "             loss = 'binary_crossentropy',\n",
    "             metrics = ['accuracy'])"
   ]
  },
  {
   "cell_type": "code",
   "execution_count": 61,
   "id": "52100e7c",
   "metadata": {},
   "outputs": [
    {
     "name": "stdout",
     "output_type": "stream",
     "text": [
      "Model: \"sequential_4\"\n",
      "_________________________________________________________________\n",
      " Layer (type)                Output Shape              Param #   \n",
      "=================================================================\n",
      " dense_24 (Dense)            (None, 10)                140       \n",
      "                                                                 \n",
      " dense_25 (Dense)            (None, 10)                110       \n",
      "                                                                 \n",
      " dense_26 (Dense)            (None, 10)                110       \n",
      "                                                                 \n",
      " dense_27 (Dense)            (None, 2)                 22        \n",
      "                                                                 \n",
      " dense_28 (Dense)            (None, 2)                 6         \n",
      "                                                                 \n",
      "=================================================================\n",
      "Total params: 388\n",
      "Trainable params: 388\n",
      "Non-trainable params: 0\n",
      "_________________________________________________________________\n"
     ]
    }
   ],
   "source": [
    "model1.summary()"
   ]
  },
  {
   "cell_type": "code",
   "execution_count": 62,
   "id": "6fded1ec",
   "metadata": {},
   "outputs": [
    {
     "name": "stdout",
     "output_type": "stream",
     "text": [
      "Epoch 1/100\n",
      "9/9 [==============================] - 0s 2ms/step - loss: 345.4425 - accuracy: 0.0000e+00\n",
      "Epoch 2/100\n",
      "9/9 [==============================] - 0s 2ms/step - loss: 345.4425 - accuracy: 0.0000e+00\n",
      "Epoch 3/100\n",
      "9/9 [==============================] - 0s 2ms/step - loss: 345.4425 - accuracy: 0.0000e+00\n",
      "Epoch 4/100\n",
      "9/9 [==============================] - 0s 2ms/step - loss: 345.4425 - accuracy: 0.0000e+00\n",
      "Epoch 5/100\n",
      "9/9 [==============================] - 0s 2ms/step - loss: 345.4425 - accuracy: 0.0000e+00\n",
      "Epoch 6/100\n",
      "9/9 [==============================] - 0s 2ms/step - loss: 345.4425 - accuracy: 0.0000e+00\n",
      "Epoch 7/100\n",
      "9/9 [==============================] - 0s 2ms/step - loss: 345.4425 - accuracy: 0.0000e+00\n",
      "Epoch 8/100\n",
      "9/9 [==============================] - 0s 2ms/step - loss: 345.4424 - accuracy: 0.0000e+00\n",
      "Epoch 9/100\n",
      "9/9 [==============================] - 0s 2ms/step - loss: 345.4425 - accuracy: 0.0000e+00\n",
      "Epoch 10/100\n",
      "9/9 [==============================] - 0s 2ms/step - loss: 345.4425 - accuracy: 0.0000e+00\n",
      "Epoch 11/100\n",
      "9/9 [==============================] - 0s 2ms/step - loss: 345.4425 - accuracy: 0.0000e+00\n",
      "Epoch 12/100\n",
      "9/9 [==============================] - 0s 2ms/step - loss: 345.4425 - accuracy: 0.0000e+00\n",
      "Epoch 13/100\n",
      "9/9 [==============================] - 0s 2ms/step - loss: 345.4425 - accuracy: 0.0000e+00\n",
      "Epoch 14/100\n",
      "9/9 [==============================] - 0s 2ms/step - loss: 345.4425 - accuracy: 0.0000e+00\n",
      "Epoch 15/100\n",
      "9/9 [==============================] - 0s 2ms/step - loss: 345.4425 - accuracy: 0.0000e+00\n",
      "Epoch 16/100\n",
      "9/9 [==============================] - 0s 2ms/step - loss: 345.4425 - accuracy: 0.0000e+00\n",
      "Epoch 17/100\n",
      "9/9 [==============================] - 0s 2ms/step - loss: 345.4425 - accuracy: 0.0000e+00\n",
      "Epoch 18/100\n",
      "9/9 [==============================] - 0s 2ms/step - loss: 345.4425 - accuracy: 0.0000e+00\n",
      "Epoch 19/100\n",
      "9/9 [==============================] - 0s 2ms/step - loss: 345.4425 - accuracy: 0.0000e+00\n",
      "Epoch 20/100\n",
      "9/9 [==============================] - 0s 2ms/step - loss: 345.4425 - accuracy: 0.0000e+00\n",
      "Epoch 21/100\n",
      "9/9 [==============================] - 0s 2ms/step - loss: 345.4425 - accuracy: 0.0000e+00\n",
      "Epoch 22/100\n",
      "9/9 [==============================] - 0s 2ms/step - loss: 345.4425 - accuracy: 0.0000e+00\n",
      "Epoch 23/100\n",
      "9/9 [==============================] - 0s 2ms/step - loss: 345.4425 - accuracy: 0.0000e+00\n",
      "Epoch 24/100\n",
      "9/9 [==============================] - 0s 2ms/step - loss: 345.4425 - accuracy: 0.0000e+00\n",
      "Epoch 25/100\n",
      "9/9 [==============================] - 0s 2ms/step - loss: 345.4425 - accuracy: 0.0000e+00\n",
      "Epoch 26/100\n",
      "9/9 [==============================] - 0s 2ms/step - loss: 345.4425 - accuracy: 0.0000e+00\n",
      "Epoch 27/100\n",
      "9/9 [==============================] - 0s 2ms/step - loss: 345.4425 - accuracy: 0.0000e+00\n",
      "Epoch 28/100\n",
      "9/9 [==============================] - 0s 2ms/step - loss: 345.4425 - accuracy: 0.0000e+00\n",
      "Epoch 29/100\n",
      "9/9 [==============================] - 0s 2ms/step - loss: 345.4425 - accuracy: 0.0000e+00\n",
      "Epoch 30/100\n",
      "9/9 [==============================] - 0s 2ms/step - loss: 345.4425 - accuracy: 0.0000e+00\n",
      "Epoch 31/100\n",
      "9/9 [==============================] - 0s 2ms/step - loss: 345.4425 - accuracy: 0.0000e+00\n",
      "Epoch 32/100\n",
      "9/9 [==============================] - 0s 2ms/step - loss: 345.4425 - accuracy: 0.0000e+00\n",
      "Epoch 33/100\n",
      "9/9 [==============================] - 0s 2ms/step - loss: 345.4425 - accuracy: 0.0000e+00\n",
      "Epoch 34/100\n",
      "9/9 [==============================] - 0s 2ms/step - loss: 345.4425 - accuracy: 0.0000e+00\n",
      "Epoch 35/100\n",
      "9/9 [==============================] - 0s 2ms/step - loss: 345.4425 - accuracy: 0.0000e+00\n",
      "Epoch 36/100\n",
      "9/9 [==============================] - 0s 2ms/step - loss: 345.4424 - accuracy: 0.0000e+00\n",
      "Epoch 37/100\n",
      "9/9 [==============================] - 0s 2ms/step - loss: 345.4425 - accuracy: 0.0000e+00\n",
      "Epoch 38/100\n",
      "9/9 [==============================] - 0s 2ms/step - loss: 345.4425 - accuracy: 0.0000e+00\n",
      "Epoch 39/100\n",
      "9/9 [==============================] - 0s 2ms/step - loss: 345.4425 - accuracy: 0.0000e+00\n",
      "Epoch 40/100\n",
      "9/9 [==============================] - 0s 2ms/step - loss: 345.4425 - accuracy: 0.0000e+00\n",
      "Epoch 41/100\n",
      "9/9 [==============================] - 0s 2ms/step - loss: 345.4424 - accuracy: 0.0000e+00\n",
      "Epoch 42/100\n",
      "9/9 [==============================] - 0s 2ms/step - loss: 345.4425 - accuracy: 0.0000e+00\n",
      "Epoch 43/100\n",
      "9/9 [==============================] - 0s 2ms/step - loss: 345.4425 - accuracy: 0.0000e+00\n",
      "Epoch 44/100\n",
      "9/9 [==============================] - 0s 2ms/step - loss: 345.4425 - accuracy: 0.0000e+00\n",
      "Epoch 45/100\n",
      "9/9 [==============================] - 0s 2ms/step - loss: 345.4424 - accuracy: 0.0000e+00\n",
      "Epoch 46/100\n",
      "9/9 [==============================] - 0s 2ms/step - loss: 345.4425 - accuracy: 0.0000e+00\n",
      "Epoch 47/100\n",
      "9/9 [==============================] - 0s 2ms/step - loss: 345.4425 - accuracy: 0.0000e+00\n",
      "Epoch 48/100\n",
      "9/9 [==============================] - 0s 2ms/step - loss: 345.4425 - accuracy: 0.0000e+00\n",
      "Epoch 49/100\n",
      "9/9 [==============================] - 0s 2ms/step - loss: 345.4425 - accuracy: 0.0000e+00\n",
      "Epoch 50/100\n",
      "9/9 [==============================] - 0s 2ms/step - loss: 345.4425 - accuracy: 0.0000e+00\n",
      "Epoch 51/100\n",
      "9/9 [==============================] - 0s 2ms/step - loss: 345.4425 - accuracy: 0.0000e+00\n",
      "Epoch 52/100\n",
      "9/9 [==============================] - 0s 2ms/step - loss: 345.4425 - accuracy: 0.0000e+00\n",
      "Epoch 53/100\n",
      "9/9 [==============================] - 0s 2ms/step - loss: 345.4425 - accuracy: 0.0000e+00\n",
      "Epoch 54/100\n",
      "9/9 [==============================] - 0s 2ms/step - loss: 345.4425 - accuracy: 0.0000e+00\n",
      "Epoch 55/100\n",
      "9/9 [==============================] - 0s 2ms/step - loss: 345.4425 - accuracy: 0.0000e+00\n",
      "Epoch 56/100\n",
      "9/9 [==============================] - 0s 2ms/step - loss: 345.4425 - accuracy: 0.0000e+00\n",
      "Epoch 57/100\n",
      "9/9 [==============================] - 0s 2ms/step - loss: 345.4425 - accuracy: 0.0000e+00\n",
      "Epoch 58/100\n",
      "9/9 [==============================] - 0s 2ms/step - loss: 345.4424 - accuracy: 0.0000e+00\n",
      "Epoch 59/100\n",
      "9/9 [==============================] - 0s 2ms/step - loss: 345.4425 - accuracy: 0.0000e+00\n",
      "Epoch 60/100\n",
      "9/9 [==============================] - 0s 2ms/step - loss: 345.4424 - accuracy: 0.0000e+00\n",
      "Epoch 61/100\n",
      "9/9 [==============================] - 0s 2ms/step - loss: 345.4424 - accuracy: 0.0000e+00\n",
      "Epoch 62/100\n",
      "9/9 [==============================] - 0s 2ms/step - loss: 345.4425 - accuracy: 0.0000e+00\n",
      "Epoch 63/100\n",
      "9/9 [==============================] - 0s 2ms/step - loss: 345.4425 - accuracy: 0.0000e+00\n",
      "Epoch 64/100\n",
      "9/9 [==============================] - 0s 2ms/step - loss: 345.4425 - accuracy: 0.0000e+00\n",
      "Epoch 65/100\n",
      "9/9 [==============================] - 0s 2ms/step - loss: 345.4424 - accuracy: 0.0000e+00\n",
      "Epoch 66/100\n",
      "9/9 [==============================] - 0s 2ms/step - loss: 345.4425 - accuracy: 0.0000e+00\n",
      "Epoch 67/100\n",
      "9/9 [==============================] - 0s 2ms/step - loss: 345.4425 - accuracy: 0.0000e+00\n",
      "Epoch 68/100\n",
      "9/9 [==============================] - 0s 1ms/step - loss: 345.4425 - accuracy: 0.0000e+00\n",
      "Epoch 69/100\n",
      "9/9 [==============================] - 0s 2ms/step - loss: 345.4425 - accuracy: 0.0000e+00\n",
      "Epoch 70/100\n",
      "9/9 [==============================] - 0s 2ms/step - loss: 345.4424 - accuracy: 0.0000e+00\n",
      "Epoch 71/100\n",
      "9/9 [==============================] - 0s 2ms/step - loss: 345.4425 - accuracy: 0.0000e+00\n",
      "Epoch 72/100\n",
      "9/9 [==============================] - 0s 2ms/step - loss: 345.4425 - accuracy: 0.0000e+00\n",
      "Epoch 73/100\n",
      "9/9 [==============================] - 0s 2ms/step - loss: 345.4425 - accuracy: 0.0000e+00\n",
      "Epoch 74/100\n",
      "9/9 [==============================] - 0s 2ms/step - loss: 345.4425 - accuracy: 0.0000e+00\n",
      "Epoch 75/100\n",
      "9/9 [==============================] - 0s 2ms/step - loss: 345.4425 - accuracy: 0.0000e+00\n",
      "Epoch 76/100\n",
      "9/9 [==============================] - 0s 1ms/step - loss: 345.4425 - accuracy: 0.0000e+00\n",
      "Epoch 77/100\n",
      "9/9 [==============================] - 0s 2ms/step - loss: 345.4425 - accuracy: 0.0000e+00\n",
      "Epoch 78/100\n",
      "9/9 [==============================] - 0s 2ms/step - loss: 345.4425 - accuracy: 0.0000e+00\n",
      "Epoch 79/100\n",
      "9/9 [==============================] - 0s 2ms/step - loss: 345.4425 - accuracy: 0.0000e+00\n",
      "Epoch 80/100\n",
      "9/9 [==============================] - 0s 2ms/step - loss: 345.4425 - accuracy: 0.0000e+00\n",
      "Epoch 81/100\n",
      "9/9 [==============================] - 0s 2ms/step - loss: 345.4425 - accuracy: 0.0000e+00\n",
      "Epoch 82/100\n",
      "9/9 [==============================] - 0s 2ms/step - loss: 345.4425 - accuracy: 0.0000e+00\n",
      "Epoch 83/100\n",
      "9/9 [==============================] - 0s 2ms/step - loss: 345.4425 - accuracy: 0.0000e+00\n",
      "Epoch 84/100\n",
      "9/9 [==============================] - 0s 2ms/step - loss: 345.4425 - accuracy: 0.0000e+00\n",
      "Epoch 85/100\n",
      "9/9 [==============================] - 0s 2ms/step - loss: 345.4425 - accuracy: 0.0000e+00\n",
      "Epoch 86/100\n",
      "9/9 [==============================] - 0s 2ms/step - loss: 345.4425 - accuracy: 0.0000e+00\n",
      "Epoch 87/100\n",
      "9/9 [==============================] - 0s 2ms/step - loss: 345.4425 - accuracy: 0.0000e+00\n",
      "Epoch 88/100\n",
      "9/9 [==============================] - 0s 2ms/step - loss: 345.4424 - accuracy: 0.0000e+00\n",
      "Epoch 89/100\n",
      "9/9 [==============================] - 0s 2ms/step - loss: 345.4425 - accuracy: 0.0000e+00\n",
      "Epoch 90/100\n",
      "9/9 [==============================] - 0s 2ms/step - loss: 345.4425 - accuracy: 0.0000e+00\n",
      "Epoch 91/100\n",
      "9/9 [==============================] - 0s 2ms/step - loss: 345.4424 - accuracy: 0.0000e+00\n",
      "Epoch 92/100\n",
      "9/9 [==============================] - 0s 2ms/step - loss: 345.4425 - accuracy: 0.0000e+00\n",
      "Epoch 93/100\n",
      "9/9 [==============================] - 0s 2ms/step - loss: 345.4425 - accuracy: 0.0000e+00\n",
      "Epoch 94/100\n",
      "9/9 [==============================] - 0s 2ms/step - loss: 345.4425 - accuracy: 0.0000e+00\n",
      "Epoch 95/100\n",
      "9/9 [==============================] - 0s 2ms/step - loss: 345.4425 - accuracy: 0.0000e+00\n",
      "Epoch 96/100\n",
      "9/9 [==============================] - 0s 1ms/step - loss: 345.4425 - accuracy: 0.0000e+00\n",
      "Epoch 97/100\n",
      "9/9 [==============================] - 0s 2ms/step - loss: 345.4425 - accuracy: 0.0000e+00\n",
      "Epoch 98/100\n",
      "9/9 [==============================] - 0s 2ms/step - loss: 345.4425 - accuracy: 0.0000e+00\n",
      "Epoch 99/100\n",
      "9/9 [==============================] - 0s 2ms/step - loss: 345.4425 - accuracy: 0.0000e+00\n",
      "Epoch 100/100\n",
      "9/9 [==============================] - 0s 2ms/step - loss: 345.4425 - accuracy: 0.0000e+00\n"
     ]
    },
    {
     "data": {
      "text/plain": [
       "<keras.callbacks.History at 0x1a6c7fbd700>"
      ]
     },
     "execution_count": 62,
     "metadata": {},
     "output_type": "execute_result"
    }
   ],
   "source": [
    "model1.fit(X_train,y_train,\n",
    "          batch_size=50,\n",
    "          epochs=100,\n",
    "          verbose=1)"
   ]
  },
  {
   "cell_type": "code",
   "execution_count": null,
   "id": "751cffe7",
   "metadata": {},
   "outputs": [],
   "source": []
  }
 ],
 "metadata": {
  "kernelspec": {
   "display_name": "Python 3 (ipykernel)",
   "language": "python",
   "name": "python3"
  },
  "language_info": {
   "codemirror_mode": {
    "name": "ipython",
    "version": 3
   },
   "file_extension": ".py",
   "mimetype": "text/x-python",
   "name": "python",
   "nbconvert_exporter": "python",
   "pygments_lexer": "ipython3",
   "version": "3.9.12"
  },
  "vscode": {
   "interpreter": {
    "hash": "e362d06cc908f32e8db6920f0b7bc6754cc7557171ff01d64b5f38263a887f00"
   }
  }
 },
 "nbformat": 4,
 "nbformat_minor": 5
}
