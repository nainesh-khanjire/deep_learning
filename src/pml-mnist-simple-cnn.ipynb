{
 "cells": [
  {
   "cell_type": "markdown",
   "id": "36e47849-ef0d-40ff-a468-197a127e2356",
   "metadata": {},
   "source": [
    "### **MNIST DIGIT RECOGNITION**"
   ]
  },
  {
   "cell_type": "code",
   "execution_count": 1,
   "id": "e6f147fa-88a7-48ea-8338-d2b56589365a",
   "metadata": {},
   "outputs": [],
   "source": [
    "from keras.datasets import  mnist\n",
    "(X_train,y_train),(X_test,y_test) = mnist.load_data()"
   ]
  },
  {
   "cell_type": "code",
   "execution_count": 2,
   "id": "2e621078-ac7e-4010-9ac7-a919c382fdb7",
   "metadata": {},
   "outputs": [
    {
     "name": "stdout",
     "output_type": "stream",
     "text": [
      "(60000, 28, 28) (60000,)\n"
     ]
    }
   ],
   "source": [
    "print(X_train.shape, y_train.shape)\n"
   ]
  },
  {
   "cell_type": "code",
   "execution_count": 3,
   "id": "81768063-2449-4965-bb2d-aeb6a5776364",
   "metadata": {},
   "outputs": [
    {
     "data": {
      "text/plain": [
       "<function keras.datasets.mnist.load_data(path='mnist.npz')>"
      ]
     },
     "execution_count": 3,
     "metadata": {},
     "output_type": "execute_result"
    }
   ],
   "source": [
    "mnist.load_data "
   ]
  },
  {
   "cell_type": "code",
   "execution_count": 4,
   "id": "f8d8ec80-7979-4f3f-92eb-c66685cbf193",
   "metadata": {},
   "outputs": [
    {
     "data": {
      "text/plain": [
       "<matplotlib.image.AxesImage at 0x22d1b9dc3a0>"
      ]
     },
     "execution_count": 4,
     "metadata": {},
     "output_type": "execute_result"
    },
    {
     "data": {
      "image/png": "[encoded data removed]",
      "text/plain": [
       "<Figure size 640x480 with 1 Axes>"
      ]
     },
     "metadata": {},
     "output_type": "display_data"
    }
   ],
   "source": [
    "import matplotlib.pyplot as plt\n",
    "plt.imshow(X_train[1],cmap = plt.cm.Greys)"
   ]
  },
  {
   "cell_type": "code",
   "execution_count": 5,
   "id": "851f9f86-5a63-46e3-b4db-e54634405f28",
   "metadata": {},
   "outputs": [
    {
     "data": {
      "text/plain": [
       "(28, 28)"
      ]
     },
     "execution_count": 5,
     "metadata": {},
     "output_type": "execute_result"
    }
   ],
   "source": [
    "#the shape of each image is \n",
    "#print the shape of first image from train dataset \n",
    "#default shape of evrry image is 28 x 28\n",
    "X_train[1].shape"
   ]
  },
  {
   "cell_type": "code",
   "execution_count": 6,
   "id": "35aa82c9-6e74-4ca0-b608-94508d72bac3",
   "metadata": {},
   "outputs": [
    {
     "name": "stdout",
     "output_type": "stream",
     "text": [
      "(60000, 28, 28)\n",
      "(10000, 28, 28)\n"
     ]
    }
   ],
   "source": [
    "#getting dimensions of train and test data\n",
    "print(X_train.shape)\n",
    "print(X_test.shape)"
   ]
  },
  {
   "cell_type": "code",
   "execution_count": 7,
   "id": "8d86fd14-6610-4259-bc4e-8bdae8111909",
   "metadata": {},
   "outputs": [],
   "source": [
    "# we have to reshape the train and test data as 4D tensor\n",
    "#Dimensions no  of images x h x w x d(1)\n",
    "#we have single channel so takan 1\n",
    "# if there was RGB coloured image then we'd have 3 channels\n",
    "X_train = X_train.reshape(60000,28,28,1).astype('float32')\n",
    "X_test = X_test.reshape(10000,28,28,1).astype('float32')\n",
    "\n",
    "input_shape = (28,28,1) \n",
    "#for one image"
   ]
  },
  {
   "cell_type": "code",
   "execution_count": 8,
   "id": "1e367fc3-52c0-4774-9a60-c00edb11625d",
   "metadata": {},
   "outputs": [
    {
     "data": {
      "text/plain": [
       "((60000, 28, 28, 1), (10000, 28, 28, 1))"
      ]
     },
     "execution_count": 8,
     "metadata": {},
     "output_type": "execute_result"
    }
   ],
   "source": [
    "X_train.shape,X_test.shape"
   ]
  },
  {
   "cell_type": "code",
   "execution_count": 9,
   "id": "ee479a38-1139-4892-b118-9a844ee703f7",
   "metadata": {},
   "outputs": [
    {
     "data": {
      "text/plain": [
       "array([5, 0, 4, ..., 5, 6, 8], dtype=uint8)"
      ]
     },
     "execution_count": 9,
     "metadata": {},
     "output_type": "execute_result"
    }
   ],
   "source": [
    "y_train"
   ]
  },
  {
   "cell_type": "code",
   "execution_count": 10,
   "id": "70e02d5e-b220-4ac0-b697-c4116c6de6be",
   "metadata": {},
   "outputs": [],
   "source": [
    "# we convert the class labels t binary class matrices\n",
    "from keras.utils.np_utils import to_categorical\n",
    "# one hot code target column\n",
    "y_train = to_categorical(y_train)\n",
    "y_test = to_categorical(y_test)"
   ]
  },
  {
   "cell_type": "code",
   "execution_count": 26,
   "id": "8fad995b-f8d0-40d9-8ce9-ec8e970bf9cf",
   "metadata": {},
   "outputs": [
    {
     "data": {
      "text/plain": [
       "array([0., 0., 0., 0., 0., 1., 0., 0., 0., 0.], dtype=float32)"
      ]
     },
     "execution_count": 26,
     "metadata": {},
     "output_type": "execute_result"
    }
   ],
   "source": [
    "y_train[0]"
   ]
  },
  {
   "cell_type": "markdown",
   "id": "2d6d5deb-e791-419d-b625-2f7a97791883",
   "metadata": {},
   "source": [
    "### **Build model using CNN -A simple CNN**\n",
    "- Sequential Layer is easiest way to build model in keras, it allows you build model layer by layer\n",
    "- use add() function to add layers to te model"
   ]
  },
  {
   "cell_type": "code",
   "execution_count": 12,
   "id": "d9fdd2d8-6d03-48f6-b393-e89447e0a7a2",
   "metadata": {},
   "outputs": [],
   "source": [
    "from keras.models import Sequential\n",
    "from keras.layers import Conv2D, MaxPooling2D, Flatten,Dense"
   ]
  },
  {
   "cell_type": "code",
   "execution_count": 46,
   "id": "81d3eee9-1795-4a07-8261-21e393b91b1c",
   "metadata": {},
   "outputs": [],
   "source": [
    "# #initialize empty model object\n",
    "\n",
    "model = Sequential()\n",
    "# 1. add Convolution layer\n",
    "#     64 neurons in this layer\n",
    "#     filter size is 4x4\n",
    "#     activation function is 'relu'\n",
    "#     each image size is 28x28x1\n",
    "\n",
    "model.add(Conv2D(filters = 64,\n",
    "                 kernel_size = 4,\n",
    "                 activation  ='relu',\n",
    "                 input_shape =(28,28,1))) # 1 because shape of image is 1\n",
    "# 2. add maxpooling layer\n",
    "# pool size is 2x2\n",
    "model.add(MaxPooling2D(pool_size=(3,3)))\n",
    "# 3. add fully connected layer, before that flatten the output of maxpool\n",
    "\n",
    "# 10 neurons in th output layer, because each neuron represents onee digit (one class)\n",
    "# softmax makes output sum upto 1 so the output can be interpreted as probabiloties\n",
    "#flattening transforms a two-dimensional mmatrix of feature into a vector that will be given as \n",
    "# input to a fully connected neural network\n",
    "model.add(Flatten())\n",
    "\n",
    "model.add(Dense(10,activation = 'softmax'))\n"
   ]
  },
  {
   "cell_type": "markdown",
   "id": "f8037215-a514-40ae-ba17-a5a8d853eb3a",
   "metadata": {},
   "source": [
    "## **Compiling the model**\n",
    "\n",
    "- optimizers : this will control the learning rate of the model, we will use 'adam' as optimizer, smaller learning rate may take more time to get to the optimal weights \n",
    "\n",
    "- loss : we will use 'catrgorical_crossentropy' as our loss function\n",
    "- metrics : we will use 'accuracy' metric to see the accucary score on  the validation set"
   ]
  },
  {
   "cell_type": "code",
   "execution_count": 47,
   "id": "9a2a7500-e188-4391-93d2-3e3a2d10f6c9",
   "metadata": {},
   "outputs": [],
   "source": [
    "# compile the model using accuracy to measure model performance\n",
    "model.compile(optimizer = 'adam',\n",
    "             loss = 'categorical_crossentropy',\n",
    "             metrics = ['accuracy'])"
   ]
  },
  {
   "cell_type": "markdown",
   "id": "91938c16-1521-4606-ba78-14a6b6222c9c",
   "metadata": {},
   "source": [
    "## **Training the model**\n",
    "\n",
    "- use fit() function\n",
    "- no. of epochs is number of times the model will cycle through data, more epochs will run the better the output will be"
   ]
  },
  {
   "cell_type": "code",
   "execution_count": 50,
   "id": "978f568d-2014-409a-a356-0f98e8a40067",
   "metadata": {},
   "outputs": [
    {
     "name": "stdout",
     "output_type": "stream",
     "text": [
      "Epoch 1/2\n",
      "1875/1875 [==============================] - 18s 10ms/step - loss: 0.0411 - accuracy: 0.9933 - val_loss: 0.2775 - val_accuracy: 0.9775\n",
      "Epoch 2/2\n",
      "1875/1875 [==============================] - 18s 10ms/step - loss: 0.0392 - accuracy: 0.9937 - val_loss: 0.2914 - val_accuracy: 0.9798\n"
     ]
    },
    {
     "data": {
      "text/plain": [
       "<keras.callbacks.History at 0x22d307d9550>"
      ]
     },
     "execution_count": 50,
     "metadata": {},
     "output_type": "execute_result"
    }
   ],
   "source": [
    "# training the model\n",
    "model.fit(X_train,y_train, validation_data=(X_test,y_test),epochs = 2)"
   ]
  },
  {
   "cell_type": "code",
   "execution_count": 51,
   "id": "9c85f056-8d0f-4437-b9bd-a8ca7a84d263",
   "metadata": {},
   "outputs": [
    {
     "data": {
      "image/png": "[encoded data removed]",
      "text/plain": [
       "<Figure size 640x480 with 1 Axes>"
      ]
     },
     "metadata": {},
     "output_type": "display_data"
    }
   ],
   "source": [
    "first_test_image = X_test[1, :]\n",
    "plt.imshow(first_test_image.reshape(28, 28), cmap=plt.cm.Greys);"
   ]
  },
  {
   "cell_type": "code",
   "execution_count": 55,
   "id": "3bc185c4-06ad-4c3c-ac9e-e0b546af6a4d",
   "metadata": {},
   "outputs": [
    {
     "name": "stdout",
     "output_type": "stream",
     "text": [
      "1/1 [==============================] - 0s 27ms/step\n"
     ]
    }
   ],
   "source": [
    "pred = model.predict(X_test[[1], :])"
   ]
  },
  {
   "cell_type": "code",
   "execution_count": 56,
   "id": "90dad243-8207-4e44-b11a-186f52be7d4d",
   "metadata": {},
   "outputs": [
    {
     "name": "stdout",
     "output_type": "stream",
     "text": [
      "1/1 [==============================] - 0s 29ms/step\n"
     ]
    },
    {
     "data": {
      "text/plain": [
       "array([1], dtype=int64)"
      ]
     },
     "execution_count": 56,
     "metadata": {},
     "output_type": "execute_result"
    }
   ],
   "source": [
    "# Or you can get the max probability position, that will be the digit\n",
    "import numpy as np\n",
    "np.argmax(model.predict(X_test[[2], :]),axis=1)"
   ]
  }
 ],
 "metadata": {
  "kernelspec": {
   "display_name": "Python 3 (ipykernel)",
   "language": "python",
   "name": "python3"
  },
  "language_info": {
   "codemirror_mode": {
    "name": "ipython",
    "version": 3
   },
   "file_extension": ".py",
   "mimetype": "text/x-python",
   "name": "python",
   "nbconvert_exporter": "python",
   "pygments_lexer": "ipython3",
   "version": "3.9.12"
  }
 },
 "nbformat": 4,
 "nbformat_minor": 5
}
