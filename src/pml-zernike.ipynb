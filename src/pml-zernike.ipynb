{
 "cells": [
  {
   "cell_type": "markdown",
   "id": "9f8a0666-4389-4093-bf5c-25821c5029e1",
   "metadata": {},
   "source": [
    "## **Extracting Zernike moments using mahotas library from images**"
   ]
  },
  {
   "cell_type": "code",
   "execution_count": 1,
   "id": "ba7a6f79-d6fd-4cd3-884c-de2c582e23cd",
   "metadata": {},
   "outputs": [],
   "source": [
    "# install mahotas package\n",
    "#! pip install mahotas"
   ]
  },
  {
   "cell_type": "code",
   "execution_count": 2,
   "id": "e0097da6-9432-45eb-8293-fdec369ce446",
   "metadata": {},
   "outputs": [
    {
     "name": "stdout",
     "output_type": "stream",
     "text": [
      "mahotas 1.4.13\n"
     ]
    }
   ],
   "source": [
    "# importing mahotas:\n",
    "import mahotas\n",
    "print('mahotas %s' % mahotas.__version__)"
   ]
  },
  {
   "cell_type": "code",
   "execution_count": 11,
   "id": "d1c1228b-0aa9-42a2-b011-8ce68ae70c79",
   "metadata": {},
   "outputs": [],
   "source": [
    "# importing libraries\n",
    "import numpy as np\n",
    "import pandas as pd\n",
    "import matplotlib.pyplot as plt\n",
    "\n",
    "import pylab \n",
    "import mahotas\n",
    "import os\n",
    "import csv"
   ]
  },
  {
   "cell_type": "code",
   "execution_count": 20,
   "id": "1ac978f0-762a-483c-a865-6b1050d8bbaa",
   "metadata": {},
   "outputs": [],
   "source": [
    "# retriving  the dataset path\n",
    "yes_folder = '../data/zm/zx/images/yes/'\n",
    "no_folder = '../data/zm/xz/images/no/'"
   ]
  },
  {
   "cell_type": "code",
   "execution_count": 18,
   "id": "824e3b93-dada-48d4-a345-b5253a1a0d56",
   "metadata": {},
   "outputs": [
    {
     "name": "stdout",
     "output_type": "stream",
     "text": [
      "** Wrote all the data into the file **\n"
     ]
    }
   ],
   "source": [
    "#saving Zernike moments (for yes) into a .csv file:\n",
    "for images in os.listdir(yes_folder):\n",
    "     if(images.endswith('.jpg')):\n",
    "        img = mahotas.imread(yes_folder + images, as_grey = True)\n",
    "        value = mahotas.features.zernike_moments(img, radius = 32,degree = 32)\n",
    "        \n",
    "        with open('../data/xyz/yes_zernike_moments.csv','a') as f:\n",
    "            writer  = csv.writer(f)\n",
    "            writer.writerow(value)\n",
    "            \n",
    "            \n",
    "print('Wrote all the data into the file')"
   ]
  },
  {
   "cell_type": "code",
   "execution_count": null,
   "id": "0d113cc3-f8a3-41c0-94e6-c7fab989a2e1",
   "metadata": {},
   "outputs": [],
   "source": [
    "# saving zernnike moments into .csv file;\n"
   ]
  }
 ],
 "metadata": {
  "kernelspec": {
   "display_name": "Python 3 (ipykernel)",
   "language": "python",
   "name": "python3"
  },
  "language_info": {
   "codemirror_mode": {
    "name": "ipython",
    "version": 3
   },
   "file_extension": ".py",
   "mimetype": "text/x-python",
   "name": "python",
   "nbconvert_exporter": "python",
   "pygments_lexer": "ipython3",
   "version": "3.9.12"
  }
 },
 "nbformat": 4,
 "nbformat_minor": 5
}
