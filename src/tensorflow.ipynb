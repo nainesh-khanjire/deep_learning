{
 "cells": [
  {
   "cell_type": "code",
   "execution_count": 6,
   "id": "b6ec4d17-9a99-4956-b0ab-e9c0de0f336f",
   "metadata": {},
   "outputs": [],
   "source": [
    "import tensorflow as tf\n",
    "#tensorflow has shape and datatype\n",
    "# int32, float32, string"
   ]
  },
  {
   "cell_type": "code",
   "execution_count": 13,
   "id": "51d7a9ad-e39f-4bc3-8b00-a18f3866692e",
   "metadata": {},
   "outputs": [],
   "source": [
    "#creating tensors\n",
    "\n",
    "string = tf.Variable(\"this is tensorflow\",tf.string)\n",
    "number = tf.Variable(123,tf.int32)\n",
    "floating = tf.Variable(3.45,tf.float32)\n",
    "\n"
   ]
  },
  {
   "cell_type": "code",
   "execution_count": 45,
   "id": "f36611da-bf34-459f-9674-fed2b422a91e",
   "metadata": {},
   "outputs": [],
   "source": [
    "# ranking/degree of tensors\n",
    "# this consists off multiple elemensts\n",
    "tensor1 = tf.Variable([1,2,3,4,5],tf.int32) #rank 1 tenor\n",
    "tensor2 = tf.Variable(['nainesh','nitin'],tf.string) # rank 1\n",
    "tensor3 = tf.Variable([[1,2,3],[2,3,4]],tf.int32) #rank 2 , elements should be of similar dimension to be in  a rank2 or 3\n",
    "tensor4 = tf.Variable([[[5,6,7],[3,4,5],[1,2,3]]],tf.int32) #this is rank 3 tensor\n",
    "tensor5 = tf.Variable([[[1,2],[3,4],[5,6,]]],tf.int32)"
   ]
  },
  {
   "cell_type": "code",
   "execution_count": 46,
   "id": "fb3d3ba5-a150-4647-993b-7e3f114c429f",
   "metadata": {},
   "outputs": [
    {
     "data": {
      "text/plain": [
       "(<tf.Tensor: shape=(), dtype=int32, numpy=1>,\n",
       " <tf.Tensor: shape=(), dtype=int32, numpy=1>,\n",
       " <tf.Tensor: shape=(), dtype=int32, numpy=2>,\n",
       " <tf.Tensor: shape=(), dtype=int32, numpy=3>,\n",
       " <tf.Tensor: shape=(), dtype=int32, numpy=3>)"
      ]
     },
     "execution_count": 46,
     "metadata": {},
     "output_type": "execute_result"
    }
   ],
   "source": [
    "#checking the ranks of the tensors\n",
    "tf.rank(tensor1), tf.rank(tensor2), tf.rank(tensor3),tf.rank(tensor4), tf.rank(tensor5)"
   ]
  },
  {
   "cell_type": "code",
   "execution_count": 48,
   "id": "4c6716f9-fbee-480e-93bf-50be852721c9",
   "metadata": {},
   "outputs": [
    {
     "name": "stdout",
     "output_type": "stream",
     "text": [
      "(5,)\n",
      "(2,)\n",
      "(2, 3)\n",
      "(1, 3, 3)\n",
      "(1, 3, 2)\n"
     ]
    }
   ],
   "source": [
    "# checking the shape of the tensors\n",
    "print(tensor1.shape)\n",
    "print(tensor2.shape)\n",
    "print(tensor3.shape)\n",
    "print(tensor4.shape)\n",
    "print(tensor5.shape)\n"
   ]
  },
  {
   "cell_type": "code",
   "execution_count": 50,
   "id": "369e8988-2d17-4516-adcf-2f9d75e34a06",
   "metadata": {},
   "outputs": [],
   "source": [
    "# reshaping the tensors\n",
    "t6 = tf.reshape(tensor5,[2,1,3])"
   ]
  },
  {
   "cell_type": "code",
   "execution_count": 52,
   "id": "8437c190-1bb0-4719-8cda-3a2a9801ce21",
   "metadata": {},
   "outputs": [
    {
     "data": {
      "text/plain": [
       "<tf.Variable 'Variable:0' shape=(1, 3, 2) dtype=int32, numpy=\n",
       "array([[[1, 2],\n",
       "        [3, 4],\n",
       "        [5, 6]]])>"
      ]
     },
     "execution_count": 52,
     "metadata": {},
     "output_type": "execute_result"
    }
   ],
   "source": [
    "tensor5"
   ]
  },
  {
   "cell_type": "code",
   "execution_count": 63,
   "id": "f2464005-0c8c-45ff-8a5a-eb4ecb9bdc1e",
   "metadata": {},
   "outputs": [
    {
     "name": "stdout",
     "output_type": "stream",
     "text": [
      "tf.Tensor(\n",
      "[[[0. 0.]\n",
      "  [0. 0.]]\n",
      "\n",
      " [[0. 0.]\n",
      "  [0. 0.]]], shape=(2, 2, 2), dtype=float32)\n"
     ]
    }
   ],
   "source": [
    "#create tnensor\n",
    "t1 = tf.zeros([2,2,2])\n",
    "print(t1)"
   ]
  },
  {
   "cell_type": "markdown",
   "id": "1ea85e8e-c0e6-4923-94e6-e4a3e16634a0",
   "metadata": {},
   "source": [
    "## **TensorFlow** \n"
   ]
  },
  {
   "cell_type": "code",
   "execution_count": 4,
   "id": "4bfaf475-4f63-4145-b291-dd7419fc9536",
   "metadata": {},
   "outputs": [],
   "source": [
    "import tensorflow as tf"
   ]
  },
  {
   "cell_type": "code",
   "execution_count": 9,
   "id": "3faa5629-ef27-42e8-9d40-eecb646daef6",
   "metadata": {},
   "outputs": [],
   "source": [
    "mnist = tf.keras.datasets.mnist\n",
    "(x_train,y_train),(x_test,y_test) = mnist.load_data()\n",
    "x_train,x_test = x_train/255.0,x_test/255.0\n",
    "model = tf.keras.models.Sequential([\n",
    "    tf.keras.layers.Flatten(input_shape =(28,28)),\n",
    "    tf.keras.Dense(128,activation='relu'),\n",
    "    tf.keras.Dropout(0.2),\n",
    "    \n",
    "\n",
    "])"
   ]
  },
  {
   "cell_type": "code",
   "execution_count": null,
   "id": "51b8aee2-3760-4cc9-97bf-40e8d153a997",
   "metadata": {},
   "outputs": [],
   "source": []
  }
 ],
 "metadata": {
  "kernelspec": {
   "display_name": "Python 3 (ipykernel)",
   "language": "python",
   "name": "python3"
  },
  "language_info": {
   "codemirror_mode": {
    "name": "ipython",
    "version": 3
   },
   "file_extension": ".py",
   "mimetype": "text/x-python",
   "name": "python",
   "nbconvert_exporter": "python",
   "pygments_lexer": "ipython3",
   "version": "3.9.12"
  }
 },
 "nbformat": 4,
 "nbformat_minor": 5
}
