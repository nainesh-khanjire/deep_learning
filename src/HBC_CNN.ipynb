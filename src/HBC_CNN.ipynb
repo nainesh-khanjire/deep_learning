{
 "cells": [
  {
   "cell_type": "markdown",
   "id": "347e1780",
   "metadata": {},
   "source": [
    "# Classify Pollen and Non-Pollen Bees\n",
    "This image dataset has been created from videos captured at the entrance of a bee colony in June 2017 at the Bee facility of the Gurabo Agricultural Experimental Station of the University of Puerto Rico.\n",
    "\n",
    "- `data/` contains images for pollen bearing and no pollen bearing honey bees.\n",
    "    - The prefix of the images names define their class: e.g. `NP1268-15r.jpg` for non-pollen and `P7797-103r.jpg` for pollen bearing bees. The numbers correspond to frame and item number respectively, you need to be careful that they are not numbered sequentially."
   ]
  },
  {
   "cell_type": "markdown",
   "id": "5b8958be",
   "metadata": {},
   "source": [
    "## 1. Import required packages"
   ]
  },
  {
   "cell_type": "code",
   "execution_count": 1,
   "id": "0358b65e",
   "metadata": {},
   "outputs": [
    {
     "name": "stderr",
     "output_type": "stream",
     "text": [
      "Using TensorFlow backend.\n",
      "C:\\Users\\Vihan\\anaconda3\\lib\\site-packages\\tensorflow\\python\\framework\\dtypes.py:516: FutureWarning: Passing (type, 1) or '1type' as a synonym of type is deprecated; in a future version of numpy, it will be understood as (type, (1,)) / '(1,)type'.\n",
      "  _np_qint8 = np.dtype([(\"qint8\", np.int8, 1)])\n",
      "C:\\Users\\Vihan\\anaconda3\\lib\\site-packages\\tensorflow\\python\\framework\\dtypes.py:517: FutureWarning: Passing (type, 1) or '1type' as a synonym of type is deprecated; in a future version of numpy, it will be understood as (type, (1,)) / '(1,)type'.\n",
      "  _np_quint8 = np.dtype([(\"quint8\", np.uint8, 1)])\n",
      "C:\\Users\\Vihan\\anaconda3\\lib\\site-packages\\tensorflow\\python\\framework\\dtypes.py:518: FutureWarning: Passing (type, 1) or '1type' as a synonym of type is deprecated; in a future version of numpy, it will be understood as (type, (1,)) / '(1,)type'.\n",
      "  _np_qint16 = np.dtype([(\"qint16\", np.int16, 1)])\n",
      "C:\\Users\\Vihan\\anaconda3\\lib\\site-packages\\tensorflow\\python\\framework\\dtypes.py:519: FutureWarning: Passing (type, 1) or '1type' as a synonym of type is deprecated; in a future version of numpy, it will be understood as (type, (1,)) / '(1,)type'.\n",
      "  _np_quint16 = np.dtype([(\"quint16\", np.uint16, 1)])\n",
      "C:\\Users\\Vihan\\anaconda3\\lib\\site-packages\\tensorflow\\python\\framework\\dtypes.py:520: FutureWarning: Passing (type, 1) or '1type' as a synonym of type is deprecated; in a future version of numpy, it will be understood as (type, (1,)) / '(1,)type'.\n",
      "  _np_qint32 = np.dtype([(\"qint32\", np.int32, 1)])\n",
      "C:\\Users\\Vihan\\anaconda3\\lib\\site-packages\\tensorflow\\python\\framework\\dtypes.py:525: FutureWarning: Passing (type, 1) or '1type' as a synonym of type is deprecated; in a future version of numpy, it will be understood as (type, (1,)) / '(1,)type'.\n",
      "  np_resource = np.dtype([(\"resource\", np.ubyte, 1)])\n",
      "C:\\Users\\Vihan\\anaconda3\\lib\\site-packages\\tensorboard\\compat\\tensorflow_stub\\dtypes.py:541: FutureWarning: Passing (type, 1) or '1type' as a synonym of type is deprecated; in a future version of numpy, it will be understood as (type, (1,)) / '(1,)type'.\n",
      "  _np_qint8 = np.dtype([(\"qint8\", np.int8, 1)])\n",
      "C:\\Users\\Vihan\\anaconda3\\lib\\site-packages\\tensorboard\\compat\\tensorflow_stub\\dtypes.py:542: FutureWarning: Passing (type, 1) or '1type' as a synonym of type is deprecated; in a future version of numpy, it will be understood as (type, (1,)) / '(1,)type'.\n",
      "  _np_quint8 = np.dtype([(\"quint8\", np.uint8, 1)])\n",
      "C:\\Users\\Vihan\\anaconda3\\lib\\site-packages\\tensorboard\\compat\\tensorflow_stub\\dtypes.py:543: FutureWarning: Passing (type, 1) or '1type' as a synonym of type is deprecated; in a future version of numpy, it will be understood as (type, (1,)) / '(1,)type'.\n",
      "  _np_qint16 = np.dtype([(\"qint16\", np.int16, 1)])\n",
      "C:\\Users\\Vihan\\anaconda3\\lib\\site-packages\\tensorboard\\compat\\tensorflow_stub\\dtypes.py:544: FutureWarning: Passing (type, 1) or '1type' as a synonym of type is deprecated; in a future version of numpy, it will be understood as (type, (1,)) / '(1,)type'.\n",
      "  _np_quint16 = np.dtype([(\"quint16\", np.uint16, 1)])\n",
      "C:\\Users\\Vihan\\anaconda3\\lib\\site-packages\\tensorboard\\compat\\tensorflow_stub\\dtypes.py:545: FutureWarning: Passing (type, 1) or '1type' as a synonym of type is deprecated; in a future version of numpy, it will be understood as (type, (1,)) / '(1,)type'.\n",
      "  _np_qint32 = np.dtype([(\"qint32\", np.int32, 1)])\n",
      "C:\\Users\\Vihan\\anaconda3\\lib\\site-packages\\tensorboard\\compat\\tensorflow_stub\\dtypes.py:550: FutureWarning: Passing (type, 1) or '1type' as a synonym of type is deprecated; in a future version of numpy, it will be understood as (type, (1,)) / '(1,)type'.\n",
      "  np_resource = np.dtype([(\"resource\", np.ubyte, 1)])\n"
     ]
    }
   ],
   "source": [
    "# Import required modules/methods\n",
    "import os\n",
    "\n",
    "import numpy as np\n",
    "import pandas as pd\n",
    "from sklearn.model_selection import train_test_split\n",
    "from matplotlib import pyplot as plt\n",
    "import seaborn as sns\n",
    "\n",
    "from keras.preprocessing.image import ImageDataGenerator\n",
    "\n",
    "from keras.models import Sequential\n",
    "from keras.layers import Conv2D, MaxPool2D, Flatten, Dense\n",
    "\n",
    "from sklearn.metrics import confusion_matrix, classification_report"
   ]
  },
  {
   "cell_type": "markdown",
   "id": "705ec7aa",
   "metadata": {},
   "source": [
    "## 2. Prepare Data"
   ]
  },
  {
   "cell_type": "code",
   "execution_count": 3,
   "id": "aacb1d6a",
   "metadata": {
    "scrolled": true
   },
   "outputs": [
    {
     "data": {
      "text/plain": [
       "(0, 2)"
      ]
     },
     "execution_count": 3,
     "metadata": {},
     "output_type": "execute_result"
    }
   ],
   "source": [
    "df = pd.DataFrame(columns=[\"image_name\",\"label\"])\n",
    "df.shape"
   ]
  },
  {
   "cell_type": "code",
   "execution_count": 4,
   "id": "c9333616",
   "metadata": {},
   "outputs": [
    {
     "data": {
      "text/html": [
       "<img src=\"./data/P52248-14r.jpg\" width=\"200\" height=\"200\"/>"
      ],
      "text/plain": [
       "<IPython.core.display.Image object>"
      ]
     },
     "execution_count": 4,
     "metadata": {},
     "output_type": "execute_result"
    }
   ],
   "source": [
    "# import image module\n",
    "from IPython.display import Image\n",
    "  \n",
    "# get the image\n",
    "Image(url=\"./data/P52248-14r.jpg\", width=200, height=200)"
   ]
  },
  {
   "cell_type": "code",
   "execution_count": 5,
   "id": "9dc357f1",
   "metadata": {},
   "outputs": [],
   "source": [
    "IMAGE_DIR = \"./data/\"\n",
    "# for i, img in enumerate(os.listdir(\"./data/\")):\n",
    "#     print(i, img)"
   ]
  },
  {
   "cell_type": "code",
   "execution_count": 6,
   "id": "1d2ad908",
   "metadata": {},
   "outputs": [
    {
     "data": {
      "text/html": [
       "<div>\n",
       "<style scoped>\n",
       "    .dataframe tbody tr th:only-of-type {\n",
       "        vertical-align: middle;\n",
       "    }\n",
       "\n",
       "    .dataframe tbody tr th {\n",
       "        vertical-align: top;\n",
       "    }\n",
       "\n",
       "    .dataframe thead th {\n",
       "        text-align: right;\n",
       "    }\n",
       "</style>\n",
       "<table border=\"1\" class=\"dataframe\">\n",
       "  <thead>\n",
       "    <tr style=\"text-align: right;\">\n",
       "      <th></th>\n",
       "      <th>image_name</th>\n",
       "      <th>label</th>\n",
       "    </tr>\n",
       "  </thead>\n",
       "  <tbody>\n",
       "    <tr>\n",
       "      <th>1</th>\n",
       "      <td>NP10109-128r.jpg</td>\n",
       "      <td>NO POLLEN</td>\n",
       "    </tr>\n",
       "    <tr>\n",
       "      <th>2</th>\n",
       "      <td>NP10154-130r.jpg</td>\n",
       "      <td>NO POLLEN</td>\n",
       "    </tr>\n",
       "    <tr>\n",
       "      <th>3</th>\n",
       "      <td>NP10304-132r.jpg</td>\n",
       "      <td>NO POLLEN</td>\n",
       "    </tr>\n",
       "    <tr>\n",
       "      <th>4</th>\n",
       "      <td>NP1034-9r.jpg</td>\n",
       "      <td>NO POLLEN</td>\n",
       "    </tr>\n",
       "  </tbody>\n",
       "</table>\n",
       "</div>"
      ],
      "text/plain": [
       "         image_name      label\n",
       "1  NP10109-128r.jpg  NO POLLEN\n",
       "2  NP10154-130r.jpg  NO POLLEN\n",
       "3  NP10304-132r.jpg  NO POLLEN\n",
       "4     NP1034-9r.jpg  NO POLLEN"
      ]
     },
     "execution_count": 6,
     "metadata": {},
     "output_type": "execute_result"
    }
   ],
   "source": [
    "# Create the dataframe of image names and labels\n",
    "for index, image in enumerate(os.listdir(IMAGE_DIR)):\n",
    "    if image.startswith(\"P\"):\n",
    "        df.loc[index,\"image_name\"] = image\n",
    "        df.loc[index,\"label\"] = \"POLLEN\"\n",
    "    elif image.startswith(\"N\"):\n",
    "        df.loc[index] = [image,\"NO POLLEN\"]\n",
    "df[1:5]"
   ]
  },
  {
   "cell_type": "code",
   "execution_count": 7,
   "id": "76a5d76c",
   "metadata": {},
   "outputs": [],
   "source": [
    "# Scale the data - [0,1], validation split - creating objects\n",
    "train_DataGenerator = ImageDataGenerator(\n",
    "    rescale=1/255,\n",
    "    validation_split=0.2\n",
    ")\n",
    "\n",
    "test_DataGenerator = ImageDataGenerator(\n",
    "    rescale=1/255,\n",
    ")"
   ]
  },
  {
   "cell_type": "code",
   "execution_count": 8,
   "id": "68db39ff",
   "metadata": {},
   "outputs": [],
   "source": [
    "# Split train and test datasets\n",
    "train_df, test_df = train_test_split(df, \n",
    "                                     test_size=0.2, \n",
    "                                     shuffle=True, \n",
    "                                     random_state=1)"
   ]
  },
  {
   "cell_type": "code",
   "execution_count": 9,
   "id": "57931501",
   "metadata": {},
   "outputs": [
    {
     "name": "stdout",
     "output_type": "stream",
     "text": [
      "Found 457 validated image filenames belonging to 2 classes.\n",
      "Found 114 validated image filenames belonging to 2 classes.\n",
      "Found 143 validated image filenames belonging to 2 classes.\n"
     ]
    }
   ],
   "source": [
    "# Create train, test and validation datasets\n",
    "# It does scaling, resizing the image to 128x128\n",
    "train_images = train_DataGenerator.flow_from_dataframe(\n",
    "    dataframe=train_df,\n",
    "    x_col=\"image_name\",\n",
    "    y_col=\"label\",\n",
    "    directory = IMAGE_DIR,\n",
    "    target_size=(128, 128),\n",
    "    class_mode=\"binary\",\n",
    "    seed=42,\n",
    "    subset='training'\n",
    ")\n",
    "\n",
    "val_images = train_DataGenerator.flow_from_dataframe(\n",
    "    dataframe=train_df,\n",
    "    x_col=\"image_name\",\n",
    "    y_col=\"label\",\n",
    "    directory = IMAGE_DIR,\n",
    "    target_size=(128, 128),\n",
    "    class_mode=\"binary\",\n",
    "    seed=42,\n",
    "    subset='validation'\n",
    ")\n",
    "\n",
    "test_images = test_DataGenerator.flow_from_dataframe(\n",
    "    dataframe=test_df,\n",
    "    x_col=\"image_name\",\n",
    "    y_col=\"label\",\n",
    "    directory = IMAGE_DIR,\n",
    "    target_size=(128, 128),\n",
    "    class_mode=\"binary\"\n",
    ")"
   ]
  },
  {
   "cell_type": "code",
   "execution_count": 47,
   "id": "41f80081",
   "metadata": {},
   "outputs": [
    {
     "data": {
      "text/plain": [
       "((128, 128, 3), (128, 128, 3))"
      ]
     },
     "execution_count": 47,
     "metadata": {},
     "output_type": "execute_result"
    }
   ],
   "source": [
    "test_images.image_shape, train_images.image_shape"
   ]
  },
  {
   "cell_type": "markdown",
   "id": "e2cd12d0",
   "metadata": {},
   "source": [
    "## 3. Create CNN architecture"
   ]
  },
  {
   "cell_type": "code",
   "execution_count": 10,
   "id": "f0ac0005",
   "metadata": {},
   "outputs": [
    {
     "name": "stdout",
     "output_type": "stream",
     "text": [
      "WARNING:tensorflow:From C:\\Users\\Vihan\\anaconda3\\lib\\site-packages\\keras\\backend\\tensorflow_backend.py:4070: The name tf.nn.max_pool is deprecated. Please use tf.nn.max_pool2d instead.\n",
      "\n"
     ]
    }
   ],
   "source": [
    "# Create a Sqequntial model object\n",
    "model = Sequential()\n",
    "\n",
    "# Add first Conv and pool layers\n",
    "model.add(Conv2D(filters = 32, \n",
    "                 kernel_size = (3,3), \n",
    "                 activation = \"relu\", \n",
    "                 input_shape = (128, 128, 3),\n",
    "                 name= \"Input_Layer\"))\n",
    "model.add(MaxPool2D((2,2), name = \"Pooling_1\"))\n",
    "\n",
    "# 2nd Conv and pool layers\n",
    "model.add(Conv2D(filters = 32, \n",
    "                 kernel_size = (3,3), \n",
    "                 activation = \"relu\", \n",
    "                 name= \"Conv_Layer\"))\n",
    "model.add(MaxPool2D((2,2), name = \"Pooling_2\"))\n",
    "\n",
    "# Flatten the output of 2nd conv layer\n",
    "model.add(Flatten())\n",
    "\n",
    "# Add FC layers\n",
    "model.add(Dense(128, activation=\"relu\", name=\"Dense_1\")) # FC1\n",
    "model.add(Dense(64, activation=\"relu\", name=\"Dense_2\")) # FC2\n",
    "model.add(Dense(2, activation=\"softmax\", name=\"Output_Layer\")) # FC3 - Output FC layer"
   ]
  },
  {
   "cell_type": "code",
   "execution_count": 11,
   "id": "116330b5",
   "metadata": {},
   "outputs": [
    {
     "name": "stdout",
     "output_type": "stream",
     "text": [
      "Model: \"sequential_1\"\n",
      "_________________________________________________________________\n",
      "Layer (type)                 Output Shape              Param #   \n",
      "=================================================================\n",
      "Input_Layer (Conv2D)         (None, 126, 126, 32)      896       \n",
      "_________________________________________________________________\n",
      "Pooling_1 (MaxPooling2D)     (None, 63, 63, 32)        0         \n",
      "_________________________________________________________________\n",
      "Conv_Layer (Conv2D)          (None, 61, 61, 32)        9248      \n",
      "_________________________________________________________________\n",
      "Pooling_2 (MaxPooling2D)     (None, 30, 30, 32)        0         \n",
      "_________________________________________________________________\n",
      "flatten_1 (Flatten)          (None, 28800)             0         \n",
      "_________________________________________________________________\n",
      "Dense_1 (Dense)              (None, 128)               3686528   \n",
      "_________________________________________________________________\n",
      "Dense_2 (Dense)              (None, 64)                8256      \n",
      "_________________________________________________________________\n",
      "Output_Layer (Dense)         (None, 2)                 130       \n",
      "=================================================================\n",
      "Total params: 3,705,058\n",
      "Trainable params: 3,705,058\n",
      "Non-trainable params: 0\n",
      "_________________________________________________________________\n"
     ]
    }
   ],
   "source": [
    "# Print the details of CNN layers\n",
    "model.summary()"
   ]
  },
  {
   "cell_type": "markdown",
   "id": "ef5fdf33",
   "metadata": {},
   "source": [
    "## 4. Compile the model"
   ]
  },
  {
   "cell_type": "code",
   "execution_count": 13,
   "id": "725e21e7",
   "metadata": {},
   "outputs": [],
   "source": [
    "# Use sparse_categorical_crossentropy since there are only two labels/classes\n",
    "# Otherwise we have to use sigmoid activation in the last dense layer with 1 neuron\n",
    "# because sigmoid returns only one output. And, use binary_crossentropy as the loss function \n",
    "# in compile method.\n",
    "model.compile(\n",
    "    optimizer=\"adam\",\n",
    "    loss=\"sparse_categorical_crossentropy\", # Since there are only two classes\n",
    "    metrics=[\"accuracy\"]\n",
    ")"
   ]
  },
  {
   "cell_type": "markdown",
   "id": "358c5ab2",
   "metadata": {},
   "source": [
    "## 5. Train the Model"
   ]
  },
  {
   "cell_type": "code",
   "execution_count": 16,
   "id": "95514317",
   "metadata": {
    "scrolled": true,
    "tags": []
   },
   "outputs": [
    {
     "name": "stdout",
     "output_type": "stream",
     "text": [
      "Epoch 1/20\n",
      "15/15 [==============================] - 5s 355ms/step - loss: 0.3437 - accuracy: 0.8556 - val_loss: 0.3616 - val_accuracy: 0.8246\n",
      "Epoch 2/20\n",
      "15/15 [==============================] - 5s 357ms/step - loss: 0.2950 - accuracy: 0.8512 - val_loss: 0.2162 - val_accuracy: 0.8070\n",
      "Epoch 3/20\n",
      "15/15 [==============================] - 5s 352ms/step - loss: 0.2061 - accuracy: 0.9168 - val_loss: 0.2028 - val_accuracy: 0.8684\n",
      "Epoch 4/20\n",
      "15/15 [==============================] - 6s 375ms/step - loss: 0.1572 - accuracy: 0.9431 - val_loss: 0.1065 - val_accuracy: 0.8947\n",
      "Epoch 5/20\n",
      "15/15 [==============================] - 5s 355ms/step - loss: 0.1261 - accuracy: 0.9497 - val_loss: 0.1868 - val_accuracy: 0.8860\n",
      "Epoch 6/20\n",
      "15/15 [==============================] - 5s 352ms/step - loss: 0.1420 - accuracy: 0.9497 - val_loss: 0.3677 - val_accuracy: 0.8860\n",
      "Epoch 7/20\n",
      "15/15 [==============================] - 5s 354ms/step - loss: 0.0811 - accuracy: 0.9803 - val_loss: 0.3673 - val_accuracy: 0.8860\n",
      "Epoch 8/20\n",
      "15/15 [==============================] - 5s 363ms/step - loss: 0.0453 - accuracy: 0.9934 - val_loss: 0.0823 - val_accuracy: 0.8947\n",
      "Epoch 9/20\n",
      "15/15 [==============================] - 5s 348ms/step - loss: 0.0455 - accuracy: 0.9891 - val_loss: 0.1680 - val_accuracy: 0.9123\n",
      "Epoch 10/20\n",
      "15/15 [==============================] - 6s 368ms/step - loss: 0.0365 - accuracy: 0.9934 - val_loss: 0.3117 - val_accuracy: 0.9211\n",
      "Epoch 11/20\n",
      "15/15 [==============================] - 5s 354ms/step - loss: 0.0492 - accuracy: 0.9825 - val_loss: 0.6807 - val_accuracy: 0.9035\n",
      "Epoch 12/20\n",
      "15/15 [==============================] - 6s 401ms/step - loss: 0.0625 - accuracy: 0.9803 - val_loss: 0.0364 - val_accuracy: 0.9211\n",
      "Epoch 13/20\n",
      "15/15 [==============================] - 6s 385ms/step - loss: 0.0291 - accuracy: 0.9912 - val_loss: 0.1199 - val_accuracy: 0.9211\n",
      "Epoch 14/20\n",
      "15/15 [==============================] - 6s 381ms/step - loss: 0.0140 - accuracy: 1.0000 - val_loss: 0.0205 - val_accuracy: 0.9035\n",
      "Epoch 15/20\n",
      "15/15 [==============================] - 6s 398ms/step - loss: 0.0053 - accuracy: 1.0000 - val_loss: 0.6359 - val_accuracy: 0.9298\n",
      "Epoch 16/20\n",
      "15/15 [==============================] - 6s 390ms/step - loss: 0.0017 - accuracy: 1.0000 - val_loss: 0.2222 - val_accuracy: 0.9211\n",
      "Epoch 17/20\n",
      "15/15 [==============================] - 6s 407ms/step - loss: 9.1819e-04 - accuracy: 1.0000 - val_loss: 0.0259 - val_accuracy: 0.9211\n",
      "Epoch 18/20\n",
      "15/15 [==============================] - 6s 414ms/step - loss: 6.6735e-04 - accuracy: 1.0000 - val_loss: 0.8083 - val_accuracy: 0.9211\n",
      "Epoch 19/20\n",
      "15/15 [==============================] - 6s 416ms/step - loss: 5.1620e-04 - accuracy: 1.0000 - val_loss: 0.7753 - val_accuracy: 0.9211\n",
      "Epoch 20/20\n",
      "15/15 [==============================] - 6s 410ms/step - loss: 4.3987e-04 - accuracy: 1.0000 - val_loss: 0.9076 - val_accuracy: 0.9211\n"
     ]
    }
   ],
   "source": [
    "# Build/Train the model using CNN\n",
    "bee_model = model.fit(\n",
    "    train_images,\n",
    "    epochs = 20,\n",
    "    validation_data=val_images\n",
    ")"
   ]
  },
  {
   "cell_type": "code",
   "execution_count": 16,
   "id": "310bfa2c",
   "metadata": {},
   "outputs": [],
   "source": [
    "#bee_model.history.keys()"
   ]
  },
  {
   "cell_type": "code",
   "execution_count": 17,
   "id": "ada0e6f9",
   "metadata": {
    "scrolled": true
   },
   "outputs": [
    {
     "data": {
      "image/png": "[encoded data removed]",
      "text/plain": [
       "<Figure size 432x288 with 1 Axes>"
      ]
     },
     "metadata": {
      "needs_background": "light"
     },
     "output_type": "display_data"
    }
   ],
   "source": [
    "# Plot the accuracy curve\n",
    "plt.plot(bee_model.history['accuracy'], label=\"train_accuracy\")\n",
    "plt.plot(bee_model.history['val_accuracy'], label=\"val_accuracy\")\n",
    "plt.xlabel(\"Epochs\")\n",
    "plt.ylabel(\"Accuracy\")\n",
    "plt.legend()\n",
    "plt.show()"
   ]
  },
  {
   "cell_type": "code",
   "execution_count": 24,
   "id": "c4e93b12",
   "metadata": {},
   "outputs": [
    {
     "data": {
      "image/png": "[encoded data removed]",
      "text/plain": [
       "<Figure size 432x288 with 1 Axes>"
      ]
     },
     "metadata": {
      "needs_background": "light"
     },
     "output_type": "display_data"
    }
   ],
   "source": [
    "# Plot the loss curve\n",
    "plt.plot(bee_model.history['loss'], label=\"train_loss\")\n",
    "plt.plot(bee_model.history['val_loss'], label=\"val_loss\")\n",
    "plt.xlabel(\"Epochs\")\n",
    "plt.ylabel(\"Loss\")\n",
    "plt.legend()\n",
    "plt.show()"
   ]
  },
  {
   "cell_type": "code",
   "execution_count": 19,
   "id": "e14d425b",
   "metadata": {},
   "outputs": [],
   "source": [
    "# Save your model into a directory\n",
    "model.save(\"./models/cnn_model.h5\")"
   ]
  },
  {
   "cell_type": "markdown",
   "id": "87ee967a",
   "metadata": {},
   "source": [
    "## 6. Evaluate the model"
   ]
  },
  {
   "cell_type": "code",
   "execution_count": 20,
   "id": "dfdfa734",
   "metadata": {
    "scrolled": true
   },
   "outputs": [
    {
     "name": "stdout",
     "output_type": "stream",
     "text": [
      "5/5 [==============================] - 1s 257ms/step\n"
     ]
    },
    {
     "data": {
      "text/plain": [
       "[0.2234397530555725, 0.9020978808403015]"
      ]
     },
     "execution_count": 20,
     "metadata": {},
     "output_type": "execute_result"
    }
   ],
   "source": [
    "# Evaluate the model on test data - Get binary corss entropy loss and accuracy\n",
    "model.evaluate(test_images)"
   ]
  },
  {
   "cell_type": "code",
   "execution_count": 21,
   "id": "26f8d976",
   "metadata": {},
   "outputs": [
    {
     "data": {
      "text/plain": [
       "[0, 1, 1, 1]"
      ]
     },
     "execution_count": 21,
     "metadata": {},
     "output_type": "execute_result"
    }
   ],
   "source": [
    "# We get the probablities of both classes for every test image\n",
    "prediction_pobabilities = model.predict(test_images)\n",
    "\n",
    "# Index 0 - Class0, Index 1 - Class 1\n",
    "# Allot the class with max probability\n",
    "# If calss 0 has max probablity then class=0 otherwise class=1\n",
    "\n",
    "test_predictions = [np.argmax(prob) for prob in prediction_pobabilities]\n",
    "test_predictions[1:5]"
   ]
  },
  {
   "cell_type": "code",
   "execution_count": 22,
   "id": "9cc95204",
   "metadata": {},
   "outputs": [
    {
     "data": {
      "text/plain": [
       "array([[29, 39],\n",
       "       [33, 42]], dtype=int64)"
      ]
     },
     "execution_count": 22,
     "metadata": {},
     "output_type": "execute_result"
    }
   ],
   "source": [
    "cm = confusion_matrix(test_images.labels, test_predictions)\n",
    "cm"
   ]
  },
  {
   "cell_type": "code",
   "execution_count": 70,
   "id": "a7048e3f",
   "metadata": {},
   "outputs": [],
   "source": [
    "# Visulize confusion matrix-not required\n",
    "# plt.figure(dpi=70)\n",
    "# sns.heatmap(cm, annot=True, cmap=\"Blues\")\n",
    "# plt.xticks(ticks=[0.5,1.5], labels=['NO POLLEN', 'POLLEN'])\n",
    "# plt.yticks(ticks=[0.5,1.5], labels=['NO POLLEN', 'POLLEN'])\n",
    "# plt.xlabel(\"Predicted\")\n",
    "# plt.ylabel(\"Actual\")\n",
    "# plt.title(\"Confusion Matrix\")\n",
    "# plt.show()"
   ]
  },
  {
   "cell_type": "code",
   "execution_count": 23,
   "id": "6339a068",
   "metadata": {},
   "outputs": [
    {
     "name": "stdout",
     "output_type": "stream",
     "text": [
      "              precision    recall  f1-score   support\n",
      "\n",
      "           0       0.47      0.43      0.45        68\n",
      "           1       0.52      0.56      0.54        75\n",
      "\n",
      "    accuracy                           0.50       143\n",
      "   macro avg       0.49      0.49      0.49       143\n",
      "weighted avg       0.49      0.50      0.49       143\n",
      "\n"
     ]
    }
   ],
   "source": [
    "# Print classification report - important for evaluation of the model\n",
    "print(classification_report(test_images.labels, test_predictions))"
   ]
  }
 ],
 "metadata": {
  "kernelspec": {
   "display_name": "Python 3 (ipykernel)",
   "language": "python",
   "name": "python3"
  },
  "language_info": {
   "codemirror_mode": {
    "name": "ipython",
    "version": 3
   },
   "file_extension": ".py",
   "mimetype": "text/x-python",
   "name": "python",
   "nbconvert_exporter": "python",
   "pygments_lexer": "ipython3",
   "version": "3.9.12"
  },
  "toc-autonumbering": true
 },
 "nbformat": 4,
 "nbformat_minor": 5
}
