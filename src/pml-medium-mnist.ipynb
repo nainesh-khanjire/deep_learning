{
 "cells": [
  {
   "cell_type": "markdown",
   "id": "af31f5d0-7736-4e0c-b5a0-508ed9623139",
   "metadata": {},
   "source": [
    "## **MNIST Digit Recognition using CNN**"
   ]
  },
  {
   "cell_type": "code",
   "execution_count": 144,
   "id": "a25e1c5b-7965-4177-b02b-f27bc81286f8",
   "metadata": {},
   "outputs": [],
   "source": [
    "# data processing\n",
    "import numpy as np\n",
    "from keras.utils.np_utils import to_categorical\n",
    "\n",
    "# for building CNN\n",
    "import keras\n",
    "from keras.datasets import mnist\n",
    "\n",
    "# for model building\n",
    "from keras.models import Sequential\n",
    "from keras.layers import Conv2D, MaxPooling2D, Dropout, Flatten, Dense\n",
    "\n",
    "# for visualization of CNN network\n",
    "\n",
    "from keras.utils.vis_utils import model_to_dot\n",
    "from IPython.display import Image, SVG\n",
    "import matplotlib.pyplot as plt\n",
    "%matplotlib inline\n",
    "\n"
   ]
  },
  {
   "cell_type": "markdown",
   "id": "271fa82d-da2b-4673-aba0-2d96fca75bd8",
   "metadata": {},
   "source": [
    "## Data loading and processing"
   ]
  },
  {
   "cell_type": "code",
   "execution_count": 145,
   "id": "a53a131a-81e9-4455-aa74-d34629646f11",
   "metadata": {},
   "outputs": [],
   "source": [
    "(X_train,y_train),(X_test,y_test)= mnist.load_data()"
   ]
  },
  {
   "cell_type": "code",
   "execution_count": 147,
   "id": "1c1ae3e0-8837-4310-bd9a-f315db71eaca",
   "metadata": {},
   "outputs": [],
   "source": [
    "first_image = X_train[0, :, :]"
   ]
  },
  {
   "cell_type": "code",
   "execution_count": 148,
   "id": "1758da13-7b97-4b78-8256-5be5da645bda",
   "metadata": {},
   "outputs": [
    {
     "data": {
      "image/png": "[encoded data removed]",
      "text/plain": [
       "<Figure size 640x480 with 1 Axes>"
      ]
     },
     "metadata": {},
     "output_type": "display_data"
    }
   ],
   "source": [
    "# to interpret the value as a 28x28 image, we need to reshape\n",
    "# theh numpy array, which is one dimensional:\n",
    "plt.imshow(first_image,cmap = plt.cm.Greys);\n"
   ]
  },
  {
   "cell_type": "code",
   "execution_count": 149,
   "id": "b9bebf65-5d4d-4310-9ae3-6788ce344d5f",
   "metadata": {},
   "outputs": [
    {
     "data": {
      "text/plain": [
       "10"
      ]
     },
     "execution_count": 149,
     "metadata": {},
     "output_type": "execute_result"
    }
   ],
   "source": [
    "classes = len(np.unique(y_train))\n",
    "classes"
   ]
  },
  {
   "cell_type": "code",
   "execution_count": 151,
   "id": "25e7b120-e7ed-464e-8f11-98fd32b43914",
   "metadata": {},
   "outputs": [
    {
     "data": {
      "text/plain": [
       "(60000, 28, 28)"
      ]
     },
     "execution_count": 151,
     "metadata": {},
     "output_type": "execute_result"
    }
   ],
   "source": [
    "# 60k training 28x28 (pixel) images\n",
    "X_train.shape"
   ]
  },
  {
   "cell_type": "code",
   "execution_count": 152,
   "id": "959fa4e3-49af-4879-9b12-79e0e927d446",
   "metadata": {},
   "outputs": [
    {
     "data": {
      "text/plain": [
       "(10000, 28, 28)"
      ]
     },
     "execution_count": 152,
     "metadata": {},
     "output_type": "execute_result"
    }
   ],
   "source": [
    "#10k test 28x28 pixel images\n",
    "X_test.shape"
   ]
  },
  {
   "cell_type": "markdown",
   "id": "64eefc60-bc7a-4241-94d8-0be03345244d",
   "metadata": {},
   "source": [
    "Next, we need to reshape our dataset inputs (X_train and X_test) to the shape our model expects when we train the model.\n",
    "The first number is the number of images (60000 for X_train and 10000 for X_train) Then comes the shape of each image (28x28)\n",
    "The last number is 1, which signifies the images are greyscale"
   ]
  },
  {
   "cell_type": "code",
   "execution_count": 153,
   "id": "aaa41c03-f254-4d0f-a985-f0505641117a",
   "metadata": {},
   "outputs": [],
   "source": [
    "# training and test datasets are integers, ranging 0 to 255\n",
    "# we reshape the training and test data sets to be a 4D tensor\n",
    "X_train = X_train.reshape(60000,28,28,1).astype('float32')\n",
    "X_test = X_test.reshape(10000,28,28,1).astype('float32')\n",
    "input_shape =(28,28,1)"
   ]
  },
  {
   "cell_type": "code",
   "execution_count": 154,
   "id": "5135ce21-cab2-4bf6-9fd2-c5349a450410",
   "metadata": {},
   "outputs": [],
   "source": [
    "# normalize - sclees the training and test data to range between 0 and 1\n",
    "max_value = X_train.max()\n",
    "X_train /= max_value\n",
    "X_test /= max_value\n"
   ]
  },
  {
   "cell_type": "code",
   "execution_count": 155,
   "id": "e0df406f-6b11-428b-a329-66789a32ce55",
   "metadata": {},
   "outputs": [
    {
     "data": {
      "text/plain": [
       "(array([5, 0, 4, ..., 5, 6, 8], dtype=uint8),\n",
       " array([7, 2, 1, ..., 4, 5, 6], dtype=uint8))"
      ]
     },
     "execution_count": 155,
     "metadata": {},
     "output_type": "execute_result"
    }
   ],
   "source": [
    "# training and test labels are integers from 0 to 9 indicating the class label\n",
    "(y_train,y_test)"
   ]
  },
  {
   "cell_type": "markdown",
   "id": "9ce57454-e3d7-4416-b10b-451171707646",
   "metadata": {},
   "source": [
    "We need to 'one hot encoder' our target variable. This means that a column will be created for each output category and binary variable is inputted for each category, for example we saw the first image in the dataset is 5  "
   ]
  },
  {
   "cell_type": "code",
   "execution_count": 156,
   "id": "2402b315-7782-479a-b746-15b3d09ba9cf",
   "metadata": {},
   "outputs": [],
   "source": [
    "# we convert the class labels to binary class metrices\n",
    "y_train = to_categorical(y_train, classes)\n",
    "y_test = to_categorical(y_test,classes)"
   ]
  },
  {
   "cell_type": "code",
   "execution_count": 157,
   "id": "d64e52b6-70bd-479e-be62-4b3405688ad8",
   "metadata": {},
   "outputs": [
    {
     "data": {
      "text/plain": [
       "(array([[0., 0., 0., ..., 0., 0., 0.],\n",
       "        [1., 0., 0., ..., 0., 0., 0.],\n",
       "        [0., 0., 0., ..., 0., 0., 0.],\n",
       "        ...,\n",
       "        [0., 0., 0., ..., 0., 0., 0.],\n",
       "        [0., 0., 0., ..., 0., 0., 0.],\n",
       "        [0., 0., 0., ..., 0., 1., 0.]], dtype=float32),\n",
       " array([[0., 0., 0., ..., 1., 0., 0.],\n",
       "        [0., 0., 1., ..., 0., 0., 0.],\n",
       "        [0., 1., 0., ..., 0., 0., 0.],\n",
       "        ...,\n",
       "        [0., 0., 0., ..., 0., 0., 0.],\n",
       "        [0., 0., 0., ..., 0., 0., 0.],\n",
       "        [0., 0., 0., ..., 0., 0., 0.]], dtype=float32))"
      ]
     },
     "execution_count": 157,
     "metadata": {},
     "output_type": "execute_result"
    }
   ],
   "source": [
    "(y_train,y_test)"
   ]
  },
  {
   "cell_type": "markdown",
   "id": "9f19491c-177c-4798-af25-cef423288aa1",
   "metadata": {},
   "source": [
    "# Convolutional Neural Net (ConvNet)\n",
    "- use add() function to add layers to our model\n",
    "- our first layer is Conv2D layer,this deals with input images, these are 2D matrices\n",
    "- 32 in first conv2D layer and 64 in second Conv2D layer are number of nodes/neurons in each layer\n",
    "- this can be adjusted depending on size of dataset, 32 or 64 will work\n",
    "- first layer is an input shape \n",
    "-  kernel size is size of filter matrix for our convolution, so kernel size of 3 means, matrix filter of 3x3 \n",
    "- between convo and dense layer there is Flatten layer \n"
   ]
  },
  {
   "cell_type": "code",
   "execution_count": 160,
   "id": "29b49b38-a279-451a-84bc-b3b509a6a540",
   "metadata": {},
   "outputs": [],
   "source": [
    "#initializing keras Sequential model\n",
    "model = Sequential()\n",
    "\n",
    "input_shape = (28,28,1)\n",
    "\n",
    "model.add(Conv2D(filters  =32,\n",
    "                kernel_size = (3,3),\n",
    "                strides = (1,1),\n",
    "                activation = 'relu',\n",
    "                input_shape = input_shape))\n",
    "\n",
    "model.add(MaxPooling2D(pool_size=(2,2)))\n",
    "\n",
    "model.add(Conv2D(filters = 64,\n",
    "                kernel_size = (3,3),\n",
    "                activation= 'relu'))\n",
    "\n",
    "# additional layer\n",
    "model.add(Conv2D(filters = 128,\n",
    "                kernel_size = (4,4),\n",
    "                activation= 'relu'))\n",
    "# additional layer\n",
    "model.add(MaxPooling2D(pool_size=(2,2)))\n",
    "\n",
    "\n",
    "# for regularization\n",
    "model.add(Dropout(rate = 0.25,seed = 500))\n",
    "model.add(MaxPooling2D(pool_size=(2,2)))\n",
    "\n",
    "\n",
    "\n",
    "model.add(Flatten())\n",
    "model.add(Dense(units= 128,activation='relu'))\n",
    "\n",
    "# for regularization\n",
    "model.add(Dropout(rate = 0.5,seed=500))\n",
    "model.add(Dense(units = classes,activation = 'softmax'))\n",
    "\n",
    "# dropout -rate --> float-0 and 1\n",
    "# fraction of the input units to drop\n",
    "\n"
   ]
  },
  {
   "cell_type": "markdown",
   "id": "ee1aa76d-a976-4b48-a0b1-538cdf4d2287",
   "metadata": {},
   "source": [
    "**no. of parameters in Conv2D**\n",
    "(((w*h*d)+1)*k)\n",
    "here w is width of the filter\n",
    "h - height of the filter\n",
    "d - depth of the filter\n",
    "1 is bias for 1 filter\n",
    "k is number of filters i current layer\n",
    "\n",
    "\n",
    "number of parameters in dense layer\n",
    "total params = weight+biases = (ncxnp)+(nc*1)\n",
    "nc = current layer neurons\n",
    "np = previous layer neurons\n"
   ]
  },
  {
   "cell_type": "code",
   "execution_count": 161,
   "id": "ff54f806-04b4-4180-a79c-611e305a3b72",
   "metadata": {},
   "outputs": [
    {
     "name": "stdout",
     "output_type": "stream",
     "text": [
      "Model: \"sequential_6\"\n",
      "_________________________________________________________________\n",
      " Layer (type)                Output Shape              Param #   \n",
      "=================================================================\n",
      " conv2d_13 (Conv2D)          (None, 26, 26, 32)        320       \n",
      "                                                                 \n",
      " max_pooling2d_13 (MaxPoolin  (None, 13, 13, 32)       0         \n",
      " g2D)                                                            \n",
      "                                                                 \n",
      " conv2d_14 (Conv2D)          (None, 11, 11, 64)        18496     \n",
      "                                                                 \n",
      " conv2d_15 (Conv2D)          (None, 8, 8, 128)         131200    \n",
      "                                                                 \n",
      " max_pooling2d_14 (MaxPoolin  (None, 4, 4, 128)        0         \n",
      " g2D)                                                            \n",
      "                                                                 \n",
      " dropout_12 (Dropout)        (None, 4, 4, 128)         0         \n",
      "                                                                 \n",
      " max_pooling2d_15 (MaxPoolin  (None, 2, 2, 128)        0         \n",
      " g2D)                                                            \n",
      "                                                                 \n",
      " flatten_6 (Flatten)         (None, 512)               0         \n",
      "                                                                 \n",
      " dense_12 (Dense)            (None, 128)               65664     \n",
      "                                                                 \n",
      " dropout_13 (Dropout)        (None, 128)               0         \n",
      "                                                                 \n",
      " dense_13 (Dense)            (None, 10)                1290      \n",
      "                                                                 \n",
      "=================================================================\n",
      "Total params: 216,970\n",
      "Trainable params: 216,970\n",
      "Non-trainable params: 0\n",
      "_________________________________________________________________\n"
     ]
    }
   ],
   "source": [
    "model.summary()"
   ]
  },
  {
   "cell_type": "code",
   "execution_count": 165,
   "id": "6f5c33f7-1587-46ba-aecd-4ccbd8819029",
   "metadata": {},
   "outputs": [],
   "source": [
    "# getting error here\n",
    "# SVG(model_to_dot(model,show_shapes=True, dpi=70).create(prog='dot', format='svg'))"
   ]
  },
  {
   "cell_type": "markdown",
   "id": "850e1911-6364-422c-8756-b1489e7b8698",
   "metadata": {},
   "source": [
    "## T**rain classifier**\n"
   ]
  },
  {
   "cell_type": "markdown",
   "id": "4df0c5b6-d3e4-4d31-933c-27b3aa7cfeee",
   "metadata": {},
   "source": [
    "- we need to compile our model, it will require 3 parameters, optimizer, loss and metrics\n",
    "- 'adam' as optimizer and 'categorical_crossentropy as loss function"
   ]
  },
  {
   "cell_type": "code",
   "execution_count": 166,
   "id": "a25d6538-a3d0-45be-9602-38e48c1b5afa",
   "metadata": {},
   "outputs": [],
   "source": [
    "# using 'adam' optimizer here\n",
    "model.compile(optimizer = 'adam',\n",
    "             loss = 'categorical_crossentropy',\n",
    "             metrics = ['accuracy'])"
   ]
  },
  {
   "cell_type": "markdown",
   "id": "d06582f0-cf21-44bd-8098-6ec9e0e2c32a",
   "metadata": {},
   "source": [
    "Now we will train our model. To train we use fit() function"
   ]
  },
  {
   "cell_type": "code",
   "execution_count": 167,
   "id": "788fbfa4-332f-440d-bd69-23bd43edb745",
   "metadata": {},
   "outputs": [
    {
     "name": "stdout",
     "output_type": "stream",
     "text": [
      "Epoch 1/3\n",
      "469/469 [==============================] - 50s 104ms/step - loss: 0.3082 - accuracy: 0.9032\n",
      "Epoch 2/3\n",
      "469/469 [==============================] - 49s 103ms/step - loss: 0.0895 - accuracy: 0.9736\n",
      "Epoch 3/3\n",
      "469/469 [==============================] - 49s 104ms/step - loss: 0.0668 - accuracy: 0.9802\n"
     ]
    },
    {
     "data": {
      "text/plain": [
       "<keras.callbacks.History at 0x15219222b80>"
      ]
     },
     "execution_count": 167,
     "metadata": {},
     "output_type": "execute_result"
    }
   ],
   "source": [
    "model.fit( X_train,\n",
    "          y_train,\n",
    "          batch_size = 128,\n",
    "          epochs  =3,\n",
    "          verbose =1)"
   ]
  },
  {
   "cell_type": "markdown",
   "id": "c126aae6-9901-482b-9a14-77656a1efd00",
   "metadata": {},
   "source": [
    "## **Model Evaluation**\n",
    "- for our validation data, we will use the test set provided to us in our dataset, which we have split into X_test and y_test"
   ]
  },
  {
   "cell_type": "code",
   "execution_count": null,
   "id": "3f478086-e03b-4c36-976c-44ac68357825",
   "metadata": {},
   "outputs": [],
   "source": [
    "# here acuuracy is almost ~99% , Returns loss and Accuracy\n",
    "model.evaluate(X_test,y_test)"
   ]
  },
  {
   "cell_type": "code",
   "execution_count": null,
   "id": "61f9c764-9532-42b7-8344-3449df14ad99",
   "metadata": {},
   "outputs": [],
   "source": [
    "#predicting a couple of held-out images\n",
    "first_test_image = X_test[0,:]\n",
    "plt.imshow(first_test_image.reshape(28,28),cmap = plt.cm.Greys);"
   ]
  },
  {
   "cell_type": "code",
   "execution_count": null,
   "id": "3dfe1982-0500-47f6-8179-da987a79fc9e",
   "metadata": {},
   "outputs": [],
   "source": [
    "# this is plot images with numerial data from numpy zip file \n",
    "second_test_image = X_test[19,:]\n",
    "plt.imshow(second_test_image.reshape(28,28),cmap = plt.cm.Greys);"
   ]
  },
  {
   "cell_type": "code",
   "execution_count": null,
   "id": "2e779125-682c-48f1-93d9-d0d3d07d2011",
   "metadata": {},
   "outputs": [],
   "source": [
    "# this will predict the number in the integer format as per outr input\n",
    "# if our model uses softmax as the last nn layers\n",
    "np.argmax(model.predict(X_test[[19],:])).astype('int32')"
   ]
  },
  {
   "cell_type": "code",
   "execution_count": null,
   "id": "f5e21975-8d47-464e-9599-bbceb824acde",
   "metadata": {},
   "outputs": [],
   "source": [
    "np.argmax(model.predict(X_test[[10],:])).astype('int32')"
   ]
  },
  {
   "cell_type": "code",
   "execution_count": 140,
   "id": "cea16a96-a47f-44fa-a247-a93a5352b5fa",
   "metadata": {},
   "outputs": [
    {
     "name": "stdout",
     "output_type": "stream",
     "text": [
      "1/1 [==============================] - 0s 108ms/step\n"
     ]
    },
    {
     "data": {
      "text/plain": [
       "2"
      ]
     },
     "execution_count": 140,
     "metadata": {},
     "output_type": "execute_result"
    }
   ],
   "source": [
    "np.argmax(model.predict(X_test[[20],:])).astype('int32')"
   ]
  },
  {
   "cell_type": "code",
   "execution_count": null,
   "id": "48c246b7-da29-41d5-a291-bbfc7bb1cbfa",
   "metadata": {},
   "outputs": [],
   "source": []
  },
  {
   "cell_type": "code",
   "execution_count": null,
   "id": "567e7124-e17c-4d97-8c79-6b302fb54da5",
   "metadata": {},
   "outputs": [],
   "source": []
  }
 ],
 "metadata": {
  "kernelspec": {
   "display_name": "Python 3 (ipykernel)",
   "language": "python",
   "name": "python3"
  },
  "language_info": {
   "codemirror_mode": {
    "name": "ipython",
    "version": 3
   },
   "file_extension": ".py",
   "mimetype": "text/x-python",
   "name": "python",
   "nbconvert_exporter": "python",
   "pygments_lexer": "ipython3",
   "version": "3.9.12"
  }
 },
 "nbformat": 4,
 "nbformat_minor": 5
}
