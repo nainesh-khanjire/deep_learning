{
 "cells": [
  {
   "cell_type": "markdown",
   "id": "a86f8c00-9429-445a-8a4b-c07239a3b52e",
   "metadata": {},
   "source": [
    "# Stock price prediction using RNN and LSTM\n",
    "\n",
    "Dataset source: [Kaggle](https://www.kaggle.com/datasets/medharawat/google-stock-price)"
   ]
  },
  {
   "cell_type": "markdown",
   "id": "7ddd915b-cf9b-464d-9af8-2575fe005f8b",
   "metadata": {},
   "source": [
    "- In the simplest terms, **time-series forecasting** is a technique that utilizes historical and current data to predict future values over a period of time or a specific point in the future. \n",
    "- In this example we are going to do time series forecasting of Stock prices of Google Inc.\n",
    "- Time series forecasting can be framed as a supervised learning problem.\n",
    "- This re-framing of time series data allows you access to the suite of standard linear and nonlinear machine learning algorithms on the problem statement.\n",
    "\n",
    "Read more here: [Time Series Forecasting as Supervised Learning](https://machinelearningmastery.com/time-series-forecasting-supervised-learning/)"
   ]
  },
  {
   "cell_type": "code",
   "execution_count": 1,
   "id": "01d1da72-3cf7-4c36-8c4a-ad5b5b20cafa",
   "metadata": {},
   "outputs": [],
   "source": [
    "# Uncomment and run following lines, if you are training model on GPUs\n",
    "\n",
    "# import os\n",
    "# os.environ['CUDA_VISIBLE_DEVICES'] = '0'\n",
    "# os.environ['TF_FORCE_GPU_ALLOW_GROWTH']='true'"
   ]
  },
  {
   "cell_type": "code",
   "execution_count": 2,
   "id": "d66f8f18",
   "metadata": {
    "_cell_guid": "b1076dfc-b9ad-4769-8c92-a6c4dae69d19",
    "_uuid": "8f2839f25d086af736a60e9eeb907d3b93b6e0e5",
    "papermill": {
     "duration": 1.043718,
     "end_time": "2022-09-08T14:47:56.636636",
     "exception": false,
     "start_time": "2022-09-08T14:47:55.592918",
     "status": "completed"
    },
    "tags": []
   },
   "outputs": [],
   "source": [
    "import numpy as np\n",
    "import pandas as pd\n",
    "import matplotlib.pyplot as plt\n",
    "import seaborn as sns\n",
    "\n",
    "from sklearn.preprocessing import MinMaxScaler"
   ]
  },
  {
   "cell_type": "markdown",
   "id": "ea92cfcc",
   "metadata": {
    "papermill": {
     "duration": 0.00724,
     "end_time": "2022-09-08T14:47:56.651898",
     "exception": false,
     "start_time": "2022-09-08T14:47:56.644658",
     "status": "completed"
    },
    "tags": []
   },
   "source": [
    "# Data Review"
   ]
  },
  {
   "cell_type": "markdown",
   "id": "03133803",
   "metadata": {
    "papermill": {
     "duration": 0.007265,
     "end_time": "2022-09-08T14:47:56.667389",
     "exception": false,
     "start_time": "2022-09-08T14:47:56.660124",
     "status": "completed"
    },
    "tags": []
   },
   "source": [
    "Read the dataset with the pandas library"
   ]
  },
  {
   "cell_type": "code",
   "execution_count": 3,
   "id": "864411d7-040d-49d1-8492-9184d49d255e",
   "metadata": {
    "papermill": {
     "duration": 0.046766,
     "end_time": "2022-09-08T14:47:56.721914",
     "exception": false,
     "start_time": "2022-09-08T14:47:56.675148",
     "status": "completed"
    },
    "tags": []
   },
   "outputs": [],
   "source": [
    "data = pd.read_csv(\"../data/Google_Stock_Price_Train.csv\")"
   ]
  },
  {
   "cell_type": "code",
   "execution_count": 4,
   "id": "832b6994-7d54-4f2f-aaa2-22433fa93cf5",
   "metadata": {
    "papermill": {
     "duration": 0.046766,
     "end_time": "2022-09-08T14:47:56.721914",
     "exception": false,
     "start_time": "2022-09-08T14:47:56.675148",
     "status": "completed"
    },
    "tags": []
   },
   "outputs": [
    {
     "data": {
      "text/html": [
       "<div>\n",
       "<style scoped>\n",
       "    .dataframe tbody tr th:only-of-type {\n",
       "        vertical-align: middle;\n",
       "    }\n",
       "\n",
       "    .dataframe tbody tr th {\n",
       "        vertical-align: top;\n",
       "    }\n",
       "\n",
       "    .dataframe thead th {\n",
       "        text-align: right;\n",
       "    }\n",
       "</style>\n",
       "<table border=\"1\" class=\"dataframe\">\n",
       "  <thead>\n",
       "    <tr style=\"text-align: right;\">\n",
       "      <th></th>\n",
       "      <th>Date</th>\n",
       "      <th>Open</th>\n",
       "      <th>High</th>\n",
       "      <th>Low</th>\n",
       "      <th>Close</th>\n",
       "      <th>Volume</th>\n",
       "    </tr>\n",
       "  </thead>\n",
       "  <tbody>\n",
       "    <tr>\n",
       "      <th>0</th>\n",
       "      <td>1/3/2012</td>\n",
       "      <td>325.25</td>\n",
       "      <td>332.83</td>\n",
       "      <td>324.97</td>\n",
       "      <td>663.59</td>\n",
       "      <td>7,380,500</td>\n",
       "    </tr>\n",
       "    <tr>\n",
       "      <th>1</th>\n",
       "      <td>1/4/2012</td>\n",
       "      <td>331.27</td>\n",
       "      <td>333.87</td>\n",
       "      <td>329.08</td>\n",
       "      <td>666.45</td>\n",
       "      <td>5,749,400</td>\n",
       "    </tr>\n",
       "    <tr>\n",
       "      <th>2</th>\n",
       "      <td>1/5/2012</td>\n",
       "      <td>329.83</td>\n",
       "      <td>330.75</td>\n",
       "      <td>326.89</td>\n",
       "      <td>657.21</td>\n",
       "      <td>6,590,300</td>\n",
       "    </tr>\n",
       "    <tr>\n",
       "      <th>3</th>\n",
       "      <td>1/6/2012</td>\n",
       "      <td>328.34</td>\n",
       "      <td>328.77</td>\n",
       "      <td>323.68</td>\n",
       "      <td>648.24</td>\n",
       "      <td>5,405,900</td>\n",
       "    </tr>\n",
       "    <tr>\n",
       "      <th>4</th>\n",
       "      <td>1/9/2012</td>\n",
       "      <td>322.04</td>\n",
       "      <td>322.29</td>\n",
       "      <td>309.46</td>\n",
       "      <td>620.76</td>\n",
       "      <td>11,688,800</td>\n",
       "    </tr>\n",
       "  </tbody>\n",
       "</table>\n",
       "</div>"
      ],
      "text/plain": [
       "       Date    Open    High     Low   Close      Volume\n",
       "0  1/3/2012  325.25  332.83  324.97  663.59   7,380,500\n",
       "1  1/4/2012  331.27  333.87  329.08  666.45   5,749,400\n",
       "2  1/5/2012  329.83  330.75  326.89  657.21   6,590,300\n",
       "3  1/6/2012  328.34  328.77  323.68  648.24   5,405,900\n",
       "4  1/9/2012  322.04  322.29  309.46  620.76  11,688,800"
      ]
     },
     "execution_count": 4,
     "metadata": {},
     "output_type": "execute_result"
    }
   ],
   "source": [
    "data.head()"
   ]
  },
  {
   "cell_type": "code",
   "execution_count": 5,
   "id": "32af16e0",
   "metadata": {
    "papermill": {
     "duration": 0.033724,
     "end_time": "2022-09-08T14:47:56.764035",
     "exception": false,
     "start_time": "2022-09-08T14:47:56.730311",
     "status": "completed"
    },
    "tags": []
   },
   "outputs": [
    {
     "name": "stdout",
     "output_type": "stream",
     "text": [
      "<class 'pandas.core.frame.DataFrame'>\n",
      "RangeIndex: 1258 entries, 0 to 1257\n",
      "Data columns (total 6 columns):\n",
      " #   Column  Non-Null Count  Dtype  \n",
      "---  ------  --------------  -----  \n",
      " 0   Date    1258 non-null   object \n",
      " 1   Open    1258 non-null   float64\n",
      " 2   High    1258 non-null   float64\n",
      " 3   Low     1258 non-null   float64\n",
      " 4   Close   1258 non-null   object \n",
      " 5   Volume  1258 non-null   object \n",
      "dtypes: float64(3), object(3)\n",
      "memory usage: 59.1+ KB\n"
     ]
    }
   ],
   "source": [
    "# information of data\n",
    "data.info()"
   ]
  },
  {
   "cell_type": "code",
   "execution_count": 6,
   "id": "be197fe2",
   "metadata": {
    "papermill": {
     "duration": 0.030306,
     "end_time": "2022-09-08T14:47:56.803325",
     "exception": false,
     "start_time": "2022-09-08T14:47:56.773019",
     "status": "completed"
    },
    "tags": []
   },
   "outputs": [
    {
     "data": {
      "text/html": [
       "<div>\n",
       "<style scoped>\n",
       "    .dataframe tbody tr th:only-of-type {\n",
       "        vertical-align: middle;\n",
       "    }\n",
       "\n",
       "    .dataframe tbody tr th {\n",
       "        vertical-align: top;\n",
       "    }\n",
       "\n",
       "    .dataframe thead th {\n",
       "        text-align: right;\n",
       "    }\n",
       "</style>\n",
       "<table border=\"1\" class=\"dataframe\">\n",
       "  <thead>\n",
       "    <tr style=\"text-align: right;\">\n",
       "      <th></th>\n",
       "      <th>Open</th>\n",
       "      <th>High</th>\n",
       "      <th>Low</th>\n",
       "    </tr>\n",
       "  </thead>\n",
       "  <tbody>\n",
       "    <tr>\n",
       "      <th>count</th>\n",
       "      <td>1258.000000</td>\n",
       "      <td>1258.000000</td>\n",
       "      <td>1258.000000</td>\n",
       "    </tr>\n",
       "    <tr>\n",
       "      <th>mean</th>\n",
       "      <td>533.709833</td>\n",
       "      <td>537.880223</td>\n",
       "      <td>529.007409</td>\n",
       "    </tr>\n",
       "    <tr>\n",
       "      <th>std</th>\n",
       "      <td>151.904442</td>\n",
       "      <td>153.008811</td>\n",
       "      <td>150.552807</td>\n",
       "    </tr>\n",
       "    <tr>\n",
       "      <th>min</th>\n",
       "      <td>279.120000</td>\n",
       "      <td>281.210000</td>\n",
       "      <td>277.220000</td>\n",
       "    </tr>\n",
       "    <tr>\n",
       "      <th>25%</th>\n",
       "      <td>404.115000</td>\n",
       "      <td>406.765000</td>\n",
       "      <td>401.765000</td>\n",
       "    </tr>\n",
       "    <tr>\n",
       "      <th>50%</th>\n",
       "      <td>537.470000</td>\n",
       "      <td>540.750000</td>\n",
       "      <td>532.990000</td>\n",
       "    </tr>\n",
       "    <tr>\n",
       "      <th>75%</th>\n",
       "      <td>654.922500</td>\n",
       "      <td>662.587500</td>\n",
       "      <td>644.800000</td>\n",
       "    </tr>\n",
       "    <tr>\n",
       "      <th>max</th>\n",
       "      <td>816.680000</td>\n",
       "      <td>816.680000</td>\n",
       "      <td>805.140000</td>\n",
       "    </tr>\n",
       "  </tbody>\n",
       "</table>\n",
       "</div>"
      ],
      "text/plain": [
       "              Open         High          Low\n",
       "count  1258.000000  1258.000000  1258.000000\n",
       "mean    533.709833   537.880223   529.007409\n",
       "std     151.904442   153.008811   150.552807\n",
       "min     279.120000   281.210000   277.220000\n",
       "25%     404.115000   406.765000   401.765000\n",
       "50%     537.470000   540.750000   532.990000\n",
       "75%     654.922500   662.587500   644.800000\n",
       "max     816.680000   816.680000   805.140000"
      ]
     },
     "execution_count": 6,
     "metadata": {},
     "output_type": "execute_result"
    }
   ],
   "source": [
    "# Dataset Values(Max, min, std..)\n",
    "data.describe()"
   ]
  },
  {
   "cell_type": "code",
   "execution_count": 7,
   "id": "6f4ddba2",
   "metadata": {
    "papermill": {
     "duration": 0.021692,
     "end_time": "2022-09-08T14:47:56.833349",
     "exception": false,
     "start_time": "2022-09-08T14:47:56.811657",
     "status": "completed"
    },
    "tags": []
   },
   "outputs": [
    {
     "name": "stderr",
     "output_type": "stream",
     "text": [
      "C:\\Users\\naine\\AppData\\Local\\Temp\\ipykernel_17344\\3592020041.py:2: FutureWarning: The default value of numeric_only in DataFrame.corr is deprecated. In a future version, it will default to False. Select only valid columns or specify the value of numeric_only to silence this warning.\n",
      "  data.corr()\n"
     ]
    },
    {
     "data": {
      "text/html": [
       "<div>\n",
       "<style scoped>\n",
       "    .dataframe tbody tr th:only-of-type {\n",
       "        vertical-align: middle;\n",
       "    }\n",
       "\n",
       "    .dataframe tbody tr th {\n",
       "        vertical-align: top;\n",
       "    }\n",
       "\n",
       "    .dataframe thead th {\n",
       "        text-align: right;\n",
       "    }\n",
       "</style>\n",
       "<table border=\"1\" class=\"dataframe\">\n",
       "  <thead>\n",
       "    <tr style=\"text-align: right;\">\n",
       "      <th></th>\n",
       "      <th>Open</th>\n",
       "      <th>High</th>\n",
       "      <th>Low</th>\n",
       "    </tr>\n",
       "  </thead>\n",
       "  <tbody>\n",
       "    <tr>\n",
       "      <th>Open</th>\n",
       "      <td>1.000000</td>\n",
       "      <td>0.999692</td>\n",
       "      <td>0.999498</td>\n",
       "    </tr>\n",
       "    <tr>\n",
       "      <th>High</th>\n",
       "      <td>0.999692</td>\n",
       "      <td>1.000000</td>\n",
       "      <td>0.999480</td>\n",
       "    </tr>\n",
       "    <tr>\n",
       "      <th>Low</th>\n",
       "      <td>0.999498</td>\n",
       "      <td>0.999480</td>\n",
       "      <td>1.000000</td>\n",
       "    </tr>\n",
       "  </tbody>\n",
       "</table>\n",
       "</div>"
      ],
      "text/plain": [
       "          Open      High       Low\n",
       "Open  1.000000  0.999692  0.999498\n",
       "High  0.999692  1.000000  0.999480\n",
       "Low   0.999498  0.999480  1.000000"
      ]
     },
     "execution_count": 7,
     "metadata": {},
     "output_type": "execute_result"
    }
   ],
   "source": [
    "# Data Correlation: Relationship between columns\n",
    "data.corr()"
   ]
  },
  {
   "cell_type": "code",
   "execution_count": 8,
   "id": "2f2f0add",
   "metadata": {
    "papermill": {
     "duration": 0.22447,
     "end_time": "2022-09-08T14:47:57.066184",
     "exception": false,
     "start_time": "2022-09-08T14:47:56.841714",
     "status": "completed"
    },
    "tags": []
   },
   "outputs": [
    {
     "name": "stderr",
     "output_type": "stream",
     "text": [
      "C:\\Users\\naine\\AppData\\Local\\Temp\\ipykernel_17344\\1238401946.py:3: FutureWarning: The default value of numeric_only in DataFrame.corr is deprecated. In a future version, it will default to False. Select only valid columns or specify the value of numeric_only to silence this warning.\n",
      "  sns.heatmap(data.corr(), annot = True, linewidths=0.5, linecolor = \"black\", fmt = \".4f\", ax = ax)\n"
     ]
    },
    {
     "data": {
      "image/png": "[encoded data removed]",
      "text/plain": [
       "<Figure size 500x500 with 2 Axes>"
      ]
     },
     "metadata": {},
     "output_type": "display_data"
    }
   ],
   "source": [
    "# Visualization of correlation result with seaborn library heatmap.\n",
    "f, ax = plt.subplots(figsize = (5,5))\n",
    "sns.heatmap(data.corr(), annot = True, linewidths=0.5, linecolor = \"black\", fmt = \".4f\", ax = ax)\n",
    "plt.show()"
   ]
  },
  {
   "cell_type": "markdown",
   "id": "f66eda39",
   "metadata": {
    "papermill": {
     "duration": 0.009696,
     "end_time": "2022-09-08T14:47:57.087017",
     "exception": false,
     "start_time": "2022-09-08T14:47:57.077321",
     "status": "completed"
    },
    "tags": []
   },
   "source": [
    "In the above section, look at the relationship between columns of type float64."
   ]
  },
  {
   "cell_type": "code",
   "execution_count": 9,
   "id": "7fb4861b",
   "metadata": {
    "papermill": {
     "duration": 0.01872,
     "end_time": "2022-09-08T14:47:57.114236",
     "exception": false,
     "start_time": "2022-09-08T14:47:57.095516",
     "status": "completed"
    },
    "tags": []
   },
   "outputs": [
    {
     "data": {
      "text/plain": [
       "Index(['Date', 'Open', 'High', 'Low', 'Close', 'Volume'], dtype='object')"
      ]
     },
     "execution_count": 9,
     "metadata": {},
     "output_type": "execute_result"
    }
   ],
   "source": [
    "# Dataset columns names\n",
    "data.columns"
   ]
  },
  {
   "cell_type": "markdown",
   "id": "a9d27482",
   "metadata": {
    "papermill": {
     "duration": 0.008387,
     "end_time": "2022-09-08T14:47:57.131570",
     "exception": false,
     "start_time": "2022-09-08T14:47:57.123183",
     "status": "completed"
    },
    "tags": []
   },
   "source": [
    "# Data Preparation"
   ]
  },
  {
   "cell_type": "markdown",
   "id": "849b44cf",
   "metadata": {
    "papermill": {
     "duration": 0.008769,
     "end_time": "2022-09-08T14:47:57.149150",
     "exception": false,
     "start_time": "2022-09-08T14:47:57.140381",
     "status": "completed"
    },
    "tags": []
   },
   "source": [
    "## Select the Columns on which we will apply the RNN"
   ]
  },
  {
   "cell_type": "code",
   "execution_count": 10,
   "id": "293cfeb5-d09b-415b-84d6-33a83eee7cbf",
   "metadata": {
    "papermill": {
     "duration": 0.02069,
     "end_time": "2022-09-08T14:47:57.178562",
     "exception": false,
     "start_time": "2022-09-08T14:47:57.157872",
     "status": "completed"
    },
    "tags": []
   },
   "outputs": [],
   "source": [
    "data_set = data.loc[:, [\"Open\"]].values"
   ]
  },
  {
   "cell_type": "code",
   "execution_count": 11,
   "id": "311dfb04-9fb2-47ef-a962-278931ccf506",
   "metadata": {
    "papermill": {
     "duration": 0.02069,
     "end_time": "2022-09-08T14:47:57.178562",
     "exception": false,
     "start_time": "2022-09-08T14:47:57.157872",
     "status": "completed"
    },
    "tags": []
   },
   "outputs": [
    {
     "data": {
      "text/plain": [
       "array([[325.25],\n",
       "       [331.27],\n",
       "       [329.83],\n",
       "       ...,\n",
       "       [793.7 ],\n",
       "       [783.33],\n",
       "       [782.75]])"
      ]
     },
     "execution_count": 11,
     "metadata": {},
     "output_type": "execute_result"
    }
   ],
   "source": [
    "data_set"
   ]
  },
  {
   "cell_type": "markdown",
   "id": "33edf818",
   "metadata": {
    "papermill": {
     "duration": 0.01075,
     "end_time": "2022-09-08T14:47:57.199858",
     "exception": false,
     "start_time": "2022-09-08T14:47:57.189108",
     "status": "completed"
    },
    "tags": []
   },
   "source": [
    "## Seperate train and test data"
   ]
  },
  {
   "cell_type": "code",
   "execution_count": 12,
   "id": "0d11b186-bd19-4886-b644-0ef8ca8b8fce",
   "metadata": {},
   "outputs": [
    {
     "data": {
      "text/plain": [
       "(1258, 1)"
      ]
     },
     "execution_count": 12,
     "metadata": {},
     "output_type": "execute_result"
    }
   ],
   "source": [
    "data_set.shape"
   ]
  },
  {
   "cell_type": "code",
   "execution_count": 13,
   "id": "4aee9a24-59d9-415d-b387-88d61dfd2afb",
   "metadata": {
    "papermill": {
     "duration": 0.020146,
     "end_time": "2022-09-08T14:47:57.231914",
     "exception": false,
     "start_time": "2022-09-08T14:47:57.211768",
     "status": "completed"
    },
    "tags": []
   },
   "outputs": [],
   "source": [
    "# take last 50 values for testing\n",
    "train = data_set[:len(data_set) - 50]\n",
    "test = data_set[len(train):]"
   ]
  },
  {
   "cell_type": "code",
   "execution_count": 14,
   "id": "500b5002-8657-408e-a9e2-1e7625fc291a",
   "metadata": {
    "papermill": {
     "duration": 0.020146,
     "end_time": "2022-09-08T14:47:57.231914",
     "exception": false,
     "start_time": "2022-09-08T14:47:57.211768",
     "status": "completed"
    },
    "tags": []
   },
   "outputs": [
    {
     "data": {
      "text/plain": [
       "(1208, 1)"
      ]
     },
     "execution_count": 14,
     "metadata": {},
     "output_type": "execute_result"
    }
   ],
   "source": [
    "train.reshape(train.shape[0],1)\n",
    "train.shape"
   ]
  },
  {
   "cell_type": "markdown",
   "id": "b86a9cea",
   "metadata": {
    "papermill": {
     "duration": 0.008906,
     "end_time": "2022-09-08T14:47:57.252020",
     "exception": false,
     "start_time": "2022-09-08T14:47:57.243114",
     "status": "completed"
    },
    "tags": []
   },
   "source": [
    "## Normalize the train dataset (between zero to one)\n",
    "- Using the MinMaxScaler function from sklearn."
   ]
  },
  {
   "cell_type": "code",
   "execution_count": 15,
   "id": "e839460c-fb97-4e4c-b40e-17ce70f21f2f",
   "metadata": {
    "papermill": {
     "duration": 0.169658,
     "end_time": "2022-09-08T14:47:57.430793",
     "exception": false,
     "start_time": "2022-09-08T14:47:57.261135",
     "status": "completed"
    },
    "tags": []
   },
   "outputs": [],
   "source": [
    "scaler = MinMaxScaler(feature_range = (0,1))"
   ]
  },
  {
   "cell_type": "code",
   "execution_count": 16,
   "id": "8d61e3ea-ba80-4ee9-9014-6886b672221e",
   "metadata": {
    "papermill": {
     "duration": 0.169658,
     "end_time": "2022-09-08T14:47:57.430793",
     "exception": false,
     "start_time": "2022-09-08T14:47:57.261135",
     "status": "completed"
    },
    "tags": []
   },
   "outputs": [],
   "source": [
    "train_scaler = scaler.fit_transform(train)"
   ]
  },
  {
   "cell_type": "code",
   "execution_count": 17,
   "id": "a8d27a10-b9de-454e-b27f-988b619881af",
   "metadata": {
    "papermill": {
     "duration": 0.169658,
     "end_time": "2022-09-08T14:47:57.430793",
     "exception": false,
     "start_time": "2022-09-08T14:47:57.261135",
     "status": "completed"
    },
    "tags": []
   },
   "outputs": [
    {
     "data": {
      "text/plain": [
       "array([[0.08886192],\n",
       "       [0.10045847],\n",
       "       [0.09768454],\n",
       "       ...,\n",
       "       [0.96447835],\n",
       "       [0.97998536],\n",
       "       [1.        ]])"
      ]
     },
     "execution_count": 17,
     "metadata": {},
     "output_type": "execute_result"
    }
   ],
   "source": [
    "train_scaler"
   ]
  },
  {
   "cell_type": "markdown",
   "id": "6f6e1541",
   "metadata": {
    "papermill": {
     "duration": 0.008782,
     "end_time": "2022-09-08T14:47:57.449350",
     "exception": false,
     "start_time": "2022-09-08T14:47:57.440568",
     "status": "completed"
    },
    "tags": []
   },
   "source": [
    "- Visualize the scaled data:"
   ]
  },
  {
   "cell_type": "code",
   "execution_count": 18,
   "id": "cadc8e8c",
   "metadata": {
    "papermill": {
     "duration": 0.131279,
     "end_time": "2022-09-08T14:47:57.589528",
     "exception": false,
     "start_time": "2022-09-08T14:47:57.458249",
     "status": "completed"
    },
    "tags": []
   },
   "outputs": [
    {
     "data": {
      "image/png": "[encoded data removed]",
      "text/plain": [
       "<Figure size 640x480 with 1 Axes>"
      ]
     },
     "metadata": {},
     "output_type": "display_data"
    }
   ],
   "source": [
    "plt.plot(train_scaler)\n",
    "plt.show()"
   ]
  },
  {
   "cell_type": "markdown",
   "id": "f4740c9d",
   "metadata": {
    "papermill": {
     "duration": 0.009134,
     "end_time": "2022-09-08T14:47:57.608100",
     "exception": false,
     "start_time": "2022-09-08T14:47:57.598966",
     "status": "completed"
    },
    "tags": []
   },
   "source": [
    "## Create a data structure with 50 timesteps and 1 output"
   ]
  },
  {
   "cell_type": "code",
   "execution_count": 19,
   "id": "c51a3a57-9598-47f2-a500-b55fe7cf74ab",
   "metadata": {
    "papermill": {
     "duration": 0.020581,
     "end_time": "2022-09-08T14:47:57.638056",
     "exception": false,
     "start_time": "2022-09-08T14:47:57.617475",
     "status": "completed"
    },
    "tags": []
   },
   "outputs": [],
   "source": [
    "X_train = []\n",
    "Y_train = []\n",
    "timesteps = 50"
   ]
  },
  {
   "cell_type": "code",
   "execution_count": 20,
   "id": "f86ca39a-36f7-44fa-9a00-cb03450cf5d3",
   "metadata": {
    "papermill": {
     "duration": 0.020581,
     "end_time": "2022-09-08T14:47:57.638056",
     "exception": false,
     "start_time": "2022-09-08T14:47:57.617475",
     "status": "completed"
    },
    "tags": []
   },
   "outputs": [],
   "source": [
    "for i in range(timesteps, len(train_scaler)):\n",
    "    X_train.append(train_scaler[i - timesteps:i, 0]) # slicing on train_scaler array\n",
    "    Y_train.append(train_scaler[i,0]) # taking next value from train_scaler as label"
   ]
  },
  {
   "cell_type": "code",
   "execution_count": 21,
   "id": "8569aeac-9458-48a7-882b-367f3c6b57d9",
   "metadata": {
    "papermill": {
     "duration": 0.020581,
     "end_time": "2022-09-08T14:47:57.638056",
     "exception": false,
     "start_time": "2022-09-08T14:47:57.617475",
     "status": "completed"
    },
    "tags": []
   },
   "outputs": [],
   "source": [
    "X_train, Y_train = np.array(X_train), np.array(Y_train)"
   ]
  },
  {
   "cell_type": "code",
   "execution_count": 22,
   "id": "04950614-9274-4e1e-ac99-bbb6a6e466bb",
   "metadata": {
    "papermill": {
     "duration": 0.020581,
     "end_time": "2022-09-08T14:47:57.638056",
     "exception": false,
     "start_time": "2022-09-08T14:47:57.617475",
     "status": "completed"
    },
    "tags": []
   },
   "outputs": [],
   "source": [
    "# reshape\n",
    "X_train = np.reshape(X_train, (X_train.shape[0], X_train.shape[1], 1))"
   ]
  },
  {
   "cell_type": "code",
   "execution_count": 23,
   "id": "81e6f391",
   "metadata": {
    "papermill": {
     "duration": 0.018438,
     "end_time": "2022-09-08T14:47:57.665942",
     "exception": false,
     "start_time": "2022-09-08T14:47:57.647504",
     "status": "completed"
    },
    "tags": []
   },
   "outputs": [
    {
     "data": {
      "text/plain": [
       "(1158, 50, 1)"
      ]
     },
     "execution_count": 23,
     "metadata": {},
     "output_type": "execute_result"
    }
   ],
   "source": [
    "X_train.shape"
   ]
  },
  {
   "cell_type": "code",
   "execution_count": 24,
   "id": "e6e24052",
   "metadata": {
    "papermill": {
     "duration": 0.018925,
     "end_time": "2022-09-08T14:47:57.694393",
     "exception": false,
     "start_time": "2022-09-08T14:47:57.675468",
     "status": "completed"
    },
    "tags": []
   },
   "outputs": [
    {
     "data": {
      "text/plain": [
       "array([[0.08886192],\n",
       "       [0.10045847],\n",
       "       [0.09768454],\n",
       "       [0.0948143 ],\n",
       "       [0.08267838],\n",
       "       [0.06661273],\n",
       "       [0.06062182],\n",
       "       [0.06801896],\n",
       "       [0.0632609 ],\n",
       "       [0.06875096],\n",
       "       [0.06360764],\n",
       "       [0.07740022],\n",
       "       [0.02897211],\n",
       "       [0.02463785],\n",
       "       [0.02494606],\n",
       "       [0.01648944],\n",
       "       [0.01117275],\n",
       "       [0.01001695],\n",
       "       [0.01700955],\n",
       "       [0.02174834],\n",
       "       [0.02361689],\n",
       "       [0.02353984],\n",
       "       [0.02910695],\n",
       "       [0.03326784],\n",
       "       [0.04492218],\n",
       "       [0.04634767],\n",
       "       [0.04960317],\n",
       "       [0.04563492],\n",
       "       [0.04813916],\n",
       "       [0.04914085],\n",
       "       [0.05047003],\n",
       "       [0.04076129],\n",
       "       [0.04284173],\n",
       "       [0.04178225],\n",
       "       [0.04954538],\n",
       "       [0.04478733],\n",
       "       [0.04511481],\n",
       "       [0.0443828 ],\n",
       "       [0.04765757],\n",
       "       [0.0559023 ],\n",
       "       [0.05942749],\n",
       "       [0.05917707],\n",
       "       [0.05767453],\n",
       "       [0.04578903],\n",
       "       [0.0467522 ],\n",
       "       [0.0476961 ],\n",
       "       [0.04569271],\n",
       "       [0.03806442],\n",
       "       [0.04646325],\n",
       "       [0.05245415]])"
      ]
     },
     "execution_count": 24,
     "metadata": {},
     "output_type": "execute_result"
    }
   ],
   "source": [
    "X_train[0]"
   ]
  },
  {
   "cell_type": "code",
   "execution_count": 25,
   "id": "e93a9d6a",
   "metadata": {
    "papermill": {
     "duration": 0.020761,
     "end_time": "2022-09-08T14:47:57.725055",
     "exception": false,
     "start_time": "2022-09-08T14:47:57.704294",
     "status": "completed"
    },
    "tags": []
   },
   "outputs": [
    {
     "data": {
      "text/plain": [
       "0.05399522268454304"
      ]
     },
     "execution_count": 25,
     "metadata": {},
     "output_type": "execute_result"
    }
   ],
   "source": [
    "Y_train[0]"
   ]
  },
  {
   "cell_type": "markdown",
   "id": "5eb552c0",
   "metadata": {
    "papermill": {
     "duration": 0.009425,
     "end_time": "2022-09-08T14:47:57.744365",
     "exception": false,
     "start_time": "2022-09-08T14:47:57.734940",
     "status": "completed"
    },
    "tags": []
   },
   "source": [
    "# Create And Training RNN model"
   ]
  },
  {
   "cell_type": "code",
   "execution_count": 26,
   "id": "4435a877-55d0-4ddc-bba8-5845157bf9c7",
   "metadata": {
    "papermill": {
     "duration": 451.239085,
     "end_time": "2022-09-08T14:55:28.993181",
     "exception": false,
     "start_time": "2022-09-08T14:47:57.754096",
     "status": "completed"
    },
    "tags": []
   },
   "outputs": [],
   "source": [
    "# Import Keras model and RNN Layers\n",
    "from tensorflow.keras.models import Sequential\n",
    "from tensorflow.keras.layers import Dense, SimpleRNN, Dropout"
   ]
  },
  {
   "cell_type": "code",
   "execution_count": 27,
   "id": "66871dd6-860b-42e0-84fa-b27fbe5bd037",
   "metadata": {
    "papermill": {
     "duration": 451.239085,
     "end_time": "2022-09-08T14:55:28.993181",
     "exception": false,
     "start_time": "2022-09-08T14:47:57.754096",
     "status": "completed"
    },
    "tags": []
   },
   "outputs": [],
   "source": [
    "# Initialising the RNN\n",
    "regressor = Sequential()\n",
    "\n",
    "# Add the first RNN layer and Dropout regularisation\n",
    "regressor.add(SimpleRNN(units = 50, activation = \"tanh\", return_sequences = True, input_shape = (X_train.shape[1], 1)))\n",
    "regressor.add(Dropout(0.2))\n",
    "\n",
    "# Second RNN layer and Dropout regularisation\n",
    "regressor.add(SimpleRNN(units = 50, activation = \"tanh\", return_sequences = True))\n",
    "regressor.add(Dropout(0.2))\n",
    "\n",
    "# Third RNN layer and Dropout regularisation\n",
    "regressor.add(SimpleRNN(units = 50, activation = \"tanh\", return_sequences = True))\n",
    "regressor.add(Dropout(0.2))\n",
    "\n",
    "# Fourth RNN layer and Dropout regularisation\n",
    "regressor.add(SimpleRNN(units = 50))\n",
    "regressor.add(Dropout(0.2))\n",
    "\n",
    "# Add the output layer\n",
    "regressor.add(Dense(units = 1))"
   ]
  },
  {
   "cell_type": "code",
   "execution_count": 28,
   "id": "6c370c04-3bdd-4436-8c8e-e185c3ff14d4",
   "metadata": {
    "papermill": {
     "duration": 451.239085,
     "end_time": "2022-09-08T14:55:28.993181",
     "exception": false,
     "start_time": "2022-09-08T14:47:57.754096",
     "status": "completed"
    },
    "tags": []
   },
   "outputs": [],
   "source": [
    "# Compiling the RNN\n",
    "regressor.compile(optimizer = \"adam\", loss = \"mean_squared_error\")"
   ]
  },
  {
   "cell_type": "code",
   "execution_count": 29,
   "id": "be5dd0c7-4e4c-411d-a98c-0883234f4d14",
   "metadata": {
    "papermill": {
     "duration": 451.239085,
     "end_time": "2022-09-08T14:55:28.993181",
     "exception": false,
     "start_time": "2022-09-08T14:47:57.754096",
     "status": "completed"
    },
    "tags": []
   },
   "outputs": [
    {
     "name": "stdout",
     "output_type": "stream",
     "text": [
      "Epoch 1/100\n",
      "37/37 [==============================] - 5s 29ms/step - loss: 0.4082\n",
      "Epoch 2/100\n",
      "37/37 [==============================] - 1s 29ms/step - loss: 0.2697\n",
      "Epoch 3/100\n",
      "37/37 [==============================] - 1s 29ms/step - loss: 0.2062\n",
      "Epoch 4/100\n",
      "37/37 [==============================] - 1s 28ms/step - loss: 0.1543\n",
      "Epoch 5/100\n",
      "37/37 [==============================] - 1s 28ms/step - loss: 0.1354\n",
      "Epoch 6/100\n",
      "37/37 [==============================] - 1s 23ms/step - loss: 0.0962\n",
      "Epoch 7/100\n",
      "37/37 [==============================] - 1s 21ms/step - loss: 0.0877\n",
      "Epoch 8/100\n",
      "37/37 [==============================] - 1s 21ms/step - loss: 0.0653\n",
      "Epoch 9/100\n",
      "37/37 [==============================] - 1s 21ms/step - loss: 0.0663\n",
      "Epoch 10/100\n",
      "37/37 [==============================] - 1s 21ms/step - loss: 0.0529\n",
      "Epoch 11/100\n",
      "37/37 [==============================] - 1s 22ms/step - loss: 0.0505\n",
      "Epoch 12/100\n",
      "37/37 [==============================] - 1s 22ms/step - loss: 0.0404\n",
      "Epoch 13/100\n",
      "37/37 [==============================] - 1s 22ms/step - loss: 0.0379\n",
      "Epoch 14/100\n",
      "37/37 [==============================] - 1s 22ms/step - loss: 0.0333\n",
      "Epoch 15/100\n",
      "37/37 [==============================] - 1s 22ms/step - loss: 0.0308\n",
      "Epoch 16/100\n",
      "37/37 [==============================] - 1s 22ms/step - loss: 0.0282\n",
      "Epoch 17/100\n",
      "37/37 [==============================] - 1s 22ms/step - loss: 0.0279\n",
      "Epoch 18/100\n",
      "37/37 [==============================] - 1s 21ms/step - loss: 0.0223\n",
      "Epoch 19/100\n",
      "37/37 [==============================] - 1s 21ms/step - loss: 0.0210\n",
      "Epoch 20/100\n",
      "37/37 [==============================] - 1s 21ms/step - loss: 0.0194\n",
      "Epoch 21/100\n",
      "37/37 [==============================] - 1s 21ms/step - loss: 0.0186\n",
      "Epoch 22/100\n",
      "37/37 [==============================] - 1s 21ms/step - loss: 0.0158\n",
      "Epoch 23/100\n",
      "37/37 [==============================] - 1s 21ms/step - loss: 0.0140\n",
      "Epoch 24/100\n",
      "37/37 [==============================] - 1s 21ms/step - loss: 0.0135\n",
      "Epoch 25/100\n",
      "37/37 [==============================] - 1s 21ms/step - loss: 0.0127\n",
      "Epoch 26/100\n",
      "37/37 [==============================] - 1s 21ms/step - loss: 0.0134\n",
      "Epoch 27/100\n",
      "37/37 [==============================] - 1s 21ms/step - loss: 0.0122\n",
      "Epoch 28/100\n",
      "37/37 [==============================] - 1s 21ms/step - loss: 0.0122\n",
      "Epoch 29/100\n",
      "37/37 [==============================] - 1s 21ms/step - loss: 0.0101\n",
      "Epoch 30/100\n",
      "37/37 [==============================] - 1s 22ms/step - loss: 0.0103\n",
      "Epoch 31/100\n",
      "37/37 [==============================] - 1s 22ms/step - loss: 0.0086\n",
      "Epoch 32/100\n",
      "37/37 [==============================] - 1s 21ms/step - loss: 0.0089\n",
      "Epoch 33/100\n",
      "37/37 [==============================] - 1s 22ms/step - loss: 0.0082\n",
      "Epoch 34/100\n",
      "37/37 [==============================] - 1s 21ms/step - loss: 0.0080\n",
      "Epoch 35/100\n",
      "37/37 [==============================] - 1s 22ms/step - loss: 0.0074\n",
      "Epoch 36/100\n",
      "37/37 [==============================] - 1s 21ms/step - loss: 0.0073\n",
      "Epoch 37/100\n",
      "37/37 [==============================] - 1s 21ms/step - loss: 0.0079\n",
      "Epoch 38/100\n",
      "37/37 [==============================] - 1s 21ms/step - loss: 0.0067\n",
      "Epoch 39/100\n",
      "37/37 [==============================] - 1s 21ms/step - loss: 0.0063\n",
      "Epoch 40/100\n",
      "37/37 [==============================] - 1s 21ms/step - loss: 0.0054\n",
      "Epoch 41/100\n",
      "37/37 [==============================] - 1s 21ms/step - loss: 0.0051\n",
      "Epoch 42/100\n",
      "37/37 [==============================] - 1s 21ms/step - loss: 0.0056\n",
      "Epoch 43/100\n",
      "37/37 [==============================] - 1s 21ms/step - loss: 0.0055\n",
      "Epoch 44/100\n",
      "37/37 [==============================] - 1s 22ms/step - loss: 0.0053\n",
      "Epoch 45/100\n",
      "37/37 [==============================] - 1s 21ms/step - loss: 0.0054\n",
      "Epoch 46/100\n",
      "37/37 [==============================] - 1s 21ms/step - loss: 0.0051\n",
      "Epoch 47/100\n",
      "37/37 [==============================] - 1s 21ms/step - loss: 0.0050\n",
      "Epoch 48/100\n",
      "37/37 [==============================] - 1s 21ms/step - loss: 0.0045\n",
      "Epoch 49/100\n",
      "37/37 [==============================] - 1s 22ms/step - loss: 0.0050\n",
      "Epoch 50/100\n",
      "37/37 [==============================] - 1s 21ms/step - loss: 0.0044\n",
      "Epoch 51/100\n",
      "37/37 [==============================] - 1s 21ms/step - loss: 0.0046\n",
      "Epoch 52/100\n",
      "37/37 [==============================] - 1s 21ms/step - loss: 0.0045\n",
      "Epoch 53/100\n",
      "37/37 [==============================] - 1s 21ms/step - loss: 0.0045\n",
      "Epoch 54/100\n",
      "37/37 [==============================] - 1s 21ms/step - loss: 0.0044\n",
      "Epoch 55/100\n",
      "37/37 [==============================] - 1s 21ms/step - loss: 0.0035\n",
      "Epoch 56/100\n",
      "37/37 [==============================] - 1s 21ms/step - loss: 0.0039\n",
      "Epoch 57/100\n",
      "37/37 [==============================] - 1s 21ms/step - loss: 0.0035\n",
      "Epoch 58/100\n",
      "37/37 [==============================] - 1s 21ms/step - loss: 0.0032\n",
      "Epoch 59/100\n",
      "37/37 [==============================] - 1s 21ms/step - loss: 0.0035\n",
      "Epoch 60/100\n",
      "37/37 [==============================] - 1s 22ms/step - loss: 0.0034\n",
      "Epoch 61/100\n",
      "37/37 [==============================] - 1s 23ms/step - loss: 0.0031\n",
      "Epoch 62/100\n",
      "37/37 [==============================] - 1s 22ms/step - loss: 0.0037\n",
      "Epoch 63/100\n",
      "37/37 [==============================] - 1s 21ms/step - loss: 0.0030\n",
      "Epoch 64/100\n",
      "37/37 [==============================] - 1s 21ms/step - loss: 0.0032\n",
      "Epoch 65/100\n",
      "37/37 [==============================] - 1s 21ms/step - loss: 0.0033\n",
      "Epoch 66/100\n",
      "37/37 [==============================] - 1s 21ms/step - loss: 0.0032\n",
      "Epoch 67/100\n",
      "37/37 [==============================] - 1s 21ms/step - loss: 0.0033\n",
      "Epoch 68/100\n",
      "37/37 [==============================] - 1s 21ms/step - loss: 0.0031\n",
      "Epoch 69/100\n",
      "37/37 [==============================] - 1s 21ms/step - loss: 0.0031\n",
      "Epoch 70/100\n",
      "37/37 [==============================] - 1s 22ms/step - loss: 0.0029\n",
      "Epoch 71/100\n",
      "37/37 [==============================] - 1s 22ms/step - loss: 0.0031\n",
      "Epoch 72/100\n",
      "37/37 [==============================] - 1s 22ms/step - loss: 0.0029\n",
      "Epoch 73/100\n",
      "37/37 [==============================] - 1s 22ms/step - loss: 0.0031\n",
      "Epoch 74/100\n",
      "37/37 [==============================] - 1s 21ms/step - loss: 0.0025\n",
      "Epoch 75/100\n",
      "37/37 [==============================] - 1s 21ms/step - loss: 0.0028\n",
      "Epoch 76/100\n",
      "37/37 [==============================] - 1s 21ms/step - loss: 0.0023\n",
      "Epoch 77/100\n",
      "37/37 [==============================] - 1s 22ms/step - loss: 0.0028\n",
      "Epoch 78/100\n",
      "37/37 [==============================] - 1s 21ms/step - loss: 0.0028\n",
      "Epoch 79/100\n",
      "37/37 [==============================] - 1s 21ms/step - loss: 0.0026\n",
      "Epoch 80/100\n",
      "37/37 [==============================] - 1s 21ms/step - loss: 0.0025\n",
      "Epoch 81/100\n",
      "37/37 [==============================] - 1s 21ms/step - loss: 0.0024\n",
      "Epoch 82/100\n",
      "37/37 [==============================] - 1s 22ms/step - loss: 0.0023\n",
      "Epoch 83/100\n",
      "37/37 [==============================] - 1s 22ms/step - loss: 0.0024\n",
      "Epoch 84/100\n",
      "37/37 [==============================] - 1s 22ms/step - loss: 0.0024\n",
      "Epoch 85/100\n",
      "37/37 [==============================] - 1s 23ms/step - loss: 0.0024\n",
      "Epoch 86/100\n",
      "37/37 [==============================] - 1s 22ms/step - loss: 0.0024\n",
      "Epoch 87/100\n",
      "37/37 [==============================] - 1s 22ms/step - loss: 0.0022\n",
      "Epoch 88/100\n",
      "37/37 [==============================] - 1s 22ms/step - loss: 0.0022\n",
      "Epoch 89/100\n",
      "37/37 [==============================] - 1s 22ms/step - loss: 0.0021\n",
      "Epoch 90/100\n",
      "37/37 [==============================] - 1s 22ms/step - loss: 0.0025\n",
      "Epoch 91/100\n",
      "37/37 [==============================] - 1s 22ms/step - loss: 0.0023\n",
      "Epoch 92/100\n",
      "37/37 [==============================] - 1s 21ms/step - loss: 0.0025\n",
      "Epoch 93/100\n",
      "37/37 [==============================] - 1s 21ms/step - loss: 0.0021\n",
      "Epoch 94/100\n",
      "37/37 [==============================] - 1s 21ms/step - loss: 0.0024\n",
      "Epoch 95/100\n",
      "37/37 [==============================] - 1s 21ms/step - loss: 0.0022\n",
      "Epoch 96/100\n",
      "37/37 [==============================] - 1s 21ms/step - loss: 0.0022\n",
      "Epoch 97/100\n",
      "37/37 [==============================] - 1s 21ms/step - loss: 0.0023\n",
      "Epoch 98/100\n",
      "37/37 [==============================] - 1s 21ms/step - loss: 0.0021\n",
      "Epoch 99/100\n",
      "37/37 [==============================] - 1s 22ms/step - loss: 0.0022\n",
      "Epoch 100/100\n",
      "37/37 [==============================] - 1s 22ms/step - loss: 0.0023\n"
     ]
    },
    {
     "data": {
      "text/plain": [
       "<keras.callbacks.History at 0x27eb9687700>"
      ]
     },
     "execution_count": 29,
     "metadata": {},
     "output_type": "execute_result"
    }
   ],
   "source": [
    "# Fitting the RNN to the training set\n",
    "regressor.fit(X_train, Y_train, epochs = 100, batch_size = 32)"
   ]
  },
  {
   "cell_type": "markdown",
   "id": "182b899e",
   "metadata": {
    "papermill": {
     "duration": 0.202051,
     "end_time": "2022-09-08T14:55:29.397438",
     "exception": false,
     "start_time": "2022-09-08T14:55:29.195387",
     "status": "completed"
    },
    "tags": []
   },
   "source": [
    "## Predictions And Visualising RNN Model"
   ]
  },
  {
   "cell_type": "markdown",
   "id": "a3ee3bdc",
   "metadata": {
    "papermill": {
     "duration": 0.203275,
     "end_time": "2022-09-08T14:55:29.801603",
     "exception": false,
     "start_time": "2022-09-08T14:55:29.598328",
     "status": "completed"
    },
    "tags": []
   },
   "source": [
    "Prepare the test dataset:"
   ]
  },
  {
   "cell_type": "code",
   "execution_count": 30,
   "id": "05cb8ab5",
   "metadata": {
    "papermill": {
     "duration": 0.283901,
     "end_time": "2022-09-08T14:55:30.290538",
     "exception": false,
     "start_time": "2022-09-08T14:55:30.006637",
     "status": "completed"
    },
    "tags": []
   },
   "outputs": [],
   "source": [
    "inputs = data_set[len(data_set) - len(test) - timesteps:]\n",
    "inputs = scaler.transform(inputs)"
   ]
  },
  {
   "cell_type": "code",
   "execution_count": 31,
   "id": "856e4a33-1c1d-406a-9169-42efe4898e41",
   "metadata": {
    "papermill": {
     "duration": 0.748737,
     "end_time": "2022-09-08T14:55:31.236668",
     "exception": false,
     "start_time": "2022-09-08T14:55:30.487931",
     "status": "completed"
    },
    "tags": []
   },
   "outputs": [],
   "source": [
    "X_test = []\n",
    "for i in range(timesteps, inputs.shape[0]):\n",
    "    X_test.append(inputs[i - timesteps:i, 0])"
   ]
  },
  {
   "cell_type": "code",
   "execution_count": 32,
   "id": "aeee10f9-e707-442d-bb04-1b03b7ca6334",
   "metadata": {
    "papermill": {
     "duration": 0.748737,
     "end_time": "2022-09-08T14:55:31.236668",
     "exception": false,
     "start_time": "2022-09-08T14:55:30.487931",
     "status": "completed"
    },
    "tags": []
   },
   "outputs": [],
   "source": [
    "X_test_rnn = np.array(X_test)\n",
    "X_test_rnn = np.reshape(X_test_rnn, (X_test_rnn.shape[0], X_test_rnn.shape[1], 1))"
   ]
  },
  {
   "cell_type": "code",
   "execution_count": 33,
   "id": "db60e740-227b-4b8e-a9a7-499a4b784acc",
   "metadata": {
    "papermill": {
     "duration": 0.748737,
     "end_time": "2022-09-08T14:55:31.236668",
     "exception": false,
     "start_time": "2022-09-08T14:55:30.487931",
     "status": "completed"
    },
    "tags": []
   },
   "outputs": [
    {
     "name": "stdout",
     "output_type": "stream",
     "text": [
      "2/2 [==============================] - 0s 7ms/step\n"
     ]
    }
   ],
   "source": [
    "predicted_stock_price = regressor.predict(X_test_rnn)\n",
    "predicted_stock_price = scaler.inverse_transform(predicted_stock_price)"
   ]
  },
  {
   "cell_type": "markdown",
   "id": "57b66ae8",
   "metadata": {
    "papermill": {
     "duration": 0.201011,
     "end_time": "2022-09-08T14:55:31.639534",
     "exception": false,
     "start_time": "2022-09-08T14:55:31.438523",
     "status": "completed"
    },
    "tags": []
   },
   "source": [
    "Visualize the result of the test dataset:"
   ]
  },
  {
   "cell_type": "code",
   "execution_count": 34,
   "id": "4e4ac081",
   "metadata": {
    "papermill": {
     "duration": 0.36938,
     "end_time": "2022-09-08T14:55:32.212064",
     "exception": false,
     "start_time": "2022-09-08T14:55:31.842684",
     "status": "completed"
    },
    "tags": []
   },
   "outputs": [
    {
     "data": {
      "image/png": "[encoded data removed]",
      "text/plain": [
       "<Figure size 1200x450 with 1 Axes>"
      ]
     },
     "metadata": {},
     "output_type": "display_data"
    }
   ],
   "source": [
    "# visualising the results\n",
    "plt.figure(figsize=(8,3), dpi=150)\n",
    "plt.plot(test, color = \"#FFB533\", label = \"Real Google Stock Price\")\n",
    "plt.plot(predicted_stock_price, color = \"#33C4FF\", label = \"Predicted Google Stock Price\")\n",
    "plt.title(\"Google Stock Price Prediction\")\n",
    "plt.xlabel(\"Time\")\n",
    "plt.ylabel(\"Stock Price\")\n",
    "plt.grid(color='#ECECEC')\n",
    "plt.legend(loc='upper right')\n",
    "plt.show()"
   ]
  },
  {
   "cell_type": "markdown",
   "id": "ab55a8e9",
   "metadata": {
    "papermill": {
     "duration": 0.248151,
     "end_time": "2022-09-08T14:55:32.663711",
     "exception": false,
     "start_time": "2022-09-08T14:55:32.415560",
     "status": "completed"
    },
    "tags": []
   },
   "source": [
    "# Long Short Term Memory(LSTM)"
   ]
  },
  {
   "cell_type": "markdown",
   "id": "44444c92",
   "metadata": {
    "papermill": {
     "duration": 0.193197,
     "end_time": "2022-09-08T14:55:33.058660",
     "exception": false,
     "start_time": "2022-09-08T14:55:32.865463",
     "status": "completed"
    },
    "tags": []
   },
   "source": [
    "## Prepare Data"
   ]
  },
  {
   "cell_type": "markdown",
   "id": "cc3e744f",
   "metadata": {
    "papermill": {
     "duration": 0.206283,
     "end_time": "2022-09-08T14:55:33.469445",
     "exception": false,
     "start_time": "2022-09-08T14:55:33.263162",
     "status": "completed"
    },
    "tags": []
   },
   "source": [
    "Prepare trainX dataset for LSTM model. I just change its shape of X_train"
   ]
  },
  {
   "cell_type": "code",
   "execution_count": 35,
   "id": "95c40635",
   "metadata": {
    "papermill": {
     "duration": 0.212925,
     "end_time": "2022-09-08T14:55:33.885731",
     "exception": false,
     "start_time": "2022-09-08T14:55:33.672806",
     "status": "completed"
    },
    "tags": []
   },
   "outputs": [],
   "source": [
    "trainX = np.reshape(X_train, (X_train.shape[0], 1, X_train.shape[1]))"
   ]
  },
  {
   "cell_type": "code",
   "execution_count": 36,
   "id": "4040b3b8",
   "metadata": {
    "papermill": {
     "duration": 0.26043,
     "end_time": "2022-09-08T14:55:34.398006",
     "exception": false,
     "start_time": "2022-09-08T14:55:34.137576",
     "status": "completed"
    },
    "tags": []
   },
   "outputs": [],
   "source": [
    "# Import Library For LSTM Model\n",
    "from tensorflow.keras.models import Sequential\n",
    "from tensorflow.keras.layers import Dense, LSTM"
   ]
  },
  {
   "cell_type": "markdown",
   "id": "26d5348e",
   "metadata": {
    "papermill": {
     "duration": 0.201559,
     "end_time": "2022-09-08T14:55:34.803440",
     "exception": false,
     "start_time": "2022-09-08T14:55:34.601881",
     "status": "completed"
    },
    "tags": []
   },
   "source": [
    "## Create the LSTM model"
   ]
  },
  {
   "cell_type": "code",
   "execution_count": 37,
   "id": "cd2d79bc-590a-492c-86e3-f9ef9bf1dcbf",
   "metadata": {
    "papermill": {
     "duration": 97.61859,
     "end_time": "2022-09-08T14:57:12.621971",
     "exception": false,
     "start_time": "2022-09-08T14:55:35.003381",
     "status": "completed"
    },
    "tags": []
   },
   "outputs": [],
   "source": [
    "model = Sequential()\n",
    "model.add(LSTM(10, input_shape = (1, timesteps)))\n",
    "model.add(Dense(1))"
   ]
  },
  {
   "cell_type": "code",
   "execution_count": 38,
   "id": "d71fbe24-9e3b-4dea-b2fa-d5563851b5ed",
   "metadata": {
    "papermill": {
     "duration": 97.61859,
     "end_time": "2022-09-08T14:57:12.621971",
     "exception": false,
     "start_time": "2022-09-08T14:55:35.003381",
     "status": "completed"
    },
    "tags": []
   },
   "outputs": [],
   "source": [
    "model.compile(loss = \"mean_squared_error\", optimizer = \"adam\")"
   ]
  },
  {
   "cell_type": "code",
   "execution_count": 39,
   "id": "bb18bf30-e3e9-4ab9-9320-cfbdbb910b59",
   "metadata": {
    "papermill": {
     "duration": 97.61859,
     "end_time": "2022-09-08T14:57:12.621971",
     "exception": false,
     "start_time": "2022-09-08T14:55:35.003381",
     "status": "completed"
    },
    "tags": []
   },
   "outputs": [
    {
     "name": "stdout",
     "output_type": "stream",
     "text": [
      "Epoch 1/100\n",
      "1158/1158 [==============================] - 3s 1ms/step - loss: 0.0082\n",
      "Epoch 2/100\n",
      "1158/1158 [==============================] - 2s 1ms/step - loss: 0.0018\n",
      "Epoch 3/100\n",
      "1158/1158 [==============================] - 2s 2ms/step - loss: 0.0014\n",
      "Epoch 4/100\n",
      "1158/1158 [==============================] - 2s 2ms/step - loss: 0.0013\n",
      "Epoch 5/100\n",
      "1158/1158 [==============================] - 2s 2ms/step - loss: 0.0011\n",
      "Epoch 6/100\n",
      "1158/1158 [==============================] - 2s 2ms/step - loss: 0.0010\n",
      "Epoch 7/100\n",
      "1158/1158 [==============================] - 2s 2ms/step - loss: 0.0010\n",
      "Epoch 8/100\n",
      "1158/1158 [==============================] - 2s 2ms/step - loss: 9.2079e-04\n",
      "Epoch 9/100\n",
      "1158/1158 [==============================] - 2s 2ms/step - loss: 8.3260e-04\n",
      "Epoch 10/100\n",
      "1158/1158 [==============================] - 2s 2ms/step - loss: 8.6393e-04\n",
      "Epoch 11/100\n",
      "1158/1158 [==============================] - 2s 2ms/step - loss: 7.8394e-04\n",
      "Epoch 12/100\n",
      "1158/1158 [==============================] - 2s 2ms/step - loss: 8.7972e-04\n",
      "Epoch 13/100\n",
      "1158/1158 [==============================] - 2s 2ms/step - loss: 7.8120e-04\n",
      "Epoch 14/100\n",
      "1158/1158 [==============================] - 2s 2ms/step - loss: 6.6777e-04\n",
      "Epoch 15/100\n",
      "1158/1158 [==============================] - 2s 2ms/step - loss: 7.3637e-04\n",
      "Epoch 16/100\n",
      "1158/1158 [==============================] - 2s 2ms/step - loss: 7.4989e-04\n",
      "Epoch 17/100\n",
      "1158/1158 [==============================] - 2s 2ms/step - loss: 6.7997e-04\n",
      "Epoch 18/100\n",
      "1158/1158 [==============================] - 2s 2ms/step - loss: 7.0935e-04\n",
      "Epoch 19/100\n",
      "1158/1158 [==============================] - 2s 2ms/step - loss: 6.8024e-04\n",
      "Epoch 20/100\n",
      "1158/1158 [==============================] - 2s 2ms/step - loss: 6.2703e-04\n",
      "Epoch 21/100\n",
      "1158/1158 [==============================] - 2s 2ms/step - loss: 7.1303e-04\n",
      "Epoch 22/100\n",
      "1158/1158 [==============================] - 2s 2ms/step - loss: 6.7647e-04\n",
      "Epoch 23/100\n",
      "1158/1158 [==============================] - 2s 2ms/step - loss: 6.3822e-04\n",
      "Epoch 24/100\n",
      "1158/1158 [==============================] - 2s 2ms/step - loss: 6.4092e-04\n",
      "Epoch 25/100\n",
      "1158/1158 [==============================] - 2s 2ms/step - loss: 6.6396e-04\n",
      "Epoch 26/100\n",
      "1158/1158 [==============================] - 2s 2ms/step - loss: 5.6119e-04\n",
      "Epoch 27/100\n",
      "1158/1158 [==============================] - 2s 2ms/step - loss: 5.9085e-04\n",
      "Epoch 28/100\n",
      "1158/1158 [==============================] - 2s 2ms/step - loss: 5.5271e-04\n",
      "Epoch 29/100\n",
      "1158/1158 [==============================] - 2s 2ms/step - loss: 5.7487e-04\n",
      "Epoch 30/100\n",
      "1158/1158 [==============================] - 2s 2ms/step - loss: 6.1250e-04\n",
      "Epoch 31/100\n",
      "  65/1158 [>.............................] - ETA: 1s - loss: 1.6577e-04"
     ]
    },
    {
     "ename": "KeyboardInterrupt",
     "evalue": "",
     "output_type": "error",
     "traceback": [
      "\u001b[1;31m---------------------------------------------------------------------------\u001b[0m",
      "\u001b[1;31mKeyboardInterrupt\u001b[0m                         Traceback (most recent call last)",
      "Cell \u001b[1;32mIn[39], line 1\u001b[0m\n\u001b[1;32m----> 1\u001b[0m \u001b[43mmodel\u001b[49m\u001b[38;5;241;43m.\u001b[39;49m\u001b[43mfit\u001b[49m\u001b[43m(\u001b[49m\u001b[43mtrainX\u001b[49m\u001b[43m,\u001b[49m\u001b[43m \u001b[49m\u001b[43mY_train\u001b[49m\u001b[43m,\u001b[49m\u001b[43m \u001b[49m\u001b[43mepochs\u001b[49m\u001b[43m \u001b[49m\u001b[38;5;241;43m=\u001b[39;49m\u001b[43m \u001b[49m\u001b[38;5;241;43m100\u001b[39;49m\u001b[43m,\u001b[49m\u001b[43m \u001b[49m\u001b[43mbatch_size\u001b[49m\u001b[43m \u001b[49m\u001b[38;5;241;43m=\u001b[39;49m\u001b[43m \u001b[49m\u001b[38;5;241;43m1\u001b[39;49m\u001b[43m)\u001b[49m\n",
      "File \u001b[1;32mD:\\ml2\\ml2\\lib\\site-packages\\keras\\utils\\traceback_utils.py:65\u001b[0m, in \u001b[0;36mfilter_traceback.<locals>.error_handler\u001b[1;34m(*args, **kwargs)\u001b[0m\n\u001b[0;32m     63\u001b[0m filtered_tb \u001b[38;5;241m=\u001b[39m \u001b[38;5;28;01mNone\u001b[39;00m\n\u001b[0;32m     64\u001b[0m \u001b[38;5;28;01mtry\u001b[39;00m:\n\u001b[1;32m---> 65\u001b[0m     \u001b[38;5;28;01mreturn\u001b[39;00m fn(\u001b[38;5;241m*\u001b[39margs, \u001b[38;5;241m*\u001b[39m\u001b[38;5;241m*\u001b[39mkwargs)\n\u001b[0;32m     66\u001b[0m \u001b[38;5;28;01mexcept\u001b[39;00m \u001b[38;5;167;01mException\u001b[39;00m \u001b[38;5;28;01mas\u001b[39;00m e:\n\u001b[0;32m     67\u001b[0m     filtered_tb \u001b[38;5;241m=\u001b[39m _process_traceback_frames(e\u001b[38;5;241m.\u001b[39m__traceback__)\n",
      "File \u001b[1;32mD:\\ml2\\ml2\\lib\\site-packages\\keras\\engine\\training.py:1650\u001b[0m, in \u001b[0;36mModel.fit\u001b[1;34m(self, x, y, batch_size, epochs, verbose, callbacks, validation_split, validation_data, shuffle, class_weight, sample_weight, initial_epoch, steps_per_epoch, validation_steps, validation_batch_size, validation_freq, max_queue_size, workers, use_multiprocessing)\u001b[0m\n\u001b[0;32m   1642\u001b[0m \u001b[38;5;28;01mwith\u001b[39;00m tf\u001b[38;5;241m.\u001b[39mprofiler\u001b[38;5;241m.\u001b[39mexperimental\u001b[38;5;241m.\u001b[39mTrace(\n\u001b[0;32m   1643\u001b[0m     \u001b[38;5;124m\"\u001b[39m\u001b[38;5;124mtrain\u001b[39m\u001b[38;5;124m\"\u001b[39m,\n\u001b[0;32m   1644\u001b[0m     epoch_num\u001b[38;5;241m=\u001b[39mepoch,\n\u001b[1;32m   (...)\u001b[0m\n\u001b[0;32m   1647\u001b[0m     _r\u001b[38;5;241m=\u001b[39m\u001b[38;5;241m1\u001b[39m,\n\u001b[0;32m   1648\u001b[0m ):\n\u001b[0;32m   1649\u001b[0m     callbacks\u001b[38;5;241m.\u001b[39mon_train_batch_begin(step)\n\u001b[1;32m-> 1650\u001b[0m     tmp_logs \u001b[38;5;241m=\u001b[39m \u001b[38;5;28;43mself\u001b[39;49m\u001b[38;5;241;43m.\u001b[39;49m\u001b[43mtrain_function\u001b[49m\u001b[43m(\u001b[49m\u001b[43miterator\u001b[49m\u001b[43m)\u001b[49m\n\u001b[0;32m   1651\u001b[0m     \u001b[38;5;28;01mif\u001b[39;00m data_handler\u001b[38;5;241m.\u001b[39mshould_sync:\n\u001b[0;32m   1652\u001b[0m         context\u001b[38;5;241m.\u001b[39masync_wait()\n",
      "File \u001b[1;32mD:\\ml2\\ml2\\lib\\site-packages\\tensorflow\\python\\util\\traceback_utils.py:150\u001b[0m, in \u001b[0;36mfilter_traceback.<locals>.error_handler\u001b[1;34m(*args, **kwargs)\u001b[0m\n\u001b[0;32m    148\u001b[0m filtered_tb \u001b[38;5;241m=\u001b[39m \u001b[38;5;28;01mNone\u001b[39;00m\n\u001b[0;32m    149\u001b[0m \u001b[38;5;28;01mtry\u001b[39;00m:\n\u001b[1;32m--> 150\u001b[0m   \u001b[38;5;28;01mreturn\u001b[39;00m fn(\u001b[38;5;241m*\u001b[39margs, \u001b[38;5;241m*\u001b[39m\u001b[38;5;241m*\u001b[39mkwargs)\n\u001b[0;32m    151\u001b[0m \u001b[38;5;28;01mexcept\u001b[39;00m \u001b[38;5;167;01mException\u001b[39;00m \u001b[38;5;28;01mas\u001b[39;00m e:\n\u001b[0;32m    152\u001b[0m   filtered_tb \u001b[38;5;241m=\u001b[39m _process_traceback_frames(e\u001b[38;5;241m.\u001b[39m__traceback__)\n",
      "File \u001b[1;32mD:\\ml2\\ml2\\lib\\site-packages\\tensorflow\\python\\eager\\polymorphic_function\\polymorphic_function.py:880\u001b[0m, in \u001b[0;36mFunction.__call__\u001b[1;34m(self, *args, **kwds)\u001b[0m\n\u001b[0;32m    877\u001b[0m compiler \u001b[38;5;241m=\u001b[39m \u001b[38;5;124m\"\u001b[39m\u001b[38;5;124mxla\u001b[39m\u001b[38;5;124m\"\u001b[39m \u001b[38;5;28;01mif\u001b[39;00m \u001b[38;5;28mself\u001b[39m\u001b[38;5;241m.\u001b[39m_jit_compile \u001b[38;5;28;01melse\u001b[39;00m \u001b[38;5;124m\"\u001b[39m\u001b[38;5;124mnonXla\u001b[39m\u001b[38;5;124m\"\u001b[39m\n\u001b[0;32m    879\u001b[0m \u001b[38;5;28;01mwith\u001b[39;00m OptionalXlaContext(\u001b[38;5;28mself\u001b[39m\u001b[38;5;241m.\u001b[39m_jit_compile):\n\u001b[1;32m--> 880\u001b[0m   result \u001b[38;5;241m=\u001b[39m \u001b[38;5;28mself\u001b[39m\u001b[38;5;241m.\u001b[39m_call(\u001b[38;5;241m*\u001b[39margs, \u001b[38;5;241m*\u001b[39m\u001b[38;5;241m*\u001b[39mkwds)\n\u001b[0;32m    882\u001b[0m new_tracing_count \u001b[38;5;241m=\u001b[39m \u001b[38;5;28mself\u001b[39m\u001b[38;5;241m.\u001b[39mexperimental_get_tracing_count()\n\u001b[0;32m    883\u001b[0m without_tracing \u001b[38;5;241m=\u001b[39m (tracing_count \u001b[38;5;241m==\u001b[39m new_tracing_count)\n",
      "File \u001b[1;32mD:\\ml2\\ml2\\lib\\site-packages\\tensorflow\\python\\eager\\polymorphic_function\\polymorphic_function.py:912\u001b[0m, in \u001b[0;36mFunction._call\u001b[1;34m(self, *args, **kwds)\u001b[0m\n\u001b[0;32m    909\u001b[0m   \u001b[38;5;28mself\u001b[39m\u001b[38;5;241m.\u001b[39m_lock\u001b[38;5;241m.\u001b[39mrelease()\n\u001b[0;32m    910\u001b[0m   \u001b[38;5;66;03m# In this case we have created variables on the first call, so we run the\u001b[39;00m\n\u001b[0;32m    911\u001b[0m   \u001b[38;5;66;03m# defunned version which is guaranteed to never create variables.\u001b[39;00m\n\u001b[1;32m--> 912\u001b[0m   \u001b[38;5;28;01mreturn\u001b[39;00m \u001b[38;5;28mself\u001b[39m\u001b[38;5;241m.\u001b[39m_no_variable_creation_fn(\u001b[38;5;241m*\u001b[39margs, \u001b[38;5;241m*\u001b[39m\u001b[38;5;241m*\u001b[39mkwds)  \u001b[38;5;66;03m# pylint: disable=not-callable\u001b[39;00m\n\u001b[0;32m    913\u001b[0m \u001b[38;5;28;01melif\u001b[39;00m \u001b[38;5;28mself\u001b[39m\u001b[38;5;241m.\u001b[39m_variable_creation_fn \u001b[38;5;129;01mis\u001b[39;00m \u001b[38;5;129;01mnot\u001b[39;00m \u001b[38;5;28;01mNone\u001b[39;00m:\n\u001b[0;32m    914\u001b[0m   \u001b[38;5;66;03m# Release the lock early so that multiple threads can perform the call\u001b[39;00m\n\u001b[0;32m    915\u001b[0m   \u001b[38;5;66;03m# in parallel.\u001b[39;00m\n\u001b[0;32m    916\u001b[0m   \u001b[38;5;28mself\u001b[39m\u001b[38;5;241m.\u001b[39m_lock\u001b[38;5;241m.\u001b[39mrelease()\n",
      "File \u001b[1;32mD:\\ml2\\ml2\\lib\\site-packages\\tensorflow\\python\\eager\\polymorphic_function\\tracing_compiler.py:134\u001b[0m, in \u001b[0;36mTracingCompiler.__call__\u001b[1;34m(self, *args, **kwargs)\u001b[0m\n\u001b[0;32m    131\u001b[0m \u001b[38;5;28;01mwith\u001b[39;00m \u001b[38;5;28mself\u001b[39m\u001b[38;5;241m.\u001b[39m_lock:\n\u001b[0;32m    132\u001b[0m   (concrete_function,\n\u001b[0;32m    133\u001b[0m    filtered_flat_args) \u001b[38;5;241m=\u001b[39m \u001b[38;5;28mself\u001b[39m\u001b[38;5;241m.\u001b[39m_maybe_define_function(args, kwargs)\n\u001b[1;32m--> 134\u001b[0m \u001b[38;5;28;01mreturn\u001b[39;00m \u001b[43mconcrete_function\u001b[49m\u001b[38;5;241;43m.\u001b[39;49m\u001b[43m_call_flat\u001b[49m\u001b[43m(\u001b[49m\n\u001b[0;32m    135\u001b[0m \u001b[43m    \u001b[49m\u001b[43mfiltered_flat_args\u001b[49m\u001b[43m,\u001b[49m\u001b[43m \u001b[49m\u001b[43mcaptured_inputs\u001b[49m\u001b[38;5;241;43m=\u001b[39;49m\u001b[43mconcrete_function\u001b[49m\u001b[38;5;241;43m.\u001b[39;49m\u001b[43mcaptured_inputs\u001b[49m\u001b[43m)\u001b[49m\n",
      "File \u001b[1;32mD:\\ml2\\ml2\\lib\\site-packages\\tensorflow\\python\\eager\\polymorphic_function\\monomorphic_function.py:1745\u001b[0m, in \u001b[0;36mConcreteFunction._call_flat\u001b[1;34m(self, args, captured_inputs, cancellation_manager)\u001b[0m\n\u001b[0;32m   1741\u001b[0m possible_gradient_type \u001b[38;5;241m=\u001b[39m gradients_util\u001b[38;5;241m.\u001b[39mPossibleTapeGradientTypes(args)\n\u001b[0;32m   1742\u001b[0m \u001b[38;5;28;01mif\u001b[39;00m (possible_gradient_type \u001b[38;5;241m==\u001b[39m gradients_util\u001b[38;5;241m.\u001b[39mPOSSIBLE_GRADIENT_TYPES_NONE\n\u001b[0;32m   1743\u001b[0m     \u001b[38;5;129;01mand\u001b[39;00m executing_eagerly):\n\u001b[0;32m   1744\u001b[0m   \u001b[38;5;66;03m# No tape is watching; skip to running the function.\u001b[39;00m\n\u001b[1;32m-> 1745\u001b[0m   \u001b[38;5;28;01mreturn\u001b[39;00m \u001b[38;5;28mself\u001b[39m\u001b[38;5;241m.\u001b[39m_build_call_outputs(\u001b[38;5;28;43mself\u001b[39;49m\u001b[38;5;241;43m.\u001b[39;49m\u001b[43m_inference_function\u001b[49m\u001b[38;5;241;43m.\u001b[39;49m\u001b[43mcall\u001b[49m\u001b[43m(\u001b[49m\n\u001b[0;32m   1746\u001b[0m \u001b[43m      \u001b[49m\u001b[43mctx\u001b[49m\u001b[43m,\u001b[49m\u001b[43m \u001b[49m\u001b[43margs\u001b[49m\u001b[43m,\u001b[49m\u001b[43m \u001b[49m\u001b[43mcancellation_manager\u001b[49m\u001b[38;5;241;43m=\u001b[39;49m\u001b[43mcancellation_manager\u001b[49m\u001b[43m)\u001b[49m)\n\u001b[0;32m   1747\u001b[0m forward_backward \u001b[38;5;241m=\u001b[39m \u001b[38;5;28mself\u001b[39m\u001b[38;5;241m.\u001b[39m_select_forward_and_backward_functions(\n\u001b[0;32m   1748\u001b[0m     args,\n\u001b[0;32m   1749\u001b[0m     possible_gradient_type,\n\u001b[0;32m   1750\u001b[0m     executing_eagerly)\n\u001b[0;32m   1751\u001b[0m forward_function, args_with_tangents \u001b[38;5;241m=\u001b[39m forward_backward\u001b[38;5;241m.\u001b[39mforward()\n",
      "File \u001b[1;32mD:\\ml2\\ml2\\lib\\site-packages\\tensorflow\\python\\eager\\polymorphic_function\\monomorphic_function.py:378\u001b[0m, in \u001b[0;36m_EagerDefinedFunction.call\u001b[1;34m(self, ctx, args, cancellation_manager)\u001b[0m\n\u001b[0;32m    376\u001b[0m \u001b[38;5;28;01mwith\u001b[39;00m _InterpolateFunctionError(\u001b[38;5;28mself\u001b[39m):\n\u001b[0;32m    377\u001b[0m   \u001b[38;5;28;01mif\u001b[39;00m cancellation_manager \u001b[38;5;129;01mis\u001b[39;00m \u001b[38;5;28;01mNone\u001b[39;00m:\n\u001b[1;32m--> 378\u001b[0m     outputs \u001b[38;5;241m=\u001b[39m \u001b[43mexecute\u001b[49m\u001b[38;5;241;43m.\u001b[39;49m\u001b[43mexecute\u001b[49m\u001b[43m(\u001b[49m\n\u001b[0;32m    379\u001b[0m \u001b[43m        \u001b[49m\u001b[38;5;28;43mstr\u001b[39;49m\u001b[43m(\u001b[49m\u001b[38;5;28;43mself\u001b[39;49m\u001b[38;5;241;43m.\u001b[39;49m\u001b[43msignature\u001b[49m\u001b[38;5;241;43m.\u001b[39;49m\u001b[43mname\u001b[49m\u001b[43m)\u001b[49m\u001b[43m,\u001b[49m\n\u001b[0;32m    380\u001b[0m \u001b[43m        \u001b[49m\u001b[43mnum_outputs\u001b[49m\u001b[38;5;241;43m=\u001b[39;49m\u001b[38;5;28;43mself\u001b[39;49m\u001b[38;5;241;43m.\u001b[39;49m\u001b[43m_num_outputs\u001b[49m\u001b[43m,\u001b[49m\n\u001b[0;32m    381\u001b[0m \u001b[43m        \u001b[49m\u001b[43minputs\u001b[49m\u001b[38;5;241;43m=\u001b[39;49m\u001b[43margs\u001b[49m\u001b[43m,\u001b[49m\n\u001b[0;32m    382\u001b[0m \u001b[43m        \u001b[49m\u001b[43mattrs\u001b[49m\u001b[38;5;241;43m=\u001b[39;49m\u001b[43mattrs\u001b[49m\u001b[43m,\u001b[49m\n\u001b[0;32m    383\u001b[0m \u001b[43m        \u001b[49m\u001b[43mctx\u001b[49m\u001b[38;5;241;43m=\u001b[39;49m\u001b[43mctx\u001b[49m\u001b[43m)\u001b[49m\n\u001b[0;32m    384\u001b[0m   \u001b[38;5;28;01melse\u001b[39;00m:\n\u001b[0;32m    385\u001b[0m     outputs \u001b[38;5;241m=\u001b[39m execute\u001b[38;5;241m.\u001b[39mexecute_with_cancellation(\n\u001b[0;32m    386\u001b[0m         \u001b[38;5;28mstr\u001b[39m(\u001b[38;5;28mself\u001b[39m\u001b[38;5;241m.\u001b[39msignature\u001b[38;5;241m.\u001b[39mname),\n\u001b[0;32m    387\u001b[0m         num_outputs\u001b[38;5;241m=\u001b[39m\u001b[38;5;28mself\u001b[39m\u001b[38;5;241m.\u001b[39m_num_outputs,\n\u001b[1;32m   (...)\u001b[0m\n\u001b[0;32m    390\u001b[0m         ctx\u001b[38;5;241m=\u001b[39mctx,\n\u001b[0;32m    391\u001b[0m         cancellation_manager\u001b[38;5;241m=\u001b[39mcancellation_manager)\n",
      "File \u001b[1;32mD:\\ml2\\ml2\\lib\\site-packages\\tensorflow\\python\\eager\\execute.py:52\u001b[0m, in \u001b[0;36mquick_execute\u001b[1;34m(op_name, num_outputs, inputs, attrs, ctx, name)\u001b[0m\n\u001b[0;32m     50\u001b[0m \u001b[38;5;28;01mtry\u001b[39;00m:\n\u001b[0;32m     51\u001b[0m   ctx\u001b[38;5;241m.\u001b[39mensure_initialized()\n\u001b[1;32m---> 52\u001b[0m   tensors \u001b[38;5;241m=\u001b[39m \u001b[43mpywrap_tfe\u001b[49m\u001b[38;5;241;43m.\u001b[39;49m\u001b[43mTFE_Py_Execute\u001b[49m\u001b[43m(\u001b[49m\u001b[43mctx\u001b[49m\u001b[38;5;241;43m.\u001b[39;49m\u001b[43m_handle\u001b[49m\u001b[43m,\u001b[49m\u001b[43m \u001b[49m\u001b[43mdevice_name\u001b[49m\u001b[43m,\u001b[49m\u001b[43m \u001b[49m\u001b[43mop_name\u001b[49m\u001b[43m,\u001b[49m\n\u001b[0;32m     53\u001b[0m \u001b[43m                                      \u001b[49m\u001b[43minputs\u001b[49m\u001b[43m,\u001b[49m\u001b[43m \u001b[49m\u001b[43mattrs\u001b[49m\u001b[43m,\u001b[49m\u001b[43m \u001b[49m\u001b[43mnum_outputs\u001b[49m\u001b[43m)\u001b[49m\n\u001b[0;32m     54\u001b[0m \u001b[38;5;28;01mexcept\u001b[39;00m core\u001b[38;5;241m.\u001b[39m_NotOkStatusException \u001b[38;5;28;01mas\u001b[39;00m e:\n\u001b[0;32m     55\u001b[0m   \u001b[38;5;28;01mif\u001b[39;00m name \u001b[38;5;129;01mis\u001b[39;00m \u001b[38;5;129;01mnot\u001b[39;00m \u001b[38;5;28;01mNone\u001b[39;00m:\n",
      "\u001b[1;31mKeyboardInterrupt\u001b[0m: "
     ]
    }
   ],
   "source": [
    "model.fit(trainX, Y_train, epochs = 100, batch_size = 1)"
   ]
  },
  {
   "cell_type": "markdown",
   "id": "83553b18",
   "metadata": {
    "papermill": {
     "duration": 0.305485,
     "end_time": "2022-09-08T14:57:13.232372",
     "exception": false,
     "start_time": "2022-09-08T14:57:12.926887",
     "status": "completed"
    },
    "tags": []
   },
   "source": [
    "## Predictions And Visualising LSTM Model"
   ]
  },
  {
   "cell_type": "code",
   "execution_count": null,
   "id": "0a5e72d4",
   "metadata": {
    "papermill": {
     "duration": 0.703389,
     "end_time": "2022-09-08T14:57:14.239983",
     "exception": false,
     "start_time": "2022-09-08T14:57:13.536594",
     "status": "completed"
    },
    "tags": []
   },
   "outputs": [],
   "source": [
    "# Prepare test dataset\n",
    "testX = np.array(X_test)\n",
    "testX = testX.reshape(testX.shape[0], 1, testX.shape[1])\n",
    "\n",
    "# Predict with testX\n",
    "predict_lstm = model.predict(testX)\n",
    "predict_lstm = scaler.inverse_transform(predict_lstm)"
   ]
  },
  {
   "cell_type": "markdown",
   "id": "2f3efcf3",
   "metadata": {
    "papermill": {
     "duration": 0.302704,
     "end_time": "2022-09-08T14:57:14.848332",
     "exception": false,
     "start_time": "2022-09-08T14:57:14.545628",
     "status": "completed"
    },
    "tags": []
   },
   "source": [
    "Visualize the result on the test dataset:"
   ]
  },
  {
   "cell_type": "code",
   "execution_count": null,
   "id": "97c123ff",
   "metadata": {
    "papermill": {
     "duration": 0.513471,
     "end_time": "2022-09-08T14:57:15.666719",
     "exception": false,
     "start_time": "2022-09-08T14:57:15.153248",
     "status": "completed"
    },
    "tags": []
   },
   "outputs": [],
   "source": [
    "# visualising the results\n",
    "plt.figure(figsize=(8,3), dpi=150)\n",
    "plt.plot(test, color = \"#FFB533\", label = \"Real Google Stock Price\")\n",
    "plt.plot(predict_lstm, color = \"#33C4FF\", label = \"Predicted Google Stock Price\")\n",
    "plt.title(\"Google Stock Price Prediction\")\n",
    "plt.xlabel(\"Time\")\n",
    "plt.ylabel(\"Stock Price\")\n",
    "plt.grid(color='#ECECEC')\n",
    "plt.legend()\n",
    "plt.show()"
   ]
  },
  {
   "cell_type": "markdown",
   "id": "6e3807e3-29de-4745-9b2f-1f5d4785d729",
   "metadata": {},
   "source": [
    "# EXERCISE\n",
    "Add following [Callbacks](https://keras.io/api/callbacks/) to the models:\n",
    "1. EarlyStopping\n",
    "2. ModelCheckpoint\n",
    "3. TensorBoard"
   ]
  }
 ],
 "metadata": {
  "kernelspec": {
   "display_name": "Python 3 (ipykernel)",
   "language": "python",
   "name": "python3"
  },
  "language_info": {
   "codemirror_mode": {
    "name": "ipython",
    "version": 3
   },
   "file_extension": ".py",
   "mimetype": "text/x-python",
   "name": "python",
   "nbconvert_exporter": "python",
   "pygments_lexer": "ipython3",
   "version": "3.9.12"
  },
  "papermill": {
   "default_parameters": {},
   "duration": 571.368981,
   "end_time": "2022-09-08T14:57:19.481461",
   "environment_variables": {},
   "exception": null,
   "input_path": "__notebook__.ipynb",
   "output_path": "__notebook__.ipynb",
   "parameters": {},
   "start_time": "2022-09-08T14:47:48.112480",
   "version": "2.3.4"
  },
  "toc-autonumbering": true
 },
 "nbformat": 4,
 "nbformat_minor": 5
}
